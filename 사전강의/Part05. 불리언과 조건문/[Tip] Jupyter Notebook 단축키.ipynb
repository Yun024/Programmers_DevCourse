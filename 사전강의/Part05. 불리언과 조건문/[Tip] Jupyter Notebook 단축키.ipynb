{
 "cells": [
  {
   "cell_type": "markdown",
   "metadata": {},
   "source": [
    "### 소제목\n",
    "- 목록1\n",
    "- 목록2\n",
    "\n",
    "1. 목록1\n",
    "2. 목록2"
   ]
  },
  {
   "cell_type": "code",
   "execution_count": null,
   "metadata": {},
   "outputs": [
    {
     "data": {
      "text/plain": [
       "5"
      ]
     },
     "execution_count": 5,
     "metadata": {},
     "output_type": "execute_result"
    }
   ],
   "source": [
    "### 컨트롤 + 알트 + 방향키 하면 여러줄 같이 쓸 수 있음\n",
    "print(1)\n",
    "print(2)\n",
    "print(5)"
   ]
  },
  {
   "cell_type": "code",
   "execution_count": 8,
   "metadata": {},
   "outputs": [],
   "source": [
    "a = 3"
   ]
  },
  {
   "cell_type": "code",
   "execution_count": 9,
   "metadata": {},
   "outputs": [],
   "source": [
    "a += 1"
   ]
  },
  {
   "cell_type": "code",
   "execution_count": 11,
   "metadata": {},
   "outputs": [
    {
     "data": {
      "text/plain": [
       "4"
      ]
     },
     "execution_count": 11,
     "metadata": {},
     "output_type": "execute_result"
    }
   ],
   "source": [
    "a"
   ]
  },
  {
   "cell_type": "markdown",
   "metadata": {},
   "source": [
    "- esc: 셀 이동모드\n",
    "- a  : 현재 셀 위에 셀 추가\n",
    "- dd : 현재 셀 삭제\n",
    "- b  : 현재 셀 아래 셀 추가\n",
    "- x  : 현재 셀 잘라내기\n",
    "- c  : 현재 셀 복사하기\n",
    "- v  : 붙여넣기\n",
    "- z  : 되돌리기\n",
    "- m  : 현재 셀 마크다운 셀로 변경\n",
    "- y  : 현재 셀 파이썬 셀로 변경\n"
   ]
  }
 ],
 "metadata": {
  "kernelspec": {
   "display_name": "base",
   "language": "python",
   "name": "python3"
  },
  "language_info": {
   "codemirror_mode": {
    "name": "ipython",
    "version": 3
   },
   "file_extension": ".py",
   "mimetype": "text/x-python",
   "name": "python",
   "nbconvert_exporter": "python",
   "pygments_lexer": "ipython3",
   "version": "3.9.13"
  }
 },
 "nbformat": 4,
 "nbformat_minor": 2
}
