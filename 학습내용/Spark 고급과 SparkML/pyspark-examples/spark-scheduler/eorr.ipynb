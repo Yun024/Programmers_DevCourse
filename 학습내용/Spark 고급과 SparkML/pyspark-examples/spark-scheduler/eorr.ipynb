{
 "cells": [
  {
   "cell_type": "code",
   "execution_count": 2,
   "metadata": {},
   "outputs": [],
   "source": [
    "from pyspark.sql import SparkSession\n",
    "from pyspark.sql.functions import broadcast\n",
    "spark = SparkSession \\\n",
    "    .builder \\\n",
    "    .appName(\"Broadcast Join Demo\") \\\n",
    "    .master(\"local[3]\") \\\n",
    "    .config(\"spark.sql.shuffle.partitions\", 3) \\\n",
    "    .config(\"spark.sql.adaptive.enabled\", False) \\\n",
    "    .getOrCreate()"
   ]
  },
  {
   "cell_type": "code",
   "execution_count": 3,
   "metadata": {},
   "outputs": [],
   "source": [
    "df_large = spark.read.json(\"large_data/\")\n",
    "df_small = spark.read.json(\"broadcast.json\")"
   ]
  },
  {
   "cell_type": "code",
   "execution_count": 4,
   "metadata": {},
   "outputs": [
    {
     "name": "stdout",
     "output_type": "stream",
     "text": [
      "+---------+--------------------+------+\n",
      "|  channel|                  id|userid|\n",
      "+---------+--------------------+------+\n",
      "|  Youtube|917d68cb9d2c3c61b...|  1335|\n",
      "|Instagram|0c641035c350e80b6...|   778|\n",
      "|  Organic|0501b4e3f17a759d1...|  1229|\n",
      "|Instagram|78c18a4ed934f666d...|  1617|\n",
      "|  Youtube|a9d7c4baa7169b66f...|  2353|\n",
      "+---------+--------------------+------+\n",
      "only showing top 5 rows\n",
      "\n"
     ]
    }
   ],
   "source": [
    "df_large.show(5)"
   ]
  }
 ],
 "metadata": {
  "kernelspec": {
   "display_name": "Python 3",
   "language": "python",
   "name": "python3"
  },
  "language_info": {
   "codemirror_mode": {
    "name": "ipython",
    "version": 3
   },
   "file_extension": ".py",
   "mimetype": "text/x-python",
   "name": "python",
   "nbconvert_exporter": "python",
   "pygments_lexer": "ipython3",
   "version": "3.10.11"
  }
 },
 "nbformat": 4,
 "nbformat_minor": 2
}
