{
 "cells": [
  {
   "cell_type": "code",
   "execution_count": 2,
   "metadata": {},
   "outputs": [],
   "source": [
    "from pyspark.sql import SparkSession\n",
    "import pyspark.sql.functions as f\n",
    "from pyspark.sql.types import StructType, StructField, IntegerType, StringType\n",
    "\n",
    "spark = SparkSession.builder \\\n",
    "        .master(\"local[4]\") \\\n",
    "        .appName(\"PySpark Finding Super-hero\") \\\n",
    "        .getOrCreate()  "
   ]
  },
  {
   "cell_type": "code",
   "execution_count": 3,
   "metadata": {},
   "outputs": [],
   "source": [
    "marvel_name_schema = StructType([\n",
    "    StructField(\"id\", StringType(), True),\n",
    "    StructField(\"name\", StringType(), True)])"
   ]
  },
  {
   "cell_type": "code",
   "execution_count": 10,
   "metadata": {},
   "outputs": [
    {
     "name": "stdout",
     "output_type": "stream",
     "text": [
      "+---+--------------------+\n",
      "| id|                name|\n",
      "+---+--------------------+\n",
      "|  1|24-HOUR MAN/EMMANUEL|\n",
      "|  2|3-D MAN/CHARLES CHAN|\n",
      "|  3|    4-D MAN/MERCURIO|\n",
      "|  4|             8-BALL/|\n",
      "|  5|                   A|\n",
      "+---+--------------------+\n",
      "only showing top 5 rows\n",
      "\n"
     ]
    }
   ],
   "source": [
    "names = spark.read.schema(marvel_name_schema).option(\"sep\",\" \").csv(\"data/marvel_names.txt\")\n",
    "names.show(5)"
   ]
  },
  {
   "cell_type": "code",
   "execution_count": 9,
   "metadata": {},
   "outputs": [
    {
     "name": "stdout",
     "output_type": "stream",
     "text": [
      "+--------------------+\n",
      "|               value|\n",
      "+--------------------+\n",
      "|5988 748 1722 375...|\n",
      "|5989 4080 4264 44...|\n",
      "|5982 217 595 1194...|\n",
      "|5983 1165 3836 43...|\n",
      "|5980 2731 3712 15...|\n",
      "+--------------------+\n",
      "only showing top 5 rows\n",
      "\n"
     ]
    }
   ],
   "source": [
    "lines = spark.read.text(\"data/marvel_graph.txt\")\n",
    "lines.show(5)"
   ]
  },
  {
   "cell_type": "markdown",
   "metadata": {},
   "source": [
    "## SparkDataFrameAPI"
   ]
  },
  {
   "cell_type": "code",
   "execution_count": null,
   "metadata": {},
   "outputs": [],
   "source": [
    "id_connections = lines.withColumn(\"id\", f.split(f.trim(f.col(\"value\")), \" \")[0]) \\\n",
    "    .withColumn(\"connections\", f.size(f.split(f.trim(f.col(\"value\")), \" \")) -1)"
   ]
  },
  {
   "cell_type": "code",
   "execution_count": 17,
   "metadata": {},
   "outputs": [
    {
     "name": "stdout",
     "output_type": "stream",
     "text": [
      "+----+-----------+\n",
      "|  id|connections|\n",
      "+----+-----------+\n",
      "|5988|         48|\n",
      "|5989|         40|\n",
      "|5982|         42|\n",
      "|5983|         14|\n",
      "|5980|         24|\n",
      "+----+-----------+\n",
      "only showing top 5 rows\n",
      "\n"
     ]
    }
   ],
   "source": [
    "id_connections.select(\"id\",\"connections\").show(5)"
   ]
  },
  {
   "cell_type": "code",
   "execution_count": 18,
   "metadata": {},
   "outputs": [
    {
     "name": "stdout",
     "output_type": "stream",
     "text": [
      "+----+-----------+\n",
      "|  id|connections|\n",
      "+----+-----------+\n",
      "| 691|          6|\n",
      "|1159|         11|\n",
      "|3959|        142|\n",
      "|1572|         35|\n",
      "|2294|         14|\n",
      "+----+-----------+\n",
      "only showing top 5 rows\n",
      "\n"
     ]
    }
   ],
   "source": [
    "connections = id_connections.groupBy(\"id\").agg(f.sum(\"connections\").alias(\"connections\"))\n",
    "connections.show(5)"
   ]
  },
  {
   "cell_type": "code",
   "execution_count": 19,
   "metadata": {},
   "outputs": [
    {
     "data": {
      "text/plain": [
       "Row(id='859', connections=1933)"
      ]
     },
     "execution_count": 19,
     "metadata": {},
     "output_type": "execute_result"
    }
   ],
   "source": [
    "mostPopular = connections.sort(f.col(\"connections\").desc()).first()\n",
    "mostPopular"
   ]
  },
  {
   "cell_type": "code",
   "execution_count": 20,
   "metadata": {},
   "outputs": [
    {
     "name": "stdout",
     "output_type": "stream",
     "text": [
      "CAPTAIN AMERICA가 가장 인기있는 수퍼히어로이며 총 1933번 다른 히어로들과 출연했습니다\n"
     ]
    }
   ],
   "source": [
    "mostPopularName = names.filter(f.col(\"id\") == mostPopular[0]).select(\"name\").first()\n",
    "print(mostPopularName[0] + \"가 가장 인기있는 수퍼히어로이며 총 \" + str(mostPopular[1]) + \"번 다른 히어로들과 출연했습니다\")"
   ]
  },
  {
   "cell_type": "markdown",
   "metadata": {},
   "source": [
    "## SparkSQL"
   ]
  },
  {
   "cell_type": "code",
   "execution_count": 21,
   "metadata": {},
   "outputs": [],
   "source": [
    "id_connections.createOrReplaceTempView(\"id_connections\")\n",
    "names.createOrReplaceTempView(\"names\")"
   ]
  },
  {
   "cell_type": "code",
   "execution_count": 22,
   "metadata": {},
   "outputs": [
    {
     "name": "stdout",
     "output_type": "stream",
     "text": [
      "+----+--------------------+----------------+\n",
      "|  id|                name|sum(connections)|\n",
      "+----+--------------------+----------------+\n",
      "| 859|     CAPTAIN AMERICA|            1933|\n",
      "|5306|SPIDER-MAN/PETER PAR|            1741|\n",
      "|2664|IRON MAN/TONY STARK |            1528|\n",
      "|5716|THING/BENJAMIN J. GR|            1426|\n",
      "|6306|    WOLVERINE/LOGAN |            1394|\n",
      "|3805|MR. FANTASTIC/REED R|            1386|\n",
      "|2557|HUMAN TORCH/JOHNNY S|            1371|\n",
      "|4898|SCARLET WITCH/WANDA |            1345|\n",
      "|5736|THOR/DR. DONALD BLAK|            1289|\n",
      "| 403|BEAST/HENRY &HANK& P|            1280|\n",
      "|6066|             VISION |            1263|\n",
      "|2650|INVISIBLE WOMAN/SUE |            1244|\n",
      "|2399|                HAWK|            1176|\n",
      "|1289|CYCLOPS/SCOTT SUMMER|            1104|\n",
      "|5467|STORM/ORORO MUNROE S|            1095|\n",
      "| 133|ANGEL/WARREN KENNETH|            1094|\n",
      "|6148|WASP/JANET VAN DYNE |            1093|\n",
      "| 154|ANT-MAN/DR. HENRY J.|            1092|\n",
      "|5046|SHE-HULK/JENNIFER WA|            1080|\n",
      "|1602|DR. STRANGE/STEPHEN |            1079|\n",
      "+----+--------------------+----------------+\n",
      "only showing top 20 rows\n",
      "\n"
     ]
    }
   ],
   "source": [
    "spark.sql(\"\"\"\n",
    "SELECT c.id, n.name, SUM(c.connections)\n",
    "FROM id_connections c\n",
    "JOIN names n ON c.id = n.id\n",
    "GROUP BY 1, 2\n",
    "ORDER BY 3 DESC\"\"\").show()"
   ]
  },
  {
   "cell_type": "markdown",
   "metadata": {},
   "source": [
    "## UDF를 사용해서 히어로 ID를 룩업해보자"
   ]
  },
  {
   "cell_type": "code",
   "execution_count": 24,
   "metadata": {},
   "outputs": [
    {
     "data": {
      "text/plain": [
       "19428"
      ]
     },
     "execution_count": 24,
     "metadata": {},
     "output_type": "execute_result"
    }
   ],
   "source": [
    "id2Names = names.rdd.collectAsMap()\n",
    "len(id2Names)"
   ]
  },
  {
   "cell_type": "code",
   "execution_count": 25,
   "metadata": {},
   "outputs": [
    {
     "name": "stdout",
     "output_type": "stream",
     "text": [
      "1 24-HOUR MAN/EMMANUEL\n",
      "2 3-D MAN/CHARLES CHAN\n",
      "3 4-D MAN/MERCURIO\n",
      "4 8-BALL/\n",
      "5 A\n",
      "6 A'YIN\n",
      "7 ABBOTT, JACK\n",
      "8 ABCISSA\n",
      "9 ABEL\n",
      "10 ABOMINATION/EMIL BLO\n"
     ]
    }
   ],
   "source": [
    "for idx, id in enumerate(id2Names):\n",
    "    if idx >= 10:\n",
    "        break\n",
    "    print(id, id2Names[id])"
   ]
  },
  {
   "cell_type": "code",
   "execution_count": 28,
   "metadata": {},
   "outputs": [
    {
     "data": {
      "text/plain": [
       "<pyspark.broadcast.Broadcast at 0x1a8227e5390>"
      ]
     },
     "execution_count": 28,
     "metadata": {},
     "output_type": "execute_result"
    }
   ],
   "source": [
    "broadcast_id2Names = spark.sparkContext.broadcast(id2Names)\n",
    "broadcast_id2Names"
   ]
  },
  {
   "cell_type": "code",
   "execution_count": 29,
   "metadata": {},
   "outputs": [
    {
     "data": {
      "text/plain": [
       "'CAPTAIN AMERICA'"
      ]
     },
     "execution_count": 29,
     "metadata": {},
     "output_type": "execute_result"
    }
   ],
   "source": [
    "broadcast_id2Names.value.get(\"859\")"
   ]
  },
  {
   "cell_type": "code",
   "execution_count": null,
   "metadata": {},
   "outputs": [],
   "source": [
    "def returnName(id: str) -> str:\n",
    "    return broadcast_id2Names.value.get(id)"
   ]
  },
  {
   "cell_type": "code",
   "execution_count": null,
   "metadata": {},
   "outputs": [],
   "source": [
    "spark.udf.register(\"returnName\", returnName, StringType())"
   ]
  },
  {
   "cell_type": "code",
   "execution_count": 31,
   "metadata": {},
   "outputs": [
    {
     "name": "stdout",
     "output_type": "stream",
     "text": [
      "+--------------------+----+-----------+--------------------+\n",
      "|               value|  id|connections|                name|\n",
      "+--------------------+----+-----------+--------------------+\n",
      "|5988 748 1722 375...|5988|         48|VALKYRIE II | MUTANT|\n",
      "|5989 4080 4264 44...|5989|         40|         VALKYRIE IV|\n",
      "|5982 217 595 1194...|5982|         42|VAGABOND/PRISCILLA L|\n",
      "|5983 1165 3836 43...|5983|         14|              VAGUE/|\n",
      "|5980 2731 3712 15...|5980|         24|         UTGARD-LOKI|\n",
      "|5981 3569 5353 40...|5981|         17|              VACUUM|\n",
      "|5986 2658 3712 26...|5986|        142|             VALINOR|\n",
      "|5987 2614 5716 17...|5987|         81|              VALKIN|\n",
      "|5984 590 4898 745...|5984|         41|              VAKUME|\n",
      "|5985 3233 2254 21...|5985|         19|             VALERIA|\n",
      "|6294 4898 1127 32...|6294|         13|WOLF SPIRIT/OWAYODAT|\n",
      "|270 2658 3003 380...| 270|         42|AUGUST PERSONAGE IN |\n",
      "|271 4935 5716 430...| 271|          9|      AUNTIE FREEZE/|\n",
      "|272 2717 4363 408...| 272|         45|       AURA/ANN HERD|\n",
      "|273 1165 5013 511...| 273|         58|              AURIC/|\n",
      "|274 3920 5310 402...| 274|        410|AURORA/JEANNE-MARIE |\n",
      "|275 4366 3373 158...| 275|         47| AURORA DOPPELGANGER|\n",
      "|276 2277 5251 480...| 276|         15|AURORA | MUTANT X-VE|\n",
      "|277 1068 3495 619...| 277|         16|        AUSTIN, GEN.|\n",
      "|278 1145 667 2650...| 278|        123|       AUSTIN, SUSAN|\n",
      "+--------------------+----+-----------+--------------------+\n",
      "only showing top 20 rows\n",
      "\n"
     ]
    }
   ],
   "source": [
    "id_connections.withColumn(\"name\", f.expr(\"returnName(id)\")).show()"
   ]
  },
  {
   "cell_type": "code",
   "execution_count": null,
   "metadata": {},
   "outputs": [],
   "source": [
    "def returnName(id: str) -> str:\n",
    "    return id2Names.get(id)"
   ]
  },
  {
   "cell_type": "code",
   "execution_count": 33,
   "metadata": {},
   "outputs": [
    {
     "data": {
      "text/plain": [
       "<function __main__.returnName(id: str) -> str>"
      ]
     },
     "execution_count": 33,
     "metadata": {},
     "output_type": "execute_result"
    }
   ],
   "source": [
    "spark.udf.register(\"returnName\", returnName, StringType())"
   ]
  },
  {
   "cell_type": "code",
   "execution_count": 34,
   "metadata": {},
   "outputs": [
    {
     "name": "stdout",
     "output_type": "stream",
     "text": [
      "+--------------------+----+-----------+--------------------+\n",
      "|               value|  id|connections|                name|\n",
      "+--------------------+----+-----------+--------------------+\n",
      "|5988 748 1722 375...|5988|         48|VALKYRIE II | MUTANT|\n",
      "|5989 4080 4264 44...|5989|         40|         VALKYRIE IV|\n",
      "|5982 217 595 1194...|5982|         42|VAGABOND/PRISCILLA L|\n",
      "|5983 1165 3836 43...|5983|         14|              VAGUE/|\n",
      "|5980 2731 3712 15...|5980|         24|         UTGARD-LOKI|\n",
      "|5981 3569 5353 40...|5981|         17|              VACUUM|\n",
      "|5986 2658 3712 26...|5986|        142|             VALINOR|\n",
      "|5987 2614 5716 17...|5987|         81|              VALKIN|\n",
      "|5984 590 4898 745...|5984|         41|              VAKUME|\n",
      "|5985 3233 2254 21...|5985|         19|             VALERIA|\n",
      "|6294 4898 1127 32...|6294|         13|WOLF SPIRIT/OWAYODAT|\n",
      "|270 2658 3003 380...| 270|         42|AUGUST PERSONAGE IN |\n",
      "|271 4935 5716 430...| 271|          9|      AUNTIE FREEZE/|\n",
      "|272 2717 4363 408...| 272|         45|       AURA/ANN HERD|\n",
      "|273 1165 5013 511...| 273|         58|              AURIC/|\n",
      "|274 3920 5310 402...| 274|        410|AURORA/JEANNE-MARIE |\n",
      "|275 4366 3373 158...| 275|         47| AURORA DOPPELGANGER|\n",
      "|276 2277 5251 480...| 276|         15|AURORA | MUTANT X-VE|\n",
      "|277 1068 3495 619...| 277|         16|        AUSTIN, GEN.|\n",
      "|278 1145 667 2650...| 278|        123|       AUSTIN, SUSAN|\n",
      "+--------------------+----+-----------+--------------------+\n",
      "only showing top 20 rows\n",
      "\n"
     ]
    }
   ],
   "source": [
    "id_connections.withColumn(\"name\", f.expr(\"returnName(id)\")).show()"
   ]
  },
  {
   "cell_type": "code",
   "execution_count": null,
   "metadata": {},
   "outputs": [],
   "source": []
  }
 ],
 "metadata": {
  "kernelspec": {
   "display_name": "Python 3",
   "language": "python",
   "name": "python3"
  },
  "language_info": {
   "codemirror_mode": {
    "name": "ipython",
    "version": 3
   },
   "file_extension": ".py",
   "mimetype": "text/x-python",
   "name": "python",
   "nbconvert_exporter": "python",
   "pygments_lexer": "ipython3",
   "version": "3.10.11"
  }
 },
 "nbformat": 4,
 "nbformat_minor": 2
}
