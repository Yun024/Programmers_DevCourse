{
 "cells": [
  {
   "cell_type": "markdown",
   "metadata": {
    "id": "EVuF1_D9zWBV"
   },
   "source": [
    "주피터 SQL 엔진 설정"
   ]
  },
  {
   "cell_type": "markdown",
   "metadata": {
    "id": "wQuoSJOqPyPJ"
   },
   "source": [
    "2023년 4월에 Google Colab의 SQLAlchemy 버전이 2.0.10으로 업그레이드되면서 이게 다른 모듈들과 충돌을 내기 시작했습니다. 이 문제 때문에 1.4.47로 다운그레이드하고 Google Colab Runtime을 재시작해주어야 합니다. 2023년 10월에 Google Colab 버전이 또 바뀌면서 다른 문제가 생겨서 ipython-sql 버전도 바꾸어야 합니다.\n",
    "\n",
    "재설치가 끝나면 하단에 Restart runtime 버튼이 나올텐데 그걸 클릭하고 뒤부터 이어서 실행해주면 됩니다."
   ]
  },
  {
   "cell_type": "code",
   "execution_count": null,
   "metadata": {
    "id": "z_LpiXYTPLJ3"
   },
   "outputs": [],
   "source": [
    "!pip install ipython-sql==0.4.1\n",
    "!pip install SQLAlchemy==1.4.49"
   ]
  },
  {
   "cell_type": "code",
   "execution_count": null,
   "metadata": {
    "id": "wOS9-QY1amnt"
   },
   "outputs": [],
   "source": [
    "%load_ext sql"
   ]
  },
  {
   "cell_type": "markdown",
   "metadata": {
    "id": "bmS7kKUHzi1S"
   },
   "source": [
    "다양한 SELECT 실행해보기"
   ]
  },
  {
   "cell_type": "code",
   "execution_count": null,
   "metadata": {
    "id": "mPtvJEvubNoV"
   },
   "outputs": [],
   "source": [
    "%%sql\n",
    "\n",
    "SELECT count(*)\n",
    "FROM raw_data.user_session_channel;"
   ]
  },
  {
   "cell_type": "code",
   "execution_count": null,
   "metadata": {
    "id": "nYIP06ni_8Y6"
   },
   "outputs": [],
   "source": [
    "%%sql\n",
    "\n",
    "SELECT userId, sessionId, channel\n",
    "FROM raw_data.user_session_channel"
   ]
  },
  {
   "cell_type": "code",
   "execution_count": null,
   "metadata": {
    "id": "4H3io0MyACTX"
   },
   "outputs": [],
   "source": [
    "%%sql\n",
    "\n",
    "SELECT *\n",
    "FROM raw_data.user_session_channel\n",
    "LIMIT 10;"
   ]
  },
  {
   "cell_type": "code",
   "execution_count": null,
   "metadata": {
    "id": "A8xQS2XcAIPc"
   },
   "outputs": [],
   "source": [
    "%%sql\n",
    "\n",
    "SELECT DISTINCT channel                      -- 유일한 채널 이름을 알고 싶은 경우\n",
    "FROM raw_data.user_session_channel;"
   ]
  },
  {
   "cell_type": "code",
   "execution_count": null,
   "metadata": {
    "id": "PA0bCDp8AM9D"
   },
   "outputs": [],
   "source": [
    "%%sql\n",
    "\n",
    "SELECT channel, COUNT(1)                    -- 채널별 카운트를 하고 싶은 경우. COUNT 함수!!\n",
    "FROM raw_data.user_session_channel\n",
    "GROUP BY channel\n",
    "ORDER BY channel;"
   ]
  },
  {
   "cell_type": "code",
   "execution_count": null,
   "metadata": {
    "id": "6b_295R9AUWr"
   },
   "outputs": [],
   "source": [
    "%%sql\n",
    "\n",
    "SELECT COUNT(1)                    -- 테이블의 모든 레코드 수 카운트. COUNT(*). 하나의 레코드\n",
    "FROM raw_data.user_session_channel;"
   ]
  },
  {
   "cell_type": "code",
   "execution_count": null,
   "metadata": {
    "id": "f39JGhMgAZyP"
   },
   "outputs": [],
   "source": [
    "%%sql\n",
    "\n",
    "SELECT COUNT(1)\n",
    "FROM raw_data.user_session_channel\n",
    "WHERE channel = 'Facebook';"
   ]
  },
  {
   "cell_type": "code",
   "execution_count": null,
   "metadata": {
    "id": "ntnMfT8ZAhEa"
   },
   "outputs": [],
   "source": [
    "%%sql\n",
    "\n",
    "SELECT\n",
    "  channel,\n",
    "  CASE\n",
    "    WHEN channel in ('Facebook', 'Instagram') THEN 'Social-Media'\n",
    "    WHEN channel in ('Google', 'Naver') THEN 'Search-Engine'\n",
    "    ELSE 'Something-Else'\n",
    "END channel_type\n",
    "FROM raw_data.user_session_channel\n",
    "LIMIT 100;"
   ]
  },
  {
   "cell_type": "code",
   "execution_count": null,
   "metadata": {
    "id": "38FMxXuK6yxl"
   },
   "outputs": [],
   "source": [
    "%%sql\n",
    "\n",
    "SELECT COUNT(1)\n",
    "FROM raw_data.user_session_channel\n",
    "WHERE channel in ('Google','Facebook');"
   ]
  },
  {
   "cell_type": "code",
   "execution_count": null,
   "metadata": {
    "id": "4P6TWcbGl2j7"
   },
   "outputs": [],
   "source": [
    "%%sql\n",
    "\n",
    "SELECT DISTINCT channel\n",
    "FROM raw_data.user_session_channel\n",
    "WHERE channel ILIKE '%o%';"
   ]
  },
  {
   "cell_type": "code",
   "execution_count": null,
   "metadata": {
    "id": "ILNS7QDN63mu"
   },
   "outputs": [],
   "source": [
    "%%sql\n",
    "\n",
    "SELECT\n",
    "    DISTINCT\n",
    "    LEN(channel),\n",
    "    UPPER(channel),\n",
    "    LOWER(channel),\n",
    "    LEFT(channel, 4)\n",
    "FROM raw_data.user_session_channel\n",
    "LIMIT 100;"
   ]
  },
  {
   "cell_type": "markdown",
   "metadata": {
    "id": "n5rBIm41Dpo7"
   },
   "source": [
    "CREATE TABLE raw_data.count_test (\n",
    "    value int\n",
    ");\n",
    "\n",
    "INSERT INTO raw_data.count_test VALUES (NULL), (1), (1), (0), (0), (4), (3);"
   ]
  },
  {
   "cell_type": "code",
   "execution_count": null,
   "metadata": {
    "id": "6YSiA5WeDmQx"
   },
   "outputs": [],
   "source": [
    "%%sql\n",
    "\n",
    "SELECT\n",
    "    COUNT(1) as count_1,\n",
    "    COUNT(0) as count_0,\n",
    "    COUNT(NULL) as count_null,\n",
    "    COUNT(value) as count_value,\n",
    "    COUNT(DISTINCT value) as count_distinct_value\n",
    "FROM raw_data.count_test;"
   ]
  },
  {
   "cell_type": "code",
   "execution_count": null,
   "metadata": {
    "id": "9T0H93a7mxHF"
   },
   "outputs": [],
   "source": [
    "%%sql\n",
    "\n",
    "SELECT 0 + NULL, 0 - NULL, 0 * NULL, 0/NULL"
   ]
  },
  {
   "cell_type": "code",
   "execution_count": null,
   "metadata": {
    "id": "TRygE36eB_2T"
   },
   "outputs": [],
   "source": [
    "%%sql\n",
    "\n",
    "select pg_timezone_names();  -- Asia/Seoul"
   ]
  },
  {
   "cell_type": "code",
   "execution_count": null,
   "metadata": {
    "id": "afZBLY9d7IaR"
   },
   "outputs": [],
   "source": [
    "%%sql\n",
    "\n",
    "SELECT\n",
    "    GETDATE() as current_time,\n",
    "    CONVERT_TIMEZONE('America/Los_Angeles', GETDATE()) california_time;"
   ]
  },
  {
   "cell_type": "code",
   "execution_count": null,
   "metadata": {
    "id": "weKbtPvwB6sO"
   },
   "outputs": [],
   "source": [
    "%%sql\n",
    "\n",
    "SELECT 1/2, 1/2::float;"
   ]
  },
  {
   "cell_type": "markdown",
   "metadata": {
    "id": "Kka4fmL_A6C_"
   },
   "source": [
    "판다스와 연동하는 방법"
   ]
  },
  {
   "cell_type": "code",
   "execution_count": null,
   "metadata": {
    "id": "2-us2zrscs25"
   },
   "outputs": [],
   "source": [
    "result = %sql SELECT * FROM raw_data.user_session_channel\n",
    "df = result.DataFrame()"
   ]
  },
  {
   "cell_type": "code",
   "execution_count": null,
   "metadata": {
    "id": "7AmUNAj8c3fZ"
   },
   "outputs": [],
   "source": [
    "df.head()"
   ]
  },
  {
   "cell_type": "code",
   "execution_count": null,
   "metadata": {
    "id": "zx3dWMB4BSo7"
   },
   "outputs": [],
   "source": [
    "df.groupby([\"channel\"]).size()"
   ]
  },
  {
   "cell_type": "code",
   "execution_count": null,
   "metadata": {
    "id": "mpXSqwAgEV3B"
   },
   "outputs": [],
   "source": [
    "df.groupby([\"channel\"])[\"sessionid\"].count()"
   ]
  }
 ],
 "metadata": {
  "colab": {
   "provenance": [
    {
     "file_id": "1J2IBuXq8rD8t1z5F0wskzJcVxjrd4-Qo",
     "timestamp": 1734429494429
    },
    {
     "file_id": "1ig4v_NMel4rD3a9MHYNCkjNgVp-izJul",
     "timestamp": 1625016988149
    },
    {
     "file_id": "1lmZ3Xq5FajfcRuiLdJXQsqAxPe7osRxo",
     "timestamp": 1619141412307
    },
    {
     "file_id": "1qSBnaKn0vrSwv_Jmywzp9PrNnFt9sqUq",
     "timestamp": 1611869389982
    },
    {
     "file_id": "1haXg_DwbBcdG_U1koTwObc5dmGK8o4ZM",
     "timestamp": 1611639525347
    },
    {
     "file_id": "1f6_2XlG_PkQ_0Rw_WwGi5PGjx3hBNlL6",
     "timestamp": 1603500012569
    },
    {
     "file_id": "1VJa2hi7ERonoY5PT3tIqvKAXcqwHnC-q",
     "timestamp": 1603494490229
    },
    {
     "file_id": "1R8htC3abnjz6j9_D_AUYBuzX1Bdcfvum",
     "timestamp": 1596239878232
    }
   ]
  },
  "kernelspec": {
   "display_name": "Python 3",
   "name": "python3"
  }
 },
 "nbformat": 4,
 "nbformat_minor": 0
}
