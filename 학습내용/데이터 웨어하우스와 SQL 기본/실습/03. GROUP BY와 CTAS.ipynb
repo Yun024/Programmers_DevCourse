{
 "cells": [
  {
   "cell_type": "markdown",
   "metadata": {
    "id": "EVuF1_D9zWBV"
   },
   "source": [
    "주피터 SQL 엔진 설정"
   ]
  },
  {
   "cell_type": "code",
   "execution_count": null,
   "metadata": {
    "id": "TKrE3Qa9LUNY"
   },
   "outputs": [],
   "source": [
    "!pip install ipython-sql==0.4.1\n",
    "!pip install SQLAlchemy==1.4.49"
   ]
  },
  {
   "cell_type": "code",
   "execution_count": 2,
   "metadata": {
    "executionInfo": {
     "elapsed": 1029,
     "status": "ok",
     "timestamp": 1734479214542,
     "user": {
      "displayName": "윤여준",
      "userId": "13736968564887814759"
     },
     "user_tz": -540
    },
    "id": "wOS9-QY1amnt"
   },
   "outputs": [],
   "source": [
    "%load_ext sql"
   ]
  },
  {
   "cell_type": "markdown",
   "metadata": {
    "id": "bmS7kKUHzi1S"
   },
   "source": [
    "월별 세션수를 계산하는 SQL"
   ]
  },
  {
   "cell_type": "code",
   "execution_count": null,
   "metadata": {
    "id": "mPtvJEvubNoV"
   },
   "outputs": [],
   "source": [
    "%%sql\n",
    "\n",
    "SELECT\n",
    "    LEFT(ts, 7) AS mon,\n",
    "    COUNT(1) AS session_count\n",
    "FROM raw_data.session_timestamp\n",
    "GROUP BY 1\n",
    "ORDER BY 1;"
   ]
  },
  {
   "cell_type": "markdown",
   "metadata": {
    "id": "seum4ZMDv7fx"
   },
   "source": [
    "가장 많이 사용된 채널은 무엇인가?"
   ]
  },
  {
   "cell_type": "code",
   "execution_count": null,
   "metadata": {
    "id": "nYIP06ni_8Y6"
   },
   "outputs": [],
   "source": [
    "%%sql\n",
    "\n",
    "SELECT\n",
    "    channel,\n",
    "    COUNT(1) AS session_count,\n",
    "    COUNT(DISTINCT userId) AS user_count\n",
    "FROM raw_data.user_session_channel\n",
    "GROUP BY 1                         -- GROUP BY channel\n",
    "ORDER BY 2 DESC;              -- ORDER BY session_count DESC"
   ]
  },
  {
   "cell_type": "code",
   "execution_count": null,
   "metadata": {
    "id": "snaFvWlEwBdX"
   },
   "outputs": [],
   "source": [
    "%%sql\n",
    "\n",
    "SELECT\n",
    "    channel,\n",
    "    COUNT(1) AS session_count,\n",
    "    COUNT(DISTINCT userId) AS user_count\n",
    "FROM raw_data.user_session_channel\n",
    "GROUP BY 1                         -- GROUP BY channel\n",
    "ORDER BY 3 DESC;              -- ORDER BY user_count DESC"
   ]
  },
  {
   "cell_type": "markdown",
   "metadata": {
    "id": "j5EJ5i2hwLgL"
   },
   "source": [
    "가장 많은 세션을 만들어낸 사용자 ID는 무엇인가?"
   ]
  },
  {
   "cell_type": "code",
   "execution_count": null,
   "metadata": {
    "id": "4H3io0MyACTX"
   },
   "outputs": [],
   "source": [
    "%%sql\n",
    "\n",
    "SELECT\n",
    "    userId,\n",
    "    COUNT(1) AS count\n",
    "FROM raw_data.user_session_channel\n",
    "GROUP BY 1                         -- GROUP BY userId\n",
    "ORDER BY 2 DESC              -- ORDER BY count DESC\n",
    "LIMIT 1;"
   ]
  },
  {
   "cell_type": "markdown",
   "metadata": {
    "id": "p3erDUvNwWAZ"
   },
   "source": [
    "월별 유니크한 사용자 수"
   ]
  },
  {
   "cell_type": "code",
   "execution_count": null,
   "metadata": {
    "id": "A8xQS2XcAIPc"
   },
   "outputs": [],
   "source": [
    "%%sql\n",
    "\n",
    "SELECT\n",
    "  TO_CHAR(A.ts, 'YYYY-MM') AS month,\n",
    "  COUNT(DISTINCT B.userid) AS mau\n",
    "FROM raw_data.session_timestamp A\n",
    "JOIN raw_data.user_session_channel B ON A.sessionid = B.sessionid\n",
    "GROUP BY 1\n",
    "ORDER BY 1 DESC;"
   ]
  },
  {
   "cell_type": "code",
   "execution_count": null,
   "metadata": {
    "id": "PA0bCDp8AM9D"
   },
   "outputs": [],
   "source": [
    "%%sql\n",
    "\n",
    "SELECT\n",
    "  TO_CHAR(A.ts, 'YYYY-MM') AS month,\n",
    "  COUNT(B.userid) AS cnt,\n",
    "  COUNT(DISTINCT B.userid) AS mau\n",
    "FROM raw_data.session_timestamp A\n",
    "JOIN raw_data.user_session_channel B ON A.sessionid = B.sessionid\n",
    "GROUP BY 1\n",
    "ORDER BY 1 DESC;"
   ]
  },
  {
   "cell_type": "markdown",
   "metadata": {
    "id": "DtiKojqaLh7T"
   },
   "source": [
    "월별 채널별 유니크한 사용자 수"
   ]
  },
  {
   "cell_type": "code",
   "execution_count": null,
   "metadata": {
    "id": "FDHI4G9jLexW"
   },
   "outputs": [],
   "source": [
    "%%sql\n",
    "\n",
    "SELECT\n",
    "\n",
    "  TO_CHAR(A.ts, 'YYYY-MM') AS month,\n",
    "  channel,\n",
    "  COUNT(DISTINCT B.userid) AS mau\n",
    "FROM raw_data.session_timestamp A\n",
    "JOIN raw_data.user_session_channel B ON A.sessionid = B.sessionid\n",
    "GROUP BY 1, 2\n",
    "ORDER BY 1 DESC, 2;"
   ]
  },
  {
   "cell_type": "markdown",
   "metadata": {
    "id": "pll9oUgD0UQu"
   },
   "source": [
    "### CTAS & CTE"
   ]
  },
  {
   "cell_type": "markdown",
   "metadata": {
    "id": "QIBE3knd0ZFr"
   },
   "source": [
    "CTAS: SELECT를 가지고 테이블 생성"
   ]
  },
  {
   "cell_type": "code",
   "execution_count": null,
   "metadata": {
    "id": "6NmuqyRL0XrR"
   },
   "outputs": [],
   "source": [
    "CTAS: SELECT를 가지고 테이블 생성"
   ]
  },
  {
   "cell_type": "code",
   "execution_count": null,
   "metadata": {
    "id": "smQwzO780ZuO"
   },
   "outputs": [],
   "source": [
    "%%sql\n",
    "\n",
    "DROP TABLE IF EXISTS adhoc.yeojun_session_summary;\n",
    "CREATE TABLE adhoc.yeojun_session_summary AS\n",
    "SELECT B.*, A.ts FROM raw_data.session_timestamp A\n",
    "JOIN raw_data.user_session_channel B ON A.sessionid = B.sessionid;"
   ]
  },
  {
   "cell_type": "code",
   "execution_count": null,
   "metadata": {
    "id": "h5MkzbIA0eTv"
   },
   "outputs": [],
   "source": [
    "%%sql\n",
    "\n",
    "SELECT\n",
    "  TO_CHAR(ts, 'YYYY-MM') AS month,\n",
    "  COUNT(DISTINCT userid) AS mau\n",
    "FROM adhoc.yeojun_session_summary\n",
    "GROUP BY 1\n",
    "ORDER BY 1 DESC;"
   ]
  },
  {
   "cell_type": "markdown",
   "metadata": {
    "id": "qO0ySLTY5272"
   },
   "source": [
    "중복된 레코드들 체크하기"
   ]
  },
  {
   "cell_type": "code",
   "execution_count": null,
   "metadata": {
    "id": "yg2qVZFb4J5u"
   },
   "outputs": [],
   "source": [
    "%%sql\n",
    "\n",
    "SELECT COUNT(1) FROM adhoc.yeojun_session_summary;"
   ]
  },
  {
   "cell_type": "code",
   "execution_count": null,
   "metadata": {
    "id": "FFT_X9HM55Rm"
   },
   "outputs": [],
   "source": [
    "%%sql\n",
    "\n",
    "SELECT COUNT(1)\n",
    "FROM (\n",
    "    SELECT DISTINCT userId, sessionId, ts, channel FROM adhoc.yeojun_session_summary\n",
    ");"
   ]
  },
  {
   "cell_type": "code",
   "execution_count": null,
   "metadata": {
    "id": "KVD1XVgU6IaA"
   },
   "outputs": [],
   "source": [
    "%%sql\n",
    "\n",
    "With ds AS (\n",
    "  SELECT DISTINCT userId, sessionId, ts, channel FROM adhoc.yeojun_session_summary\n",
    ")\n",
    "SELECT COUNT(1)\n",
    "FROM ds;"
   ]
  },
  {
   "cell_type": "markdown",
   "metadata": {
    "id": "tBMXO9mw7XDG"
   },
   "source": [
    "최근 데이터의 존재 여부 체크하기 (freshness)"
   ]
  },
  {
   "cell_type": "code",
   "execution_count": null,
   "metadata": {
    "id": "xN1I5V_j4TVL"
   },
   "outputs": [],
   "source": [
    "%%sql\n",
    "\n",
    "SELECT MIN(ts), MAX(ts)\n",
    "FROM adhoc.yeojun_session_summary;"
   ]
  },
  {
   "cell_type": "markdown",
   "metadata": {
    "id": "gwQ_aPd77aBq"
   },
   "source": [
    "Primary key uniqueness가 지켜지는지 체크하기"
   ]
  },
  {
   "cell_type": "code",
   "execution_count": null,
   "metadata": {
    "id": "wXvhAnqO4Wt6"
   },
   "outputs": [],
   "source": [
    "%%sql\n",
    "\n",
    "SELECT sessionId, COUNT(1)\n",
    "FROM adhoc.yeojun_session_summary\n",
    "GROUP BY 1\n",
    "ORDER BY 2 DESC\n",
    "LIMIT 1;\n"
   ]
  },
  {
   "cell_type": "markdown",
   "metadata": {
    "id": "5Mah80UT7d3q"
   },
   "source": [
    "값이 비어있는 컬럼들이 있는지 체크하기"
   ]
  },
  {
   "cell_type": "code",
   "execution_count": null,
   "metadata": {
    "id": "qZD14dYQ4mv0"
   },
   "outputs": [],
   "source": [
    "%%sql\n",
    "\n",
    "SELECT\n",
    "    COUNT(CASE WHEN sessionId is NULL THEN 1 END) sessionid_null_count,\n",
    "    COUNT(CASE WHEN userId is NULL THEN 1 END) userid_null_count,\n",
    "    COUNT(CASE WHEN ts is NULL THEN 1 END) ts_null_count,\n",
    "    COUNT(CASE WHEN channel is NULL THEN 1 END) channel_null_count\n",
    "FROM adhoc.yeojun_session_summary;"
   ]
  },
  {
   "cell_type": "markdown",
   "metadata": {
    "id": "UBVB9OvYGtEe"
   },
   "source": [
    "2개의 새 테이블 소개\n",
    "- 지금까지 session_timestamp, user_sesion_channel\n",
    "- 추가 raw_data.session_transaction, raw_data,channel"
   ]
  },
  {
   "cell_type": "code",
   "execution_count": null,
   "metadata": {
    "id": "uBGblyK9Smn8"
   },
   "outputs": [],
   "source": [
    "%%sql\n",
    "\n",
    "DROP TABLE IF EXISTS adhoc.yeojun_channel_month_revenue;\n",
    "CREATE TABLE adhoc.yeojun_channel_month_revenue AS\n",
    "SELECT\n",
    "  TO_CHAR(ts,'YYYY-MM') as month,\n",
    "  channel,\n",
    "  COUNT(DISTINCT userid) uniqueUsers,\n",
    "  COUNT(DISTINCT CASE WHEN amount > 0 THEN userid END) paidUsers,\n",
    "  ROUND(paidUsers*100.0/uniqueUsers,2) as conversionRate,\n",
    "  SUM(B.amount) grossRevenue,\n",
    "  SUM(CASE WHEN refunded ='False' THEN amount END) netRevenue\n",
    "FROM adhoc.yeojun_session_summary A\n",
    "LEFT JOIN raw_data.session_transaction B ON A.sessionid = B.sessionid\n",
    "GROUP BY month, channel;"
   ]
  },
  {
   "cell_type": "code",
   "execution_count": null,
   "metadata": {
    "id": "AiabCEhdWqrM"
   },
   "outputs": [],
   "source": [
    "%%sql\n",
    "\n",
    "SELECT *\n",
    "FROM adhoc.yeojun_channel_month_revenue;"
   ]
  }
 ],
 "metadata": {
  "colab": {
   "provenance": [
    {
     "file_id": "1ig4v_NMel4rD3a9MHYNCkjNgVp-izJul",
     "timestamp": 1734451259977
    },
    {
     "file_id": "1lmZ3Xq5FajfcRuiLdJXQsqAxPe7osRxo",
     "timestamp": 1619141412307
    },
    {
     "file_id": "1qSBnaKn0vrSwv_Jmywzp9PrNnFt9sqUq",
     "timestamp": 1611869389982
    },
    {
     "file_id": "1haXg_DwbBcdG_U1koTwObc5dmGK8o4ZM",
     "timestamp": 1611639525347
    },
    {
     "file_id": "1f6_2XlG_PkQ_0Rw_WwGi5PGjx3hBNlL6",
     "timestamp": 1603500012569
    },
    {
     "file_id": "1VJa2hi7ERonoY5PT3tIqvKAXcqwHnC-q",
     "timestamp": 1603494490229
    },
    {
     "file_id": "1R8htC3abnjz6j9_D_AUYBuzX1Bdcfvum",
     "timestamp": 1596239878232
    }
   ]
  },
  "kernelspec": {
   "display_name": "Python 3",
   "name": "python3"
  }
 },
 "nbformat": 4,
 "nbformat_minor": 0
}
