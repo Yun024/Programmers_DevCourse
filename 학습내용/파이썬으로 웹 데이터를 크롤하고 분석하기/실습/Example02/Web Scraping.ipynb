{
 "cells": [
  {
   "cell_type": "markdown",
   "metadata": {
    "vscode": {
     "languageId": "plaintext"
    }
   },
   "source": [
    "# python을 이용해서 HTTP 통신하기"
   ]
  },
  {
   "cell_type": "code",
   "execution_count": null,
   "metadata": {},
   "outputs": [],
   "source": [
    "# Python을 이용해서 간단히 HTTP 통신을 진행할 수 있는 라이브러리, requests\n",
    "!pip install requests\n",
    "import requests"
   ]
  },
  {
   "cell_type": "code",
   "execution_count": null,
   "metadata": {},
   "outputs": [],
   "source": [
    "# 정보를 달라고 요청하기, Get\n",
    "res = requests.get(\"https://www.naver.com\")\n",
    "## <Response [200]>\n",
    "\n",
    "# 요청에 대한 응답 코드, 200은 정상을 뜻함\n",
    "res.headers\n",
    "res.text"
   ]
  },
  {
   "cell_type": "code",
   "execution_count": null,
   "metadata": {},
   "outputs": [],
   "source": [
    "# 정보 갱신하는 것을 요청하기, Post\n",
    "## ※https://webhook.site에서 확인가능\n",
    "payload = {\"name\":\"Yeojun\", \"age\": 27}\n",
    "res = requests.post(\"https://webhook.site/5874ba15-9bba-4ce7-a0a3-378f9fde2d34\",payload)\n",
    "res.status_code"
   ]
  },
  {
   "cell_type": "code",
   "execution_count": null,
   "metadata": {},
   "outputs": [],
   "source": [
    "# robots.txt 가져오기\n",
    "## robots.txt는 웹 페이지의 메인 주소에 '/robots.txt'를 입력하면 확인 할 수 있습니다\n",
    "import requests\n",
    "\n",
    "res = requests.get(\"https://www.naver.com/robots.txt\")\n",
    "print(res.text)\n",
    "\n",
    "res1 = requests.get(\"https://chatgpt.com/robots.txt\")\n",
    "print(res1.text)\n"
   ]
  }
 ],
 "metadata": {
  "language_info": {
   "name": "python"
  }
 },
 "nbformat": 4,
 "nbformat_minor": 2
}
