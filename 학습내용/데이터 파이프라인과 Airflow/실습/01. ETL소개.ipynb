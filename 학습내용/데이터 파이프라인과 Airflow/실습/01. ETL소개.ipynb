{
 "cells": [
  {
   "cell_type": "code",
   "execution_count": null,
   "metadata": {},
   "outputs": [],
   "source": [
    "!pip install snowflake-connector-python\n",
    "!pip install SQLAlchemy==1.4.49\n",
    "!pip install ipython-sql==0.4.1"
   ]
  },
  {
   "cell_type": "code",
   "execution_count": 1,
   "metadata": {},
   "outputs": [],
   "source": [
    "%load_ext sql"
   ]
  },
  {
   "cell_type": "code",
   "execution_count": 2,
   "metadata": {},
   "outputs": [],
   "source": [
    "%sql snowflake://<ID>:<PASSWORD>@<ACCOUNT>/<DB>/<SCHEMA>?warehouse=<warehouse>"
   ]
  },
  {
   "cell_type": "code",
   "execution_count": null,
   "metadata": {
    "vscode": {
     "languageId": "sql"
    }
   },
   "outputs": [],
   "source": [
    "%%sql\n",
    "\n",
    "-- 제대로 연결되었는지 확인\n",
    "select current_user(), current_role(), current_database(), current_schema();"
   ]
  },
  {
   "cell_type": "code",
   "execution_count": null,
   "metadata": {
    "vscode": {
     "languageId": "sql"
    }
   },
   "outputs": [],
   "source": [
    "%%sql\n",
    "\n",
    "DROP TABLE IF EXISTS yeojun.name_gender;\n",
    "CREATE TABLE yeojun.name_gender(\n",
    "    name varchar(32) primary key,\n",
    "    gender varchar(8)\n",
    ");"
   ]
  },
  {
   "cell_type": "code",
   "execution_count": 25,
   "metadata": {},
   "outputs": [],
   "source": [
    "import snowflake.connector\n",
    "\n",
    "def get_snowflake_connection():\n",
    "    conn = snowflake.connector.connect(\n",
    "        user=<ID>,\n",
    "        password=<PASSWORD>,\n",
    "        account=<ACCOUNT>,\n",
    "        warehouse=<warehouse>,\n",
    "        database=<DB>,\n",
    "        schema=<SCHEMA>\n",
    "    )\n",
    "    return conn.cursor()"
   ]
  },
  {
   "cell_type": "code",
   "execution_count": 27,
   "metadata": {},
   "outputs": [],
   "source": [
    "import requests\n",
    "\n",
    "def extract(url):\n",
    "    f = requests.get(url)\n",
    "    return (f.text)"
   ]
  },
  {
   "cell_type": "code",
   "execution_count": 26,
   "metadata": {},
   "outputs": [],
   "source": [
    "def transform(text):\n",
    "    lines = text.strip().split(\"\\n\")\n",
    "    records = []\n",
    "    for l in lines:\n",
    "        (name, gender) = l.split(\",\") # l = \"Keeyong,M\" -> [ 'keeyong', 'M' ]\n",
    "        records.append([name, gender])\n",
    "    return records[1:]"
   ]
  },
  {
   "cell_type": "code",
   "execution_count": 23,
   "metadata": {},
   "outputs": [],
   "source": [
    "def load(records):\n",
    "    \"\"\"\n",
    "    records = [\n",
    "        [ \"Keeyong\", \"M\" ],\n",
    "        [ \"Claire\", \"F\" ],\n",
    "        ...\n",
    "    ]\n",
    "    \"\"\"\n",
    "    # BEGIN과 END를 사용해서 SQL 결과를 트랜잭션으로 만들어주는 것이 좋음\n",
    "    cur = get_snowflake_connection()\n",
    "    conn = cur.connection\n",
    "    try:\n",
    "        cur.execute(\"DELETE FROM yeojun.name_gender\")\n",
    "\n",
    "        for r in records:\n",
    "            name = r[0]\n",
    "            gender = r[1]\n",
    "            print(name, \"-\", gender)\n",
    "            sql = \"INSERT INTO yeojun.name_gender VALUES ('{n}', '{g}')\".format(n=name, g=gender)\n",
    "            cur.execute(sql)\n",
    "        conn.commit()\n",
    "    except:\n",
    "        conn.rollback()\n",
    "    finally:\n",
    "        conn.close()\n"
   ]
  },
  {
   "cell_type": "code",
   "execution_count": 37,
   "metadata": {},
   "outputs": [],
   "source": [
    "link = \"https://s3-geospatial.s3-us-west-2.amazonaws.com/name_gender.csv\"\n",
    "data = extract(link)\n",
    "data"
   ]
  },
  {
   "cell_type": "code",
   "execution_count": null,
   "metadata": {},
   "outputs": [],
   "source": [
    "lines = transform(data)\n",
    "print(len(lines))\n",
    "lines[0:10]"
   ]
  },
  {
   "cell_type": "code",
   "execution_count": null,
   "metadata": {},
   "outputs": [],
   "source": [
    "load(lines)"
   ]
  },
  {
   "cell_type": "code",
   "execution_count": null,
   "metadata": {
    "vscode": {
     "languageId": "sql"
    }
   },
   "outputs": [],
   "source": [
    "%%sql \n",
    "\n",
    "SELECT gender, count(1) count\n",
    "FROM yeojun.name_gender\n",
    "GROUP BY gender;"
   ]
  }
 ],
 "metadata": {
  "kernelspec": {
   "display_name": "Python 3",
   "language": "python",
   "name": "python3"
  },
  "language_info": {
   "codemirror_mode": {
    "name": "ipython",
    "version": 3
   },
   "file_extension": ".py",
   "mimetype": "text/x-python",
   "name": "python",
   "nbconvert_exporter": "python",
   "pygments_lexer": "ipython3",
   "version": "3.10.11"
  }
 },
 "nbformat": 4,
 "nbformat_minor": 2
}
