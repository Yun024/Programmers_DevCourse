{
  "cells": [
    {
      "cell_type": "code",
      "execution_count": 1,
      "metadata": {
        "id": "3vm6tgcPXdnR"
      },
      "outputs": [],
      "source": [
        "from pyspark.sql import *\n",
        "from pyspark.sql.functions import *\n",
        "\n",
        "if __name__ == \"__main__\":\n",
        "    spark = SparkSession \\\n",
        "        .builder \\\n",
        "        .appName(\"Spark FS Partition Demo\") \\\n",
        "        .master(\"local[4]\") \\\n",
        "        .enableHiveSupport() \\\n",
        "        .getOrCreate()"
      ]
    },
    {
      "cell_type": "code",
      "execution_count": 2,
      "metadata": {},
      "outputs": [],
      "source": [
        "path = \"C:\\\\Users\\\\Yeojun\\\\Documents\\\\GitHub\\\\Programmers_DevCourse\\\\학습내용\\\\빅데이터 처리 시스템, 하둡과 Spark\\\\data\""
      ]
    },
    {
      "cell_type": "code",
      "execution_count": 3,
      "metadata": {
        "colab": {
          "base_uri": "https://localhost:8080/"
        },
        "id": "3ZhdS0i7LZEc",
        "outputId": "03ec8477-4606-4e37-be36-505e1edb2e90"
      },
      "outputs": [
        {
          "name": "stdout",
          "output_type": "stream",
          "text": [
            "root\n",
            " |-- Date: date (nullable = true)\n",
            " |-- Open: double (nullable = true)\n",
            " |-- High: double (nullable = true)\n",
            " |-- Low: double (nullable = true)\n",
            " |-- Close: double (nullable = true)\n",
            " |-- Volume: integer (nullable = true)\n",
            " |-- Adj Close: double (nullable = true)\n",
            "\n"
          ]
        }
      ],
      "source": [
        "df = spark.read.csv(path + \"\\\\appl_stock.csv\", header=True, inferSchema=True)\n",
        "df.printSchema()"
      ]
    },
    {
      "cell_type": "code",
      "execution_count": null,
      "metadata": {
        "colab": {
          "base_uri": "https://localhost:8080/"
        },
        "id": "7g56ZGQKkRBm",
        "outputId": "4d83ab88-48ac-4230-aae0-29a96caa7d54"
      },
      "outputs": [],
      "source": [
        "df.show(10)"
      ]
    },
    {
      "cell_type": "code",
      "execution_count": 5,
      "metadata": {
        "id": "vGFDiqDcLeq7"
      },
      "outputs": [],
      "source": [
        "df = df.withColumn(\"year\", year(df.Date)) \\\n",
        "    .withColumn(\"month\", month(df.Date))"
      ]
    },
    {
      "cell_type": "code",
      "execution_count": 6,
      "metadata": {
        "colab": {
          "base_uri": "https://localhost:8080/"
        },
        "id": "08wqKxwmxxqp",
        "outputId": "97cc2c11-1d4e-4102-9489-77c3c52f9b2a"
      },
      "outputs": [
        {
          "data": {
            "text/plain": [
              "DataFrame[]"
            ]
          },
          "execution_count": 6,
          "metadata": {},
          "output_type": "execute_result"
        }
      ],
      "source": [
        "spark.sql(\"DROP TABLE IF EXISTS appl_stock\")"
      ]
    },
    {
      "cell_type": "code",
      "execution_count": 7,
      "metadata": {
        "id": "wmbJXYQ0LlUB"
      },
      "outputs": [],
      "source": [
        "df.write.partitionBy(\"year\", \"month\").saveAsTable(\"appl_stock\")"
      ]
    },
    {
      "cell_type": "code",
      "execution_count": 14,
      "metadata": {},
      "outputs": [
        {
          "name": "stdout",
          "output_type": "stream",
          "text": [
            "['month=1', 'month=10', 'month=11', 'month=12', 'month=2', 'month=3', 'month=4', 'month=5', 'month=6', 'month=7', 'month=8', 'month=9']\n"
          ]
        },
        {
          "data": {
            "text/plain": [
              "['.part-00000-a87ee577-6f8c-4e11-94fc-cf98011fd96d.c000.snappy.parquet.crc',\n",
              " 'part-00000-a87ee577-6f8c-4e11-94fc-cf98011fd96d.c000.snappy.parquet']"
            ]
          },
          "execution_count": 14,
          "metadata": {},
          "output_type": "execute_result"
        }
      ],
      "source": [
        "import os\n",
        "print(os.listdir(\"./appl_stock/year=2010\"))\n",
        "os.listdir(\"./appl_stock/year=2010/month=12\")"
      ]
    },
    {
      "cell_type": "markdown",
      "metadata": {
        "id": "LEp7sjYlkgs7"
      },
      "source": [
        "### How to Read from Partitioned table"
      ]
    },
    {
      "cell_type": "code",
      "execution_count": 15,
      "metadata": {
        "id": "JssSpbT_kgP9"
      },
      "outputs": [],
      "source": [
        "df = spark.read.table(\"appl_stock\").where(\"year = 2016 and month = 12\")"
      ]
    },
    {
      "cell_type": "code",
      "execution_count": null,
      "metadata": {
        "colab": {
          "base_uri": "https://localhost:8080/"
        },
        "id": "090C7D5bk5DX",
        "outputId": "6d7c3df3-3e0b-45cb-9964-ea979c739544"
      },
      "outputs": [],
      "source": [
        "spark.sql(\"SELECT * FROM appl_stock WHERE year = 2016 and month = 12\").show(10)"
      ]
    }
  ],
  "metadata": {
    "colab": {
      "provenance": []
    },
    "kernelspec": {
      "display_name": "Python 3",
      "name": "python3"
    },
    "language_info": {
      "codemirror_mode": {
        "name": "ipython",
        "version": 3
      },
      "file_extension": ".py",
      "mimetype": "text/x-python",
      "name": "python",
      "nbconvert_exporter": "python",
      "pygments_lexer": "ipython3",
      "version": "3.10.11"
    }
  },
  "nbformat": 4,
  "nbformat_minor": 0
}
