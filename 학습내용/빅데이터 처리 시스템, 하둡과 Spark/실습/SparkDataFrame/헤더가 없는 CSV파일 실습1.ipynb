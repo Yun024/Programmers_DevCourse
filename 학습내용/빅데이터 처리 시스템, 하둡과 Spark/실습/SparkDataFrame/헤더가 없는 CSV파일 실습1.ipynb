{
 "cells": [
  {
   "cell_type": "markdown",
   "metadata": {},
   "source": [
    "## Pandas로 데이터프레임 처리"
   ]
  },
  {
   "cell_type": "code",
   "execution_count": null,
   "metadata": {},
   "outputs": [],
   "source": [
    "import pandas as pd\n",
    "pd_df = pd.read_csv(\n",
    "    \"1800.csv\", \n",
    "    names=[\"stationID\", \"date\", \"measure_type\", \"temperature\"],\n",
    "    usecols=[0, 1, 2, 3]\n",
    ")\n",
    "pd_df.head()"
   ]
  },
  {
   "cell_type": "code",
   "execution_count": null,
   "metadata": {},
   "outputs": [],
   "source": [
    "pd_minTemps = pd_df[pd_df[\"measure_type\"] == \"TMIN\"]\n",
    "pd_minTemps.head()"
   ]
  },
  {
   "cell_type": "code",
   "execution_count": null,
   "metadata": {},
   "outputs": [],
   "source": [
    "pd_stationTemps = pd_minTemps[[\"stationID\", \"temperature\"]]\n",
    "pd_minTempsByStation = pd_stationTemps.groupby([\"stationID\"]).min(\"temperature\")\n",
    "pd_minTempsByStation.head()"
   ]
  },
  {
   "cell_type": "markdown",
   "metadata": {},
   "source": [
    "# Pyspark으로 데이터 처리"
   ]
  },
  {
   "cell_type": "code",
   "execution_count": 10,
   "metadata": {},
   "outputs": [],
   "source": [
    "from pyspark.sql import SparkSession\n",
    "from pyspark import SparkConf\n",
    "\n",
    "conf = SparkConf()\n",
    "conf.set(\"spark.app.name\", \"PySpark DataFrame #1\")\n",
    "conf.set(\"spark.master\", \"local[2]\")\n",
    "\n",
    "spark = SparkSession.builder\\\n",
    "        .config(conf=conf)\\\n",
    "        .getOrCreate()"
   ]
  },
  {
   "cell_type": "markdown",
   "metadata": {},
   "source": [
    "### **데이터읽기**"
   ]
  },
  {
   "cell_type": "markdown",
   "metadata": {},
   "source": [
    "##### 스키마 정보없이 데이터 읽기"
   ]
  },
  {
   "cell_type": "code",
   "execution_count": null,
   "metadata": {},
   "outputs": [],
   "source": [
    "df = spark.read.format(\"csv\").load(\"1800.csv\") # spark.read.csv(\"1800.csv\")\n",
    "df.printSchema()"
   ]
  },
  {
   "cell_type": "markdown",
   "metadata": {},
   "source": [
    "##### toDF로 컬럼명 입력해서 데이터 읽기"
   ]
  },
  {
   "cell_type": "code",
   "execution_count": null,
   "metadata": {},
   "outputs": [],
   "source": [
    "df = spark.read.format(\"csv\")\\\n",
    "    .load(\"1800.csv\")\\\n",
    "    .toDF(\"stationID\",\"date\",\"measure_type\",\"temperature\",\"_c4\", \"_c5\", \"_c6\", \"_c7\")\n",
    "df.printSchema()"
   ]
  },
  {
   "cell_type": "markdown",
   "metadata": {},
   "source": [
    "##### inferSchema로 Spark가 유추해서 컬럼타입읽기"
   ]
  },
  {
   "cell_type": "code",
   "execution_count": null,
   "metadata": {},
   "outputs": [],
   "source": [
    "df = spark.read.format(\"csv\")\\\n",
    "    .option(\"inferSchema\", \"true\")\\\n",
    "    .load(\"1800.csv\")\\\n",
    "    .toDF(\"stationID\",\"date\",\"measure_type\",\"temperature\",\"_c4\", \"_c5\", \"_c6\", \"_c7\")\n",
    "df.printSchema()"
   ]
  },
  {
   "cell_type": "markdown",
   "metadata": {},
   "source": [
    "##### StrucField로 명시적으로 스키마 지정해서 읽기"
   ]
  },
  {
   "cell_type": "code",
   "execution_count": null,
   "metadata": {},
   "outputs": [],
   "source": [
    "from pyspark.sql.types import StringType, IntegerType, FloatType\n",
    "from pyspark.sql.types import StructType, StructField\n",
    "\n",
    "schema = StructType([ \\\n",
    "\n",
    "    ## StrucField(이름, 타입, Null허용여부)\n",
    "    StructField(\"stationID\", StringType(), True), \\\n",
    "    StructField(\"date\", IntegerType(), True), \\\n",
    "    StructField(\"measure_type\", StringType(), True), \\\n",
    "    StructField(\"temperature\", FloatType(), True)\n",
    "    ])\n",
    "# df = spark.read.schema(schema).format(\"csv\").load(\"1800.csv\")\n",
    "df = spark.read.schema(schema).csv(\"1800.csv\")\n",
    "df.printSchema()"
   ]
  },
  {
   "cell_type": "markdown",
   "metadata": {},
   "source": [
    "### **measure_type이 TMIN인 값만 추출**"
   ]
  },
  {
   "cell_type": "markdown",
   "metadata": {},
   "source": [
    "##### 데이터프레임의 filter메소드 사용"
   ]
  },
  {
   "cell_type": "code",
   "execution_count": null,
   "metadata": {},
   "outputs": [],
   "source": [
    "minTemps = df.filter(df.measure_type == \"TMIN\")\n",
    "minTemps.count()"
   ]
  },
  {
   "cell_type": "markdown",
   "metadata": {},
   "source": [
    "##### where메소드의 Column expression으로 필터링"
   ]
  },
  {
   "cell_type": "code",
   "execution_count": null,
   "metadata": {},
   "outputs": [],
   "source": [
    "minTemps = df.where(df.measure_type == \"TMIN\")\n",
    "minTemps.count()"
   ]
  },
  {
   "cell_type": "markdown",
   "metadata": {},
   "source": [
    "##### where메소드의 SQL expression으로 필터링"
   ]
  },
  {
   "cell_type": "code",
   "execution_count": null,
   "metadata": {},
   "outputs": [],
   "source": [
    "minTemps = df.where(\"measure_type = 'TMIN'\")\n",
    "minTemps.count()"
   ]
  },
  {
   "cell_type": "markdown",
   "metadata": {},
   "source": [
    "### **StationID에 Groupby를 적용해서 최저온도 확인하기**"
   ]
  },
  {
   "cell_type": "code",
   "execution_count": 29,
   "metadata": {},
   "outputs": [
    {
     "name": "stdout",
     "output_type": "stream",
     "text": [
      "+-----------+----------------+\n",
      "|  stationID|min(temperature)|\n",
      "+-----------+----------------+\n",
      "|ITE00100554|          -148.0|\n",
      "|EZE00100082|          -135.0|\n",
      "+-----------+----------------+\n",
      "\n"
     ]
    }
   ],
   "source": [
    "# show()는 최대 20개까지 보여줌\n",
    "minTmepsByStation = minTemps.groupBy(\"stationID\").min(\"temperature\")\n",
    "minTmepsByStation.show()"
   ]
  },
  {
   "cell_type": "markdown",
   "metadata": {},
   "source": [
    "##### 데이터프레임처럼 컬럼 선택하기"
   ]
  },
  {
   "cell_type": "code",
   "execution_count": 30,
   "metadata": {},
   "outputs": [
    {
     "name": "stdout",
     "output_type": "stream",
     "text": [
      "+-----------+-----------+\n",
      "|  stationID|temperature|\n",
      "+-----------+-----------+\n",
      "|ITE00100554|     -148.0|\n",
      "|EZE00100082|     -135.0|\n",
      "|ITE00100554|     -125.0|\n",
      "|EZE00100082|     -130.0|\n",
      "|ITE00100554|      -46.0|\n",
      "+-----------+-----------+\n",
      "only showing top 5 rows\n",
      "\n"
     ]
    }
   ],
   "source": [
    "stationTemps = minTemps[[\"stationID\", \"temperature\"]]\n",
    "stationTemps.show(5)"
   ]
  },
  {
   "cell_type": "markdown",
   "metadata": {},
   "source": [
    "##### select 메소드로 컬럼 선택하기"
   ]
  },
  {
   "cell_type": "code",
   "execution_count": 31,
   "metadata": {},
   "outputs": [
    {
     "name": "stdout",
     "output_type": "stream",
     "text": [
      "+-----------+-----------+\n",
      "|  stationID|temperature|\n",
      "+-----------+-----------+\n",
      "|ITE00100554|     -148.0|\n",
      "|EZE00100082|     -135.0|\n",
      "|ITE00100554|     -125.0|\n",
      "|EZE00100082|     -130.0|\n",
      "|ITE00100554|      -46.0|\n",
      "+-----------+-----------+\n",
      "only showing top 5 rows\n",
      "\n"
     ]
    }
   ],
   "source": [
    "stationTemps = minTemps.select(\"stationID\", \"temperature\")\n",
    "stationTemps.show(5)"
   ]
  },
  {
   "cell_type": "markdown",
   "metadata": {},
   "source": [
    "##### collect 메서드로 python list형태로 가져오기"
   ]
  },
  {
   "cell_type": "code",
   "execution_count": 33,
   "metadata": {},
   "outputs": [
    {
     "name": "stdout",
     "output_type": "stream",
     "text": [
      "ITE00100554\t-148.000000F\n",
      "EZE00100082\t-135.000000F\n"
     ]
    }
   ],
   "source": [
    "results = minTmepsByStation.collect()\n",
    "for result in results:\n",
    "    print(result[0] + \"\\t{:2f}F\".format(result[1]))"
   ]
  },
  {
   "cell_type": "markdown",
   "metadata": {},
   "source": [
    "## SparkSQL로 처리해보기"
   ]
  },
  {
   "cell_type": "code",
   "execution_count": 34,
   "metadata": {},
   "outputs": [
    {
     "name": "stdout",
     "output_type": "stream",
     "text": [
      "Row(stationID='ITE00100554', min(temperature)=-148.0)\n",
      "Row(stationID='EZE00100082', min(temperature)=-135.0)\n"
     ]
    }
   ],
   "source": [
    "df.createOrReplaceTempView(\"station1800\")\n",
    "result = spark.sql(\"\"\"SELECT stationID, MIN(temperature)\n",
    "FROM station1800\n",
    "WHERE measure_type = \"TMIN\"\n",
    "GROUP BY 1\"\"\").collect()\n",
    "\n",
    "#pyspark.sql.row는 DataFrame의 레코드에 해당하며 필드별로 이름이 존재\n",
    "for r in results:\n",
    "    print(r)"
   ]
  }
 ],
 "metadata": {
  "kernelspec": {
   "display_name": "Python 3",
   "language": "python",
   "name": "python3"
  },
  "language_info": {
   "codemirror_mode": {
    "name": "ipython",
    "version": 3
   },
   "file_extension": ".py",
   "mimetype": "text/x-python",
   "name": "python",
   "nbconvert_exporter": "python",
   "pygments_lexer": "ipython3",
   "version": "3.10.11"
  }
 },
 "nbformat": 4,
 "nbformat_minor": 2
}
