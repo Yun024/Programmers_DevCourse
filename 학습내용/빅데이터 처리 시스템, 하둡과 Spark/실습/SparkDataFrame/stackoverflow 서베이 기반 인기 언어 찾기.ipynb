{
 "cells": [
  {
   "cell_type": "code",
   "execution_count": 1,
   "metadata": {},
   "outputs": [],
   "source": [
    "from pyspark.sql import SparkSession\n",
    "spark = SparkSession.builder\\\n",
    "        .master(\"local[2]\")\\\n",
    "        .appName(\"Pyspark DataFrame #4\")\\\n",
    "        .getOrCreate()"
   ]
  },
  {
   "cell_type": "code",
   "execution_count": 9,
   "metadata": {},
   "outputs": [
    {
     "name": "stdout",
     "output_type": "stream",
     "text": [
      "root\n",
      " |-- ResponseId: string (nullable = true)\n",
      " |-- LanguageHaveWorkedWith: string (nullable = true)\n",
      " |-- LanguageWantToWorkWith: string (nullable = true)\n",
      "\n"
     ]
    }
   ],
   "source": [
    "df = spark.read.csv(\"./data/survey_results_public.csv\", header=True\\\n",
    "                    ).select('ResponseId', 'LanguageHaveWorkedWith', 'LanguageWantToWorkWith')\n",
    "df.printSchema()"
   ]
  },
  {
   "cell_type": "code",
   "execution_count": 10,
   "metadata": {},
   "outputs": [
    {
     "name": "stdout",
     "output_type": "stream",
     "text": [
      "+----------+----------------------+----------------------+--------------------+\n",
      "|ResponseId|LanguageHaveWorkedWith|LanguageWantToWorkWith|       language_have|\n",
      "+----------+----------------------+----------------------+--------------------+\n",
      "|         1|  C++;HTML/CSS;Java...|                 Swift|[C++, HTML/CSS, J...|\n",
      "|         2|     JavaScript;Python|                    NA|[JavaScript, Python]|\n",
      "|         3|  Assembly;C;Python...|     Julia;Python;Rust|[Assembly, C, Pyt...|\n",
      "|         4|  JavaScript;TypeSc...|  JavaScript;TypeSc...|[JavaScript, Type...|\n",
      "|         5|  Bash/Shell;HTML/C...|  Bash/Shell;HTML/C...|[Bash/Shell, HTML...|\n",
      "+----------+----------------------+----------------------+--------------------+\n",
      "only showing top 5 rows\n",
      "\n"
     ]
    }
   ],
   "source": [
    "import pyspark.sql.functions as F\n",
    "\n",
    "# LanguageHaveWorkedWith 값을 트림하고 ;를 가지고 나눠서 리스트의 형태로 language_have 필드로 설정\n",
    "df2 = df.withColumn(\n",
    "    \"language_have\",\n",
    "    F.split(F.trim(F.col(\"LanguageHaveWorkedWith\")), \";\")\n",
    ")\n",
    "df2.show(5)\n"
   ]
  },
  {
   "cell_type": "code",
   "execution_count": 11,
   "metadata": {},
   "outputs": [
    {
     "name": "stdout",
     "output_type": "stream",
     "text": [
      "root\n",
      " |-- ResponseId: string (nullable = true)\n",
      " |-- LanguageHaveWorkedWith: string (nullable = true)\n",
      " |-- LanguageWantToWorkWith: string (nullable = true)\n",
      " |-- language_have: array (nullable = true)\n",
      " |    |-- element: string (containsNull = false)\n",
      " |-- language_want: array (nullable = true)\n",
      " |    |-- element: string (containsNull = false)\n",
      "\n"
     ]
    }
   ],
   "source": [
    "df3 = df2.withColumn(\n",
    "    \"language_want\",\n",
    "    F.split(F.trim(F.col(\"LanguageWantToWorkWith\")), \";\")\n",
    ")\n",
    "df3.printSchema()"
   ]
  },
  {
   "cell_type": "code",
   "execution_count": 12,
   "metadata": {},
   "outputs": [
    {
     "name": "stdout",
     "output_type": "stream",
     "text": [
      "+----------+----------------------+----------------------+--------------------+--------------------+\n",
      "|ResponseId|LanguageHaveWorkedWith|LanguageWantToWorkWith|       language_have|       language_want|\n",
      "+----------+----------------------+----------------------+--------------------+--------------------+\n",
      "|         1|  C++;HTML/CSS;Java...|                 Swift|[C++, HTML/CSS, J...|             [Swift]|\n",
      "|         2|     JavaScript;Python|                    NA|[JavaScript, Python]|                [NA]|\n",
      "|         3|  Assembly;C;Python...|     Julia;Python;Rust|[Assembly, C, Pyt...|[Julia, Python, R...|\n",
      "|         4|  JavaScript;TypeSc...|  JavaScript;TypeSc...|[JavaScript, Type...|[JavaScript, Type...|\n",
      "|         5|  Bash/Shell;HTML/C...|  Bash/Shell;HTML/C...|[Bash/Shell, HTML...|[Bash/Shell, HTML...|\n",
      "+----------+----------------------+----------------------+--------------------+--------------------+\n",
      "only showing top 5 rows\n",
      "\n"
     ]
    }
   ],
   "source": [
    "df3.show(5)"
   ]
  },
  {
   "cell_type": "markdown",
   "metadata": {},
   "source": [
    "## 현재 많이 사용되는 언어들 찾기"
   ]
  },
  {
   "cell_type": "code",
   "execution_count": 14,
   "metadata": {},
   "outputs": [
    {
     "name": "stdout",
     "output_type": "stream",
     "text": [
      "+----------+-------------+\n",
      "|ResponseId|language_have|\n",
      "+----------+-------------+\n",
      "|         1|          C++|\n",
      "|         1|     HTML/CSS|\n",
      "|         1|   JavaScript|\n",
      "|         1|  Objective-C|\n",
      "|         1|          PHP|\n",
      "|         1|        Swift|\n",
      "|         2|   JavaScript|\n",
      "|         2|       Python|\n",
      "|         3|     Assembly|\n",
      "|         3|            C|\n",
      "+----------+-------------+\n",
      "only showing top 10 rows\n",
      "\n"
     ]
    }
   ],
   "source": [
    "## explode 리스트에 있는 원소를 행으로 변환\n",
    "df_language_have = df3.select(\n",
    "    df3.ResponseId,\n",
    "    F.explode(df3.language_have).alias(\"language_have\")\n",
    ")\n",
    "df_language_have.show(10)"
   ]
  },
  {
   "cell_type": "code",
   "execution_count": 15,
   "metadata": {},
   "outputs": [
    {
     "name": "stdout",
     "output_type": "stream",
     "text": [
      "+-------------+-----+\n",
      "|language_have|count|\n",
      "+-------------+-----+\n",
      "|           C#|22984|\n",
      "|          VBA| 3847|\n",
      "|         Rust| 5799|\n",
      "|   Bash/Shell|22385|\n",
      "|   JavaScript|53587|\n",
      "|           NA| 1082|\n",
      "|         Perl| 2028|\n",
      "|       Erlang|  651|\n",
      "|       Matlab| 3846|\n",
      "|      Crystal|  466|\n",
      "+-------------+-----+\n",
      "only showing top 10 rows\n",
      "\n"
     ]
    }
   ],
   "source": [
    "df_language_have.groupby(\"language_have\").count().show(10)"
   ]
  },
  {
   "cell_type": "markdown",
   "metadata": {},
   "source": [
    "Sorting 두 가지 방법\n",
    "- sort & orderBy\n",
    "- ascending & descending"
   ]
  },
  {
   "cell_type": "code",
   "execution_count": 16,
   "metadata": {},
   "outputs": [
    {
     "data": {
      "text/plain": [
       "[Row(language_have='JavaScript', count=53587),\n",
       " Row(language_have='HTML/CSS', count=46259),\n",
       " Row(language_have='Python', count=39792),\n",
       " Row(language_have='SQL', count=38835),\n",
       " Row(language_have='Java', count=29162),\n",
       " Row(language_have='Node.js', count=27975),\n",
       " Row(language_have='TypeScript', count=24909),\n",
       " Row(language_have='C#', count=22984),\n",
       " Row(language_have='Bash/Shell', count=22385),\n",
       " Row(language_have='C++', count=20057),\n",
       " Row(language_have='PHP', count=18130),\n",
       " Row(language_have='C', count=17329),\n",
       " Row(language_have='PowerShell', count=8871),\n",
       " Row(language_have='Go', count=7879),\n",
       " Row(language_have='Kotlin', count=6866),\n",
       " Row(language_have='Rust', count=5799),\n",
       " Row(language_have='Ruby', count=5569),\n",
       " Row(language_have='Dart', count=4965),\n",
       " Row(language_have='Assembly', count=4632),\n",
       " Row(language_have='Swift', count=4204),\n",
       " Row(language_have='R', count=4185),\n",
       " Row(language_have='VBA', count=3847),\n",
       " Row(language_have='Matlab', count=3846),\n",
       " Row(language_have='Groovy', count=2479),\n",
       " Row(language_have='Objective-C', count=2310),\n",
       " Row(language_have='Scala', count=2148),\n",
       " Row(language_have='Perl', count=2028),\n",
       " Row(language_have='Haskell', count=1749),\n",
       " Row(language_have='Delphi', count=1731),\n",
       " Row(language_have='Clojure', count=1552),\n",
       " Row(language_have='Elixir', count=1438),\n",
       " Row(language_have='LISP', count=1096),\n",
       " Row(language_have='NA', count=1082),\n",
       " Row(language_have='Julia', count=1068),\n",
       " Row(language_have='F#', count=804),\n",
       " Row(language_have='Erlang', count=651),\n",
       " Row(language_have='APL', count=536),\n",
       " Row(language_have='Crystal', count=466),\n",
       " Row(language_have='COBOL', count=437)]"
      ]
     },
     "execution_count": 16,
     "metadata": {},
     "output_type": "execute_result"
    }
   ],
   "source": [
    "df_language_have.groupby(\"language_have\").count().sort(F.desc(\"count\")).collect()"
   ]
  },
  {
   "cell_type": "code",
   "execution_count": 17,
   "metadata": {},
   "outputs": [
    {
     "data": {
      "text/plain": [
       "[Row(language_have='JavaScript', count=53587),\n",
       " Row(language_have='HTML/CSS', count=46259),\n",
       " Row(language_have='Python', count=39792),\n",
       " Row(language_have='SQL', count=38835),\n",
       " Row(language_have='Java', count=29162),\n",
       " Row(language_have='Node.js', count=27975),\n",
       " Row(language_have='TypeScript', count=24909),\n",
       " Row(language_have='C#', count=22984),\n",
       " Row(language_have='Bash/Shell', count=22385),\n",
       " Row(language_have='C++', count=20057),\n",
       " Row(language_have='PHP', count=18130),\n",
       " Row(language_have='C', count=17329),\n",
       " Row(language_have='PowerShell', count=8871),\n",
       " Row(language_have='Go', count=7879),\n",
       " Row(language_have='Kotlin', count=6866),\n",
       " Row(language_have='Rust', count=5799),\n",
       " Row(language_have='Ruby', count=5569),\n",
       " Row(language_have='Dart', count=4965),\n",
       " Row(language_have='Assembly', count=4632),\n",
       " Row(language_have='Swift', count=4204),\n",
       " Row(language_have='R', count=4185),\n",
       " Row(language_have='VBA', count=3847),\n",
       " Row(language_have='Matlab', count=3846),\n",
       " Row(language_have='Groovy', count=2479),\n",
       " Row(language_have='Objective-C', count=2310),\n",
       " Row(language_have='Scala', count=2148),\n",
       " Row(language_have='Perl', count=2028),\n",
       " Row(language_have='Haskell', count=1749),\n",
       " Row(language_have='Delphi', count=1731),\n",
       " Row(language_have='Clojure', count=1552),\n",
       " Row(language_have='Elixir', count=1438),\n",
       " Row(language_have='LISP', count=1096),\n",
       " Row(language_have='NA', count=1082),\n",
       " Row(language_have='Julia', count=1068),\n",
       " Row(language_have='F#', count=804),\n",
       " Row(language_have='Erlang', count=651),\n",
       " Row(language_have='APL', count=536),\n",
       " Row(language_have='Crystal', count=466),\n",
       " Row(language_have='COBOL', count=437)]"
      ]
     },
     "execution_count": 17,
     "metadata": {},
     "output_type": "execute_result"
    }
   ],
   "source": [
    "df_language_have.groupby(\"language_have\").count().orderBy('count', ascending=False).collect()"
   ]
  },
  {
   "cell_type": "code",
   "execution_count": 19,
   "metadata": {},
   "outputs": [],
   "source": [
    "df_language50_have = df_language_have.groupby(\"language_have\")\\\n",
    "    .count()\\\n",
    "    .orderBy('count', ascending=False)\\\n",
    "    .limit(50)\n",
    "df_language50_have.write.mode('overwrite').csv(\"language50_have\")"
   ]
  },
  {
   "cell_type": "code",
   "execution_count": 22,
   "metadata": {},
   "outputs": [
    {
     "data": {
      "text/html": [
       "<div>\n",
       "<style scoped>\n",
       "    .dataframe tbody tr th:only-of-type {\n",
       "        vertical-align: middle;\n",
       "    }\n",
       "\n",
       "    .dataframe tbody tr th {\n",
       "        vertical-align: top;\n",
       "    }\n",
       "\n",
       "    .dataframe thead th {\n",
       "        text-align: right;\n",
       "    }\n",
       "</style>\n",
       "<table border=\"1\" class=\"dataframe\">\n",
       "  <thead>\n",
       "    <tr style=\"text-align: right;\">\n",
       "      <th></th>\n",
       "      <th>0</th>\n",
       "      <th>1</th>\n",
       "    </tr>\n",
       "  </thead>\n",
       "  <tbody>\n",
       "    <tr>\n",
       "      <th>0</th>\n",
       "      <td>JavaScript</td>\n",
       "      <td>53587</td>\n",
       "    </tr>\n",
       "    <tr>\n",
       "      <th>1</th>\n",
       "      <td>HTML/CSS</td>\n",
       "      <td>46259</td>\n",
       "    </tr>\n",
       "    <tr>\n",
       "      <th>2</th>\n",
       "      <td>Python</td>\n",
       "      <td>39792</td>\n",
       "    </tr>\n",
       "    <tr>\n",
       "      <th>3</th>\n",
       "      <td>SQL</td>\n",
       "      <td>38835</td>\n",
       "    </tr>\n",
       "    <tr>\n",
       "      <th>4</th>\n",
       "      <td>Java</td>\n",
       "      <td>29162</td>\n",
       "    </tr>\n",
       "    <tr>\n",
       "      <th>5</th>\n",
       "      <td>Node.js</td>\n",
       "      <td>27975</td>\n",
       "    </tr>\n",
       "    <tr>\n",
       "      <th>6</th>\n",
       "      <td>TypeScript</td>\n",
       "      <td>24909</td>\n",
       "    </tr>\n",
       "    <tr>\n",
       "      <th>7</th>\n",
       "      <td>C#</td>\n",
       "      <td>22984</td>\n",
       "    </tr>\n",
       "    <tr>\n",
       "      <th>8</th>\n",
       "      <td>Bash/Shell</td>\n",
       "      <td>22385</td>\n",
       "    </tr>\n",
       "    <tr>\n",
       "      <th>9</th>\n",
       "      <td>C++</td>\n",
       "      <td>20057</td>\n",
       "    </tr>\n",
       "    <tr>\n",
       "      <th>10</th>\n",
       "      <td>PHP</td>\n",
       "      <td>18130</td>\n",
       "    </tr>\n",
       "    <tr>\n",
       "      <th>11</th>\n",
       "      <td>C</td>\n",
       "      <td>17329</td>\n",
       "    </tr>\n",
       "    <tr>\n",
       "      <th>12</th>\n",
       "      <td>PowerShell</td>\n",
       "      <td>8871</td>\n",
       "    </tr>\n",
       "    <tr>\n",
       "      <th>13</th>\n",
       "      <td>Go</td>\n",
       "      <td>7879</td>\n",
       "    </tr>\n",
       "    <tr>\n",
       "      <th>14</th>\n",
       "      <td>Kotlin</td>\n",
       "      <td>6866</td>\n",
       "    </tr>\n",
       "    <tr>\n",
       "      <th>15</th>\n",
       "      <td>Rust</td>\n",
       "      <td>5799</td>\n",
       "    </tr>\n",
       "    <tr>\n",
       "      <th>16</th>\n",
       "      <td>Ruby</td>\n",
       "      <td>5569</td>\n",
       "    </tr>\n",
       "    <tr>\n",
       "      <th>17</th>\n",
       "      <td>Dart</td>\n",
       "      <td>4965</td>\n",
       "    </tr>\n",
       "    <tr>\n",
       "      <th>18</th>\n",
       "      <td>Assembly</td>\n",
       "      <td>4632</td>\n",
       "    </tr>\n",
       "    <tr>\n",
       "      <th>19</th>\n",
       "      <td>Swift</td>\n",
       "      <td>4204</td>\n",
       "    </tr>\n",
       "  </tbody>\n",
       "</table>\n",
       "</div>"
      ],
      "text/plain": [
       "             0      1\n",
       "0   JavaScript  53587\n",
       "1     HTML/CSS  46259\n",
       "2       Python  39792\n",
       "3          SQL  38835\n",
       "4         Java  29162\n",
       "5      Node.js  27975\n",
       "6   TypeScript  24909\n",
       "7           C#  22984\n",
       "8   Bash/Shell  22385\n",
       "9          C++  20057\n",
       "10         PHP  18130\n",
       "11           C  17329\n",
       "12  PowerShell   8871\n",
       "13          Go   7879\n",
       "14      Kotlin   6866\n",
       "15        Rust   5799\n",
       "16        Ruby   5569\n",
       "17        Dart   4965\n",
       "18    Assembly   4632\n",
       "19       Swift   4204"
      ]
     },
     "execution_count": 22,
     "metadata": {},
     "output_type": "execute_result"
    }
   ],
   "source": [
    "import pandas as pd\n",
    "temp = pd.read_csv(\"./language50_have/part-00000-ed1b4d2b-dc3e-4128-847a-61af77a3a92c-c000.csv\",header=None)\n",
    "temp.head(20)"
   ]
  },
  {
   "cell_type": "markdown",
   "metadata": {},
   "source": [
    "## 가장 배우고 싶은 언어 찾기"
   ]
  },
  {
   "cell_type": "code",
   "execution_count": 26,
   "metadata": {},
   "outputs": [
    {
     "name": "stdout",
     "output_type": "stream",
     "text": [
      "+----------+-------------+\n",
      "|ResponseId|language_want|\n",
      "+----------+-------------+\n",
      "|         1|        Swift|\n",
      "|         2|           NA|\n",
      "|         3|        Julia|\n",
      "|         3|       Python|\n",
      "|         3|         Rust|\n",
      "+----------+-------------+\n",
      "only showing top 5 rows\n",
      "\n"
     ]
    }
   ],
   "source": [
    "df_language_want = df3.select(\n",
    "    df3.ResponseId,\n",
    "    F.explode(df3.language_want).alias(\"language_want\")\n",
    ")\n",
    "df_language_want.show(5)"
   ]
  },
  {
   "cell_type": "code",
   "execution_count": 25,
   "metadata": {},
   "outputs": [
    {
     "name": "stdout",
     "output_type": "stream",
     "text": [
      "+-------------+-----+\n",
      "|language_want|count|\n",
      "+-------------+-----+\n",
      "|           C#|17999|\n",
      "|          VBA| 1069|\n",
      "|         Rust|15865|\n",
      "|   Bash/Shell|14043|\n",
      "|   JavaScript|37008|\n",
      "|           NA| 6618|\n",
      "|         Perl| 1175|\n",
      "|       Erlang| 1379|\n",
      "|       Matlab| 1562|\n",
      "|      Crystal|  790|\n",
      "+-------------+-----+\n",
      "only showing top 10 rows\n",
      "\n"
     ]
    }
   ],
   "source": [
    "df_language_want.groupby(\"language_want\").count().show(10)"
   ]
  },
  {
   "cell_type": "code",
   "execution_count": 28,
   "metadata": {},
   "outputs": [
    {
     "name": "stdout",
     "output_type": "stream",
     "text": [
      "+-------------+-----+\n",
      "|language_want|count|\n",
      "+-------------+-----+\n",
      "|   JavaScript|37008|\n",
      "|       Python|34929|\n",
      "|     HTML/CSS|29353|\n",
      "|   TypeScript|26905|\n",
      "|          SQL|26631|\n",
      "|      Node.js|24100|\n",
      "|           C#|17999|\n",
      "|         Java|17222|\n",
      "|         Rust|15865|\n",
      "|           Go|15788|\n",
      "+-------------+-----+\n",
      "only showing top 10 rows\n",
      "\n"
     ]
    }
   ],
   "source": [
    "df_language50_want = df_language_want.groupby(\"language_want\").count().orderBy('count', ascending=False)\n",
    "df_language50_want.show(10)"
   ]
  },
  {
   "cell_type": "code",
   "execution_count": 29,
   "metadata": {},
   "outputs": [],
   "source": [
    "df_language50_want.write.mode('overwrite').csv('language50_want')"
   ]
  }
 ],
 "metadata": {
  "kernelspec": {
   "display_name": "Python 3",
   "language": "python",
   "name": "python3"
  },
  "language_info": {
   "codemirror_mode": {
    "name": "ipython",
    "version": 3
   },
   "file_extension": ".py",
   "mimetype": "text/x-python",
   "name": "python",
   "nbconvert_exporter": "python",
   "pygments_lexer": "ipython3",
   "version": "3.10.11"
  }
 },
 "nbformat": 4,
 "nbformat_minor": 2
}
