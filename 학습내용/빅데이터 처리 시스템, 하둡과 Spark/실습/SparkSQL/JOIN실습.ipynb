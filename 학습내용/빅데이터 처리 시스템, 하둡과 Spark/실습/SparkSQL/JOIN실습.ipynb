{
 "cells": [
  {
   "cell_type": "code",
   "execution_count": null,
   "metadata": {},
   "outputs": [],
   "source": [
    "from pyspark.sql import SparkSession\n",
    "\n",
    "spark = SparkSession.builder \\\n",
    "    .appName(\"Python Spark Join\") \\\n",
    "    .master(\"local[2]\") \\\n",
    "    .config(\"spark.driver.memory\",\"2g\") \\\n",
    "    .config(\"spark.executor.memory\",\"2g\") \\\n",
    "    .getOrCreate()"
   ]
  },
  {
   "cell_type": "code",
   "execution_count": null,
   "metadata": {},
   "outputs": [],
   "source": [
    "vital = [\n",
    "    { 'UserID': 100, 'VitalID': 1, 'Date': '2020-01-01', 'Weight': 75 },\n",
    "    { 'UserID': 100, 'VitalID': 2, 'Date': '2020-01-02', 'Weight': 78 },\n",
    "    { 'UserID': 101, 'VitalID': 3, 'Date': '2020-01-01', 'Weight': 90 },\n",
    "    { 'UserID': 101, 'VitalID': 4, 'Date': '2020-01-02', 'Weight': 95 },\n",
    "]\n",
    "\n",
    "alert = [\n",
    "    { 'AlertID': 1, 'VitalID': 4, 'AlertType': 'WeightIncrease', 'Date': '2020-01-01', 'UserID': 101},\n",
    "    { 'AlertID': 2, 'VitalID': None, 'AlertType': 'MissingVital', 'Date': '2020-01-04', 'UserID': 100},\n",
    "    { 'AlertID': 3, 'VitalID': None, 'AlertType': 'MissingVital', 'Date': '2020-01-05', 'UserID': 101}\n",
    "]"
   ]
  },
  {
   "cell_type": "code",
   "execution_count": 3,
   "metadata": {},
   "outputs": [],
   "source": [
    "rdd_vital = spark.sparkContext.parallelize(vital)\n",
    "rdd_alert = spark.sparkContext.parallelize(alert)"
   ]
  },
  {
   "cell_type": "code",
   "execution_count": 4,
   "metadata": {},
   "outputs": [],
   "source": [
    "df_vital = rdd_vital.toDF()\n",
    "df_alert = rdd_alert.toDF()"
   ]
  },
  {
   "cell_type": "code",
   "execution_count": 5,
   "metadata": {},
   "outputs": [
    {
     "name": "stdout",
     "output_type": "stream",
     "text": [
      "root\n",
      " |-- Date: string (nullable = true)\n",
      " |-- UserID: long (nullable = true)\n",
      " |-- VitalID: long (nullable = true)\n",
      " |-- Weight: long (nullable = true)\n",
      "\n"
     ]
    }
   ],
   "source": [
    "df_vital.printSchema()"
   ]
  },
  {
   "cell_type": "code",
   "execution_count": 6,
   "metadata": {},
   "outputs": [
    {
     "name": "stdout",
     "output_type": "stream",
     "text": [
      "root\n",
      " |-- AlertID: long (nullable = true)\n",
      " |-- AlertType: string (nullable = true)\n",
      " |-- Date: string (nullable = true)\n",
      " |-- UserID: long (nullable = true)\n",
      " |-- VitalID: long (nullable = true)\n",
      "\n"
     ]
    }
   ],
   "source": [
    "df_alert.printSchema()"
   ]
  },
  {
   "cell_type": "markdown",
   "metadata": {},
   "source": [
    "### JOIN by DataFrame"
   ]
  },
  {
   "cell_type": "code",
   "execution_count": 7,
   "metadata": {},
   "outputs": [
    {
     "name": "stdout",
     "output_type": "stream",
     "text": [
      "+----------+------+-------+------+-------+--------------+----------+------+-------+\n",
      "|      Date|UserID|VitalID|Weight|AlertID|     AlertType|      Date|UserID|VitalID|\n",
      "+----------+------+-------+------+-------+--------------+----------+------+-------+\n",
      "|2020-01-02|   101|      4|    95|      1|WeightIncrease|2020-01-01|   101|      4|\n",
      "+----------+------+-------+------+-------+--------------+----------+------+-------+\n",
      "\n"
     ]
    }
   ],
   "source": [
    "# INNER JOIN\n",
    "join_expr = df_vital.VitalID == df_alert.VitalID\n",
    "df_vital.join(df_alert, join_expr, \"inner\").show()"
   ]
  },
  {
   "cell_type": "code",
   "execution_count": 8,
   "metadata": {},
   "outputs": [
    {
     "name": "stdout",
     "output_type": "stream",
     "text": [
      "+----------+------+-------+------+-------+--------------+----------+------+-------+\n",
      "|      Date|UserID|VitalID|Weight|AlertID|     AlertType|      Date|UserID|VitalID|\n",
      "+----------+------+-------+------+-------+--------------+----------+------+-------+\n",
      "|2020-01-01|   100|      1|    75|   NULL|          NULL|      NULL|  NULL|   NULL|\n",
      "|2020-01-02|   100|      2|    78|   NULL|          NULL|      NULL|  NULL|   NULL|\n",
      "|2020-01-01|   101|      3|    90|   NULL|          NULL|      NULL|  NULL|   NULL|\n",
      "|2020-01-02|   101|      4|    95|      1|WeightIncrease|2020-01-01|   101|      4|\n",
      "+----------+------+-------+------+-------+--------------+----------+------+-------+\n",
      "\n"
     ]
    }
   ],
   "source": [
    "# LEFT JOIN\n",
    "join_expr = df_vital.VitalID == df_alert.VitalID\n",
    "df_vital.join(df_alert, join_expr, \"left\").show()"
   ]
  },
  {
   "cell_type": "code",
   "execution_count": 9,
   "metadata": {},
   "outputs": [
    {
     "name": "stdout",
     "output_type": "stream",
     "text": [
      "+----------+------+-------+------+-------+--------------+----------+------+-------+\n",
      "|      Date|UserID|VitalID|Weight|AlertID|     AlertType|      Date|UserID|VitalID|\n",
      "+----------+------+-------+------+-------+--------------+----------+------+-------+\n",
      "|2020-01-02|   101|      4|    95|      1|WeightIncrease|2020-01-01|   101|      4|\n",
      "|      NULL|  NULL|   NULL|  NULL|      2|  MissingVital|2020-01-04|   100|   NULL|\n",
      "|      NULL|  NULL|   NULL|  NULL|      3|  MissingVital|2020-01-05|   101|   NULL|\n",
      "+----------+------+-------+------+-------+--------------+----------+------+-------+\n",
      "\n"
     ]
    }
   ],
   "source": [
    "# RIGHT JOIN\n",
    "join_expr = df_vital.VitalID == df_alert.VitalID\n",
    "df_vital.join(df_alert, join_expr, \"right\").show()"
   ]
  },
  {
   "cell_type": "code",
   "execution_count": 10,
   "metadata": {},
   "outputs": [
    {
     "name": "stdout",
     "output_type": "stream",
     "text": [
      "+----------+------+-------+------+-------+--------------+----------+------+-------+\n",
      "|      Date|UserID|VitalID|Weight|AlertID|     AlertType|      Date|UserID|VitalID|\n",
      "+----------+------+-------+------+-------+--------------+----------+------+-------+\n",
      "|      NULL|  NULL|   NULL|  NULL|      2|  MissingVital|2020-01-04|   100|   NULL|\n",
      "|      NULL|  NULL|   NULL|  NULL|      3|  MissingVital|2020-01-05|   101|   NULL|\n",
      "|2020-01-01|   100|      1|    75|   NULL|          NULL|      NULL|  NULL|   NULL|\n",
      "|2020-01-02|   100|      2|    78|   NULL|          NULL|      NULL|  NULL|   NULL|\n",
      "|2020-01-01|   101|      3|    90|   NULL|          NULL|      NULL|  NULL|   NULL|\n",
      "|2020-01-02|   101|      4|    95|      1|WeightIncrease|2020-01-01|   101|      4|\n",
      "+----------+------+-------+------+-------+--------------+----------+------+-------+\n",
      "\n"
     ]
    }
   ],
   "source": [
    "# FULL OUTER JOIN\n",
    "join_expr = df_vital.VitalID == df_alert.VitalID\n",
    "df_vital.join(df_alert, join_expr, \"full\").show()"
   ]
  },
  {
   "cell_type": "code",
   "execution_count": 11,
   "metadata": {},
   "outputs": [
    {
     "name": "stdout",
     "output_type": "stream",
     "text": [
      "+----------+------+-------+------+-------+--------------+----------+------+-------+\n",
      "|      Date|UserID|VitalID|Weight|AlertID|     AlertType|      Date|UserID|VitalID|\n",
      "+----------+------+-------+------+-------+--------------+----------+------+-------+\n",
      "|2020-01-01|   100|      1|    75|      1|WeightIncrease|2020-01-01|   101|      4|\n",
      "|2020-01-02|   100|      2|    78|      1|WeightIncrease|2020-01-01|   101|      4|\n",
      "|2020-01-01|   100|      1|    75|      2|  MissingVital|2020-01-04|   100|   NULL|\n",
      "|2020-01-01|   100|      1|    75|      3|  MissingVital|2020-01-05|   101|   NULL|\n",
      "|2020-01-02|   100|      2|    78|      2|  MissingVital|2020-01-04|   100|   NULL|\n",
      "|2020-01-02|   100|      2|    78|      3|  MissingVital|2020-01-05|   101|   NULL|\n",
      "|2020-01-01|   101|      3|    90|      1|WeightIncrease|2020-01-01|   101|      4|\n",
      "|2020-01-02|   101|      4|    95|      1|WeightIncrease|2020-01-01|   101|      4|\n",
      "|2020-01-01|   101|      3|    90|      2|  MissingVital|2020-01-04|   100|   NULL|\n",
      "|2020-01-01|   101|      3|    90|      3|  MissingVital|2020-01-05|   101|   NULL|\n",
      "|2020-01-02|   101|      4|    95|      2|  MissingVital|2020-01-04|   100|   NULL|\n",
      "|2020-01-02|   101|      4|    95|      3|  MissingVital|2020-01-05|   101|   NULL|\n",
      "+----------+------+-------+------+-------+--------------+----------+------+-------+\n",
      "\n"
     ]
    }
   ],
   "source": [
    "# CROSS JOIN\n",
    "df_vital.join(df_alert, None, \"cross\").show()"
   ]
  },
  {
   "cell_type": "code",
   "execution_count": null,
   "metadata": {},
   "outputs": [
    {
     "name": "stdout",
     "output_type": "stream",
     "text": [
      "+----------+------+-------+------+----------+------+-------+------+\n",
      "|      Date|UserID|VitalID|Weight|      Date|UserID|VitalID|Weight|\n",
      "+----------+------+-------+------+----------+------+-------+------+\n",
      "|2020-01-01|   100|      1|    75|2020-01-01|   100|      1|    75|\n",
      "|2020-01-02|   100|      2|    78|2020-01-02|   100|      2|    78|\n",
      "|2020-01-01|   101|      3|    90|2020-01-01|   101|      3|    90|\n",
      "|2020-01-02|   101|      4|    95|2020-01-02|   101|      4|    95|\n",
      "+----------+------+-------+------+----------+------+-------+------+\n",
      "\n"
     ]
    }
   ],
   "source": [
    "# SELF JOIN\n",
    "join_expr = df_vital.VitalID == df_vital.VitalID\n",
    "df_vital.join(df_vital, join_expr, \"left\").show()"
   ]
  },
  {
   "cell_type": "markdown",
   "metadata": {},
   "source": [
    "### JOIN by SQL"
   ]
  },
  {
   "cell_type": "code",
   "execution_count": 13,
   "metadata": {},
   "outputs": [],
   "source": [
    "df_vital.createOrReplaceTempView(\"Vital\")\n",
    "df_alert.createOrReplaceTempView(\"Alert\")"
   ]
  },
  {
   "cell_type": "code",
   "execution_count": 14,
   "metadata": {},
   "outputs": [
    {
     "name": "stdout",
     "output_type": "stream",
     "text": [
      "+----------+------+-------+------+-------+--------------+----------+------+-------+\n",
      "|      Date|UserID|VitalID|Weight|AlertID|     AlertType|      Date|UserID|VitalID|\n",
      "+----------+------+-------+------+-------+--------------+----------+------+-------+\n",
      "|2020-01-02|   101|      4|    95|      1|WeightIncrease|2020-01-01|   101|      4|\n",
      "+----------+------+-------+------+-------+--------------+----------+------+-------+\n",
      "\n"
     ]
    }
   ],
   "source": [
    "# INNER JOIN\n",
    "df_inner_join = spark.sql(\"\"\"SELECT * FROM Vital v\n",
    "JOIN Alert a ON v.vitalID = a.vitalID;\"\"\")\n",
    "df_inner_join.show()"
   ]
  },
  {
   "cell_type": "code",
   "execution_count": 15,
   "metadata": {},
   "outputs": [
    {
     "name": "stdout",
     "output_type": "stream",
     "text": [
      "+----------+------+-------+------+-------+--------------+----------+------+-------+\n",
      "|      Date|UserID|VitalID|Weight|AlertID|     AlertType|      Date|UserID|VitalID|\n",
      "+----------+------+-------+------+-------+--------------+----------+------+-------+\n",
      "|2020-01-01|   100|      1|    75|   NULL|          NULL|      NULL|  NULL|   NULL|\n",
      "|2020-01-02|   100|      2|    78|   NULL|          NULL|      NULL|  NULL|   NULL|\n",
      "|2020-01-01|   101|      3|    90|   NULL|          NULL|      NULL|  NULL|   NULL|\n",
      "|2020-01-02|   101|      4|    95|      1|WeightIncrease|2020-01-01|   101|      4|\n",
      "+----------+------+-------+------+-------+--------------+----------+------+-------+\n",
      "\n"
     ]
    }
   ],
   "source": [
    "# LEFT JOIN\n",
    "df_left_join = spark.sql(\"\"\"SELECT * FROM Vital v\n",
    "LEFT JOIN Alert a ON v.vitalID = a.vitalID;\"\"\")\n",
    "df_left_join.show()"
   ]
  },
  {
   "cell_type": "code",
   "execution_count": 16,
   "metadata": {},
   "outputs": [
    {
     "name": "stdout",
     "output_type": "stream",
     "text": [
      "+----------+------+-------+------+-------+--------------+----------+------+-------+\n",
      "|      Date|UserID|VitalID|Weight|AlertID|     AlertType|      Date|UserID|VitalID|\n",
      "+----------+------+-------+------+-------+--------------+----------+------+-------+\n",
      "|2020-01-02|   101|      4|    95|      1|WeightIncrease|2020-01-01|   101|      4|\n",
      "|      NULL|  NULL|   NULL|  NULL|      2|  MissingVital|2020-01-04|   100|   NULL|\n",
      "|      NULL|  NULL|   NULL|  NULL|      3|  MissingVital|2020-01-05|   101|   NULL|\n",
      "+----------+------+-------+------+-------+--------------+----------+------+-------+\n",
      "\n"
     ]
    }
   ],
   "source": [
    "# RIGHT JOIN\n",
    "df_right_join = spark.sql(\"\"\"SELECT * FROM Vital v\n",
    "RIGHT JOIN Alert a ON v.vitalID = a.vitalID;\"\"\")\n",
    "df_right_join.show()"
   ]
  },
  {
   "cell_type": "code",
   "execution_count": 17,
   "metadata": {},
   "outputs": [
    {
     "name": "stdout",
     "output_type": "stream",
     "text": [
      "+----------+------+-------+------+-------+--------------+----------+------+-------+\n",
      "|      Date|UserID|VitalID|Weight|AlertID|     AlertType|      Date|UserID|VitalID|\n",
      "+----------+------+-------+------+-------+--------------+----------+------+-------+\n",
      "|      NULL|  NULL|   NULL|  NULL|      2|  MissingVital|2020-01-04|   100|   NULL|\n",
      "|      NULL|  NULL|   NULL|  NULL|      3|  MissingVital|2020-01-05|   101|   NULL|\n",
      "|2020-01-01|   100|      1|    75|   NULL|          NULL|      NULL|  NULL|   NULL|\n",
      "|2020-01-02|   100|      2|    78|   NULL|          NULL|      NULL|  NULL|   NULL|\n",
      "|2020-01-01|   101|      3|    90|   NULL|          NULL|      NULL|  NULL|   NULL|\n",
      "|2020-01-02|   101|      4|    95|      1|WeightIncrease|2020-01-01|   101|      4|\n",
      "+----------+------+-------+------+-------+--------------+----------+------+-------+\n",
      "\n"
     ]
    }
   ],
   "source": [
    "# OUTER JOIN\n",
    "df_outer_join = spark.sql(\"\"\"SELECT * FROM Vital v\n",
    "FULL JOIN Alert a ON v.vitalID = a.vitalID;\"\"\")\n",
    "df_outer_join.show()"
   ]
  },
  {
   "cell_type": "code",
   "execution_count": 18,
   "metadata": {},
   "outputs": [
    {
     "name": "stdout",
     "output_type": "stream",
     "text": [
      "+----------+------+-------+------+-------+--------------+----------+------+-------+\n",
      "|      Date|UserID|VitalID|Weight|AlertID|     AlertType|      Date|UserID|VitalID|\n",
      "+----------+------+-------+------+-------+--------------+----------+------+-------+\n",
      "|2020-01-01|   100|      1|    75|      1|WeightIncrease|2020-01-01|   101|      4|\n",
      "|2020-01-02|   100|      2|    78|      1|WeightIncrease|2020-01-01|   101|      4|\n",
      "|2020-01-01|   100|      1|    75|      2|  MissingVital|2020-01-04|   100|   NULL|\n",
      "|2020-01-01|   100|      1|    75|      3|  MissingVital|2020-01-05|   101|   NULL|\n",
      "|2020-01-02|   100|      2|    78|      2|  MissingVital|2020-01-04|   100|   NULL|\n",
      "|2020-01-02|   100|      2|    78|      3|  MissingVital|2020-01-05|   101|   NULL|\n",
      "|2020-01-01|   101|      3|    90|      1|WeightIncrease|2020-01-01|   101|      4|\n",
      "|2020-01-02|   101|      4|    95|      1|WeightIncrease|2020-01-01|   101|      4|\n",
      "|2020-01-01|   101|      3|    90|      2|  MissingVital|2020-01-04|   100|   NULL|\n",
      "|2020-01-01|   101|      3|    90|      3|  MissingVital|2020-01-05|   101|   NULL|\n",
      "|2020-01-02|   101|      4|    95|      2|  MissingVital|2020-01-04|   100|   NULL|\n",
      "|2020-01-02|   101|      4|    95|      3|  MissingVital|2020-01-05|   101|   NULL|\n",
      "+----------+------+-------+------+-------+--------------+----------+------+-------+\n",
      "\n"
     ]
    }
   ],
   "source": [
    "# CROSS JOIN\n",
    "df_cross_join = spark.sql(\"\"\"SELECT * FROM Vital v\n",
    "CROSS JOIN Alert a\"\"\")\n",
    "df_cross_join.show()"
   ]
  },
  {
   "cell_type": "code",
   "execution_count": 22,
   "metadata": {},
   "outputs": [
    {
     "name": "stdout",
     "output_type": "stream",
     "text": [
      "+----------+------+-------+------+----------+------+-------+------+\n",
      "|      Date|UserID|VitalID|Weight|      Date|UserID|VitalID|Weight|\n",
      "+----------+------+-------+------+----------+------+-------+------+\n",
      "|2020-01-01|   100|      1|    75|2020-01-01|   100|      1|    75|\n",
      "|2020-01-01|   100|      1|    75|2020-01-02|   100|      2|    78|\n",
      "|2020-01-02|   100|      2|    78|2020-01-01|   100|      1|    75|\n",
      "|2020-01-02|   100|      2|    78|2020-01-02|   100|      2|    78|\n",
      "|2020-01-01|   100|      1|    75|2020-01-01|   101|      3|    90|\n",
      "|2020-01-01|   100|      1|    75|2020-01-02|   101|      4|    95|\n",
      "|2020-01-02|   100|      2|    78|2020-01-01|   101|      3|    90|\n",
      "|2020-01-02|   100|      2|    78|2020-01-02|   101|      4|    95|\n",
      "|2020-01-01|   101|      3|    90|2020-01-01|   100|      1|    75|\n",
      "|2020-01-01|   101|      3|    90|2020-01-02|   100|      2|    78|\n",
      "|2020-01-02|   101|      4|    95|2020-01-01|   100|      1|    75|\n",
      "|2020-01-02|   101|      4|    95|2020-01-02|   100|      2|    78|\n",
      "|2020-01-01|   101|      3|    90|2020-01-01|   101|      3|    90|\n",
      "|2020-01-01|   101|      3|    90|2020-01-02|   101|      4|    95|\n",
      "|2020-01-02|   101|      4|    95|2020-01-01|   101|      3|    90|\n",
      "|2020-01-02|   101|      4|    95|2020-01-02|   101|      4|    95|\n",
      "+----------+------+-------+------+----------+------+-------+------+\n",
      "\n"
     ]
    }
   ],
   "source": [
    "# self JOIN\n",
    "df_self_join = spark.sql(\"\"\"SELECT * FROM Vital v1\n",
    "JOIN Vital v2\"\"\")\n",
    "df_self_join.show()"
   ]
  }
 ],
 "metadata": {
  "kernelspec": {
   "display_name": "Python 3",
   "language": "python",
   "name": "python3"
  },
  "language_info": {
   "codemirror_mode": {
    "name": "ipython",
    "version": 3
   },
   "file_extension": ".py",
   "mimetype": "text/x-python",
   "name": "python",
   "nbconvert_exporter": "python",
   "pygments_lexer": "ipython3",
   "version": "3.10.11"
  }
 },
 "nbformat": 4,
 "nbformat_minor": 2
}
