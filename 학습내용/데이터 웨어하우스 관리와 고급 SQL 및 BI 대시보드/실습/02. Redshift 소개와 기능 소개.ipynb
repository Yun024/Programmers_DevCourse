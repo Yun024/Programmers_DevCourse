{
 "cells": [
  {
   "cell_type": "code",
   "execution_count": null,
   "metadata": {
    "id": "bfsdMuCrXJbD"
   },
   "outputs": [],
   "source": [
    "!pip install SQLAlchemy==1.4.49\n",
    "!pip install ipython-sql==0.4.1"
   ]
  },
  {
   "cell_type": "code",
   "execution_count": null,
   "metadata": {
    "id": "QIOXdfaNOuRx"
   },
   "outputs": [],
   "source": [
    "%load_ext sql"
   ]
  },
  {
   "cell_type": "code",
   "execution_count": null,
   "metadata": {
    "id": "uLbYTpLMMKPm"
   },
   "outputs": [],
   "source": [
    "%sql postgresql://[ID]:[PW]@[Redshift endpoint]"
   ]
  },
  {
   "cell_type": "markdown",
   "metadata": {
    "id": "iSDwAq770H9p"
   },
   "source": [
    "### Redshift Schema 설정"
   ]
  },
  {
   "cell_type": "code",
   "execution_count": null,
   "metadata": {
    "id": "GrWvf0mFPKQp"
   },
   "outputs": [],
   "source": [
    "%%sql\n",
    "\n",
    "CREATE SCHEMA raw_data;\n",
    "CREATE SCHEMA analytics;\n",
    "CREATE SCHEMA adhoc;\n",
    "CREATE SCHEMA pii;\n"
   ]
  },
  {
   "cell_type": "code",
   "execution_count": null,
   "metadata": {
    "id": "wdmlOh1YRDIM"
   },
   "outputs": [],
   "source": [
    "%%sql\n",
    "\n",
    "select * from pg_namespace;"
   ]
  },
  {
   "cell_type": "markdown",
   "metadata": {
    "id": "M0KxmygW0UPM"
   },
   "source": [
    "### Redshift User 설정"
   ]
  },
  {
   "cell_type": "code",
   "execution_count": null,
   "metadata": {
    "id": "wXi3nmvy0fhO"
   },
   "outputs": [],
   "source": [
    "%%sql\n",
    "\n",
    "CREATE USER [사용자명] PASSWORD [패스워드];"
   ]
  },
  {
   "cell_type": "code",
   "execution_count": null,
   "metadata": {
    "id": "QOTmq6rO02kd"
   },
   "outputs": [],
   "source": [
    "%%sql\n",
    "\n",
    "select * from pg_user;"
   ]
  },
  {
   "cell_type": "markdown",
   "metadata": {
    "id": "7qlPYF0P1Obi"
   },
   "source": [
    "### Redshift Group 설정"
   ]
  },
  {
   "cell_type": "code",
   "execution_count": null,
   "metadata": {
    "id": "MNRoaaUE2KR0"
   },
   "outputs": [],
   "source": [
    "%%sql\n",
    "\n",
    "select * from pg_group;"
   ]
  },
  {
   "cell_type": "code",
   "execution_count": null,
   "metadata": {
    "id": "XucgPBGX1QKX"
   },
   "outputs": [],
   "source": [
    "%%sql\n",
    "\n",
    "CREATE GROUP analytics_users;\n",
    "CREATE GROUP pii_users;\n",
    "CREATE GROUP analytics_authors;"
   ]
  },
  {
   "cell_type": "code",
   "execution_count": null,
   "metadata": {
    "id": "3FPeWeAK1XNk"
   },
   "outputs": [],
   "source": [
    "%%sql\n",
    "\n",
    "ALTER GROUP analytics_users ADD USER yeojun;\n",
    "ALTER GROUP pii_users ADD USER yeojun;\n",
    "ALTER GROUP analytics_authors ADD USER yeojun;"
   ]
  },
  {
   "cell_type": "markdown",
   "metadata": {
    "id": "jOLQa_L61tLV"
   },
   "source": [
    "### Redshift Role 설정"
   ]
  },
  {
   "cell_type": "code",
   "execution_count": null,
   "metadata": {
    "id": "Cjwm_kGv1vG2"
   },
   "outputs": [],
   "source": [
    "%%sql\n",
    "\n",
    "CREATE ROLE staff;\n",
    "CREATE ROLE manager;\n",
    "CREATE ROLE external;"
   ]
  },
  {
   "cell_type": "code",
   "execution_count": null,
   "metadata": {
    "id": "-yrJhcqx12yN"
   },
   "outputs": [],
   "source": [
    "%%sql\n",
    "\n",
    "GRANT ROLE staff TO yeojun;\n",
    "GRANT ROLE staff TO ROLE manager;"
   ]
  },
  {
   "cell_type": "code",
   "execution_count": null,
   "metadata": {
    "id": "PcdEHct42D6L"
   },
   "outputs": [],
   "source": [
    "%%sql\n",
    "\n",
    "select * from SVV_ROLES;"
   ]
  },
  {
   "cell_type": "markdown",
   "metadata": {
    "id": "pbdyF99MJ2iM"
   },
   "source": [
    "### COPY 명령으로 테이블 만들기"
   ]
  },
  {
   "cell_type": "code",
   "execution_count": null,
   "metadata": {
    "id": "78TN42kfJmxP"
   },
   "outputs": [],
   "source": [
    "%%sql\n",
    "\n",
    "CREATE TABLE raw_data.user_session_channel(\n",
    "  userid integer,\n",
    "  sessionid varchar(32) primary key,\n",
    "  channel varchar(32)\n",
    ");"
   ]
  },
  {
   "cell_type": "code",
   "execution_count": null,
   "metadata": {
    "id": "yuqzvHgkKKXe"
   },
   "outputs": [],
   "source": [
    "%%sql\n",
    "\n",
    "COPY raw_data.user_session_channel\n",
    "FROM 's3://yeojun-test-bucket/test_data/user_session_channel.csv'\n",
    "credentials [IAM_ARN]\n",
    "delimiter ',' dateformat 'auto' timeformat 'auto' IGNOREHEADER 1 removequotes;"
   ]
  },
  {
   "cell_type": "code",
   "execution_count": null,
   "metadata": {
    "id": "VIDG7w9qKwn5"
   },
   "outputs": [],
   "source": [
    "%%sql\n",
    "\n",
    "SELECT * FROM raw_data.user_session_channel LIMIT 10;"
   ]
  },
  {
   "cell_type": "code",
   "execution_count": null,
   "metadata": {
    "id": "3Se-eM4eK2sG"
   },
   "outputs": [],
   "source": [
    "%%sql\n",
    "\n",
    "CREATE TABLE raw_data.session_timestamp(\n",
    "  sessionid varchar(32) primary key,\n",
    "  ts timestamp\n",
    ");"
   ]
  },
  {
   "cell_type": "code",
   "execution_count": null,
   "metadata": {
    "id": "7BQAJAYjLAtw"
   },
   "outputs": [],
   "source": [
    "%%sql\n",
    "\n",
    "COPY raw_data.session_timestamp\n",
    "FROM 's3://yeojun-test-bucket/test_data/session_timestamp.csv'\n",
    "credentials [IAM_ARN]\n",
    "delimiter ',' dateformat 'auto' timeformat 'auto' IGNOREHEADER 1 removequotes;"
   ]
  },
  {
   "cell_type": "code",
   "execution_count": null,
   "metadata": {
    "id": "zDehYT4rLSIe"
   },
   "outputs": [],
   "source": [
    "%%sql\n",
    "\n",
    "SELECT * FROM raw_data.session_timestamp LIMIT 10;"
   ]
  },
  {
   "cell_type": "code",
   "execution_count": null,
   "metadata": {
    "id": "S4n0TFmILjyo"
   },
   "outputs": [],
   "source": [
    "%%sql\n",
    "\n",
    "CREATE TABLE raw_data.session_transaction (\n",
    "  sessionid varchar(32) primary key,\n",
    "  refunded boolean,\n",
    "  amount int\n",
    ");"
   ]
  },
  {
   "cell_type": "code",
   "execution_count": null,
   "metadata": {
    "id": "rSWzo1v9LY0G"
   },
   "outputs": [],
   "source": [
    "%%sql\n",
    "\n",
    "COPY raw_data.session_transaction\n",
    "FROM 's3://yeojun-test-bucket/test_data/session_transaction.csv'\n",
    "credentials [IAM_ARN]\n",
    "delimiter ',' dateformat 'auto' timeformat 'auto' IGNOREHEADER 1 removequotes;"
   ]
  },
  {
   "cell_type": "code",
   "execution_count": null,
   "metadata": {
    "id": "PALuie5ULu-V"
   },
   "outputs": [],
   "source": [
    "%%sql\n",
    "\n",
    "SELECT * FROM raw_data.session_transaction LIMIT 10;"
   ]
  }
 ],
 "metadata": {
  "colab": {
   "authorship_tag": "ABX9TyNdSLD/e4C4FfaRANiljTcc",
   "provenance": []
  },
  "kernelspec": {
   "display_name": "Python 3",
   "name": "python3"
  },
  "language_info": {
   "name": "python"
  }
 },
 "nbformat": 4,
 "nbformat_minor": 0
}
