{
 "cells": [
  {
   "cell_type": "code",
   "execution_count": 15,
   "metadata": {},
   "outputs": [],
   "source": [
    "from pyspark.sql import SparkSession\n",
    "\n",
    "spark = SparkSession.builder\\\n",
    "        .master(\"local[2]\")\\\n",
    "        .appName('PySpark DataFrame #2')\\\n",
    "        .getOrCreate()"
   ]
  },
  {
   "cell_type": "code",
   "execution_count": 2,
   "metadata": {},
   "outputs": [],
   "source": [
    "from pyspark.sql import SparkSession\n",
    "from pyspark.sql import functions as func\n",
    "from pyspark.sql.types import StructType, StructField, StringType, FloatType\n",
    "\n",
    "schema = StructType([ \\\n",
    "                    StructField(\"cust_id\", StringType(), True),\\\n",
    "                    StructField(\"item_id\", StringType(), True),\\\n",
    "                    StructField(\"amount_spent\", FloatType(), True)\n",
    "                    ])"
   ]
  },
  {
   "cell_type": "code",
   "execution_count": 3,
   "metadata": {},
   "outputs": [
    {
     "name": "stdout",
     "output_type": "stream",
     "text": [
      "root\n",
      " |-- cust_id: string (nullable = true)\n",
      " |-- item_id: string (nullable = true)\n",
      " |-- amount_spent: float (nullable = true)\n",
      "\n"
     ]
    }
   ],
   "source": [
    "df = spark.read.schema(schema).csv(\"customer-orders.csv\")\n",
    "df.printSchema()"
   ]
  },
  {
   "cell_type": "code",
   "execution_count": 4,
   "metadata": {},
   "outputs": [
    {
     "name": "stdout",
     "output_type": "stream",
     "text": [
      "+-------+------------------+\n",
      "|cust_id| sum(amount_spent)|\n",
      "+-------+------------------+\n",
      "|     51| 4975.219970226288|\n",
      "|      7| 4755.070008277893|\n",
      "|     15| 5413.510010659695|\n",
      "|     54| 6065.390002984554|\n",
      "|     11| 5152.289969373494|\n",
      "|     29|5032.5300433933735|\n",
      "|     69| 5123.010002791882|\n",
      "|     42| 5696.840004444122|\n",
      "|     73| 6206.199985742569|\n",
      "|     87| 5206.400022745132|\n",
      "|     64| 5288.690012812614|\n",
      "|      3| 4659.629958629608|\n",
      "|     30| 4990.720004022121|\n",
      "|     34|5330.8000039458275|\n",
      "|     59| 5642.890004396439|\n",
      "|      8|5517.2399980425835|\n",
      "|     22| 5019.449993014336|\n",
      "|     28|  5000.71000123024|\n",
      "|     85|  5503.42998456955|\n",
      "|     35|  5155.41999566555|\n",
      "+-------+------------------+\n",
      "only showing top 20 rows\n",
      "\n"
     ]
    }
   ],
   "source": [
    "df_ca = df.groupBy(\"cust_id\").sum(\"amount_spent\")\n",
    "df_ca.show()"
   ]
  },
  {
   "cell_type": "code",
   "execution_count": 6,
   "metadata": {},
   "outputs": [
    {
     "name": "stdout",
     "output_type": "stream",
     "text": [
      "+-------+------------------+\n",
      "|cust_id|               sum|\n",
      "+-------+------------------+\n",
      "|     51| 4975.219970226288|\n",
      "|      7| 4755.070008277893|\n",
      "|     15| 5413.510010659695|\n",
      "|     54| 6065.390002984554|\n",
      "|     11| 5152.289969373494|\n",
      "|     29|5032.5300433933735|\n",
      "|     69| 5123.010002791882|\n",
      "|     42| 5696.840004444122|\n",
      "|     73| 6206.199985742569|\n",
      "|     87| 5206.400022745132|\n",
      "+-------+------------------+\n",
      "only showing top 10 rows\n",
      "\n"
     ]
    }
   ],
   "source": [
    "df_ca = df.groupBy(\"cust_id\").sum(\"amount_spent\").withColumnRenamed(\"sum(amount_spent)\",\"sum\")\n",
    "df_ca.show(10)"
   ]
  },
  {
   "cell_type": "code",
   "execution_count": 7,
   "metadata": {},
   "outputs": [
    {
     "name": "stdout",
     "output_type": "stream",
     "text": [
      "+-------+-----------------+\n",
      "|cust_id|              sum|\n",
      "+-------+-----------------+\n",
      "|     51|4975.219970226288|\n",
      "|      7|4755.070008277893|\n",
      "|     15|5413.510010659695|\n",
      "|     54|6065.390002984554|\n",
      "|     11|5152.289969373494|\n",
      "+-------+-----------------+\n",
      "only showing top 5 rows\n",
      "\n"
     ]
    }
   ],
   "source": [
    "import pyspark.sql.functions as f\n",
    "df_ca = df.groupBy(\"cust_id\") \\\n",
    "    .agg(f.sum('amount_spent').alias('sum'))\n",
    "df_ca.show(5)"
   ]
  },
  {
   "cell_type": "code",
   "execution_count": null,
   "metadata": {},
   "outputs": [],
   "source": [
    "df.groupBy(\"cust_id\")\\\n",
    "    .agg(\n",
    "        f.sum('amount_spent').alias('sum'),\n",
    "        f.max('amount_spent').alias('max'),\n",
    "        f.avg('amount_spent').alias('avg')).collect()"
   ]
  },
  {
   "cell_type": "markdown",
   "metadata": {},
   "source": [
    "## SparkSQL로 처리하기"
   ]
  },
  {
   "cell_type": "code",
   "execution_count": 13,
   "metadata": {},
   "outputs": [
    {
     "data": {
      "text/plain": [
       "[Row(cust_id='51', sum=4975.219970226288, max=97.61000061035156, avg=48.77666637476753),\n",
       " Row(cust_id='7', sum=4755.070008277893, max=98.5999984741211, avg=50.58585115189248),\n",
       " Row(cust_id='15', sum=5413.510010659695, max=99.56999969482422, avg=52.05298087172783),\n",
       " Row(cust_id='54', sum=6065.390002984554, max=99.2300033569336, avg=49.31211384540288),\n",
       " Row(cust_id='11', sum=5152.289969373494, max=99.11000061035156, avg=47.70638860531013)]"
      ]
     },
     "execution_count": 13,
     "metadata": {},
     "output_type": "execute_result"
    }
   ],
   "source": [
    "df.createOrReplaceTempView(\"customer_orders\")\n",
    "spark.sql(\"\"\"SELECT cust_id, SUM(amount_spent) sum, MAX(amount_spent) max, AVG(amount_spent) avg\n",
    "FROM customer_orders\n",
    "GROUP BY 1\n",
    "\"\"\").head(5)"
   ]
  },
  {
   "cell_type": "code",
   "execution_count": 14,
   "metadata": {},
   "outputs": [
    {
     "data": {
      "text/plain": [
       "[Table(name='customer_orders', catalog=None, namespace=[], description=None, tableType='TEMPORARY', isTemporary=True)]"
      ]
     },
     "execution_count": 14,
     "metadata": {},
     "output_type": "execute_result"
    }
   ],
   "source": [
    "spark.catalog.listTables()"
   ]
  }
 ],
 "metadata": {
  "kernelspec": {
   "display_name": "Python 3",
   "language": "python",
   "name": "python3"
  },
  "language_info": {
   "codemirror_mode": {
    "name": "ipython",
    "version": 3
   },
   "file_extension": ".py",
   "mimetype": "text/x-python",
   "name": "python",
   "nbconvert_exporter": "python",
   "pygments_lexer": "ipython3",
   "version": "3.10.11"
  }
 },
 "nbformat": 4,
 "nbformat_minor": 2
}
