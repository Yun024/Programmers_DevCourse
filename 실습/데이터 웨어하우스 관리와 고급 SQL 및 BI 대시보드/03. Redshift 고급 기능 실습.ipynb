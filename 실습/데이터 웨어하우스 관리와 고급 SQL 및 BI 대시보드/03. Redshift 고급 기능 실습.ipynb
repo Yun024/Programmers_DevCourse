{
 "cells": [
  {
   "cell_type": "code",
   "execution_count": null,
   "metadata": {
    "id": "bfsdMuCrXJbD"
   },
   "outputs": [],
   "source": [
    "!pip install SQLAlchemy==1.4.49\n",
    "!pip install ipython-sql==0.4.1"
   ]
  },
  {
   "cell_type": "code",
   "execution_count": null,
   "metadata": {
    "id": "QIOXdfaNOuRx"
   },
   "outputs": [],
   "source": [
    "%load_ext sql"
   ]
  },
  {
   "cell_type": "code",
   "execution_count": null,
   "metadata": {
    "id": "uLbYTpLMMKPm"
   },
   "outputs": [],
   "source": [
    "%sql postgresql://[ID]:[PW]@[Redshift endpoint]"
   ]
  },
  {
   "cell_type": "markdown",
   "metadata": {
    "id": "iSDwAq770H9p"
   },
   "source": [
    "### analytics 테스트 테이블 만들기"
   ]
  },
  {
   "cell_type": "code",
   "execution_count": null,
   "metadata": {
    "id": "zqd-Lo5xduX5"
   },
   "outputs": [],
   "source": [
    "# %%sql\n",
    "\n",
    "# ALTER TABLE raw_data.user_session_channel RENAME COLUMN session TO sessionid;\n",
    "# sessionid를 session로 만들어서 ALTER TABLE를 사용해서 변경"
   ]
  },
  {
   "cell_type": "code",
   "execution_count": null,
   "metadata": {
    "id": "GrWvf0mFPKQp"
   },
   "outputs": [],
   "source": [
    "%%sql\n",
    "\n",
    "CREATE TABLE analytics.mau_summary AS\n",
    "SELECT\n",
    "  TO_CHAR(A.ts, 'YYYY-MM') AS month,\n",
    "  COUNT(DISTINCT B.userid) AS mau\n",
    "FROM raw_data.session_timestamp A\n",
    "JOIN raw_data.user_session_channel B ON A.sessionid = B.sessionid\n",
    "GROUP BY 1\n",
    "ORDER BY 1 DESC;"
   ]
  },
  {
   "cell_type": "markdown",
   "metadata": {
    "id": "nz98jIDPhFpY"
   },
   "source": [
    "### 사용자 그룹 권한 설정하기"
   ]
  },
  {
   "cell_type": "markdown",
   "metadata": {
    "id": "pzg_uRu7hFdQ"
   },
   "source": [
    "#### analytics_authors"
   ]
  },
  {
   "cell_type": "code",
   "execution_count": null,
   "metadata": {
    "id": "wdmlOh1YRDIM"
   },
   "outputs": [],
   "source": [
    "%%sql\n",
    "\n",
    "GRANT ALL ON SCHEMA analytics TO GROUP analytics_authors;\n",
    "GRANT ALL ON ALL TABLES IN SCHEMA analytics TO GROUP analytics_authors;\n",
    "\n",
    "GRANT ALL ON SCHEMA adhoc TO GROUP analytics_authors;\n",
    "GRANT ALL ON ALL TABLES IN SCHEMA adhoc TO GROUP analytics_authors;\n",
    "\n",
    "GRANT USAGE ON SCHEMA raw_data TO GROUP analytics_authors;\n",
    "GRANT SELECT ON ALL TABLES IN SCHEMA raw_data TO GROUP analytics_authors;"
   ]
  },
  {
   "cell_type": "markdown",
   "metadata": {
    "id": "M0KxmygW0UPM"
   },
   "source": [
    "#### analytics_users"
   ]
  },
  {
   "cell_type": "code",
   "execution_count": null,
   "metadata": {
    "id": "wXi3nmvy0fhO"
   },
   "outputs": [],
   "source": [
    "%%sql\n",
    "\n",
    "GRANT USAGE ON SCHEMA analytics TO GROUP analytics_users;\n",
    "GRANT SELECT ON ALL TABLES IN SCHEMA analytics TO GROUP analytics_users;\n",
    "\n",
    "GRANT ALL ON SCHEMA adhoc TO GROUP analytics_users;\n",
    "GRANT ALL ON ALL TABLES IN SCHEMA adhoc TO GROUP analytics_users;\n",
    "\n",
    "GRANT USAGE ON SCHEMA raw_data TO GROUP analytics_users;\n",
    "GRANT SELECT ON ALL TABLES IN SCHEMA raw_data TO GROUP analytics_users;"
   ]
  },
  {
   "cell_type": "markdown",
   "metadata": {
    "id": "X3RmLTtXiDAm"
   },
   "source": [
    "#### pii_users"
   ]
  },
  {
   "cell_type": "code",
   "execution_count": null,
   "metadata": {
    "id": "QOTmq6rO02kd"
   },
   "outputs": [],
   "source": [
    "%%sql\n",
    "\n",
    "GRANT USAGE ON SCHEMA pii TO GROUP pii_users;\n",
    "GRANT SELECT ON ALL TABLES IN SCHEMA pii TO GROUP pii_users;"
   ]
  },
  {
   "cell_type": "markdown",
   "metadata": {
    "id": "7qlPYF0P1Obi"
   },
   "source": [
    "#### yeojun으로 로그인해서 raw_data 테이블을 수정하려 시도해보기"
   ]
  },
  {
   "cell_type": "code",
   "execution_count": null,
   "metadata": {
    "id": "MNRoaaUE2KR0"
   },
   "outputs": [],
   "source": [
    "%%sql\n",
    "\n",
    "ALTER USER yeojun PASSWORD [password]"
   ]
  },
  {
   "cell_type": "code",
   "execution_count": null,
   "metadata": {
    "id": "XucgPBGX1QKX"
   },
   "outputs": [],
   "source": [
    "%sql postgresql://[ID]:[PW]@[Redshift endpoint]"
   ]
  },
  {
   "cell_type": "code",
   "execution_count": null,
   "metadata": {
    "id": "3FPeWeAK1XNk"
   },
   "outputs": [],
   "source": [
    "%%sql\n",
    "\n",
    "DELETE FROM raw_data.user_session_channel;\n",
    "# 에러 발생: permission denied for relation user_session_channel"
   ]
  },
  {
   "cell_type": "markdown",
   "metadata": {
    "id": "jOLQa_L61tLV"
   },
   "source": [
    "### Redshift Spectrum 테스트"
   ]
  },
  {
   "cell_type": "code",
   "execution_count": null,
   "metadata": {
    "id": "NXv72cpOkTZn"
   },
   "outputs": [],
   "source": [
    "%%sql\n",
    "\n",
    "-- AWSGlueConsoleFullAccess\n",
    "CREATE EXTERNAL SCHEMA external_schema\n",
    "FROM data catalog\n",
    "database 'myspectrum_db'\n",
    "iam_role [IAM ARN]\n",
    "create external database if not exists;"
   ]
  },
  {
   "cell_type": "code",
   "execution_count": null,
   "metadata": {
    "id": "Cjwm_kGv1vG2"
   },
   "outputs": [],
   "source": [
    "%%sql\n",
    "\n",
    "CREATE TABLE raw_data.user_property AS\n",
    "SELECT\n",
    "  userid,\n",
    "  CASE WHEN CAST(random() * 2 as int) = 0 THEN 'male' ELSE 'female' END gender,\n",
    "  (CAST(random() * 50 as int)+18) age\n",
    "FROM(\n",
    "  SELECT DISTINCT userid\n",
    "  FROM raw_data.user_session_channel\n",
    ");"
   ]
  },
  {
   "cell_type": "code",
   "execution_count": null,
   "metadata": {
    "id": "-yrJhcqx12yN"
   },
   "outputs": [],
   "source": [
    "%%sql\n",
    "\n",
    "CREATE EXTERNAL TABLE external_schema.user_session_channel(\n",
    "  userid integer,\n",
    "  sessionid varchar(32),\n",
    "  channel varchar(32)\n",
    ")\n",
    "row format delimited\n",
    "fields terminated by ','\n",
    "stored as textfile\n",
    "location 's3://yeojun-test-bucket/usc/';\n",
    "-- 's3://yeojun-test-bucket/usc/user_session_channel.csv' 폴더가 아닌 파일까지 붙여넣기해서 에러발생"
   ]
  },
  {
   "cell_type": "code",
   "execution_count": null,
   "metadata": {
    "id": "PcdEHct42D6L"
   },
   "outputs": [],
   "source": [
    "%%sql\n",
    "\n",
    "SELECT gender, COUNT(1)\n",
    "FROM external_schema.user_session_channel usc\n",
    "JOIN raw_data.user_property up on usc.userid = up.userid\n",
    "GROUP BY 1;"
   ]
  },
  {
   "cell_type": "markdown",
   "metadata": {},
   "source": [
    "### Redshift SageMaker"
   ]
  },
  {
   "cell_type": "code",
   "execution_count": null,
   "metadata": {},
   "outputs": [],
   "source": [
    "%%sql\n",
    "\n",
    "CREATE TABLE raw_data.orange_telecom_customers (\n",
    "    state varchar,\n",
    "    account_length integer,\n",
    "    area_code integer, \n",
    "    international_plan varchar,\n",
    "    voice_mail_plan varchar, \n",
    "    number_vmail_messages integer,\n",
    "    total_day_minutes decimal, \n",
    "    total_day_calls integer,\n",
    "    total_day_charge decimal, \n",
    "    total_eve_minutes decimal,\n",
    "    total_eve_calls integer, \n",
    "    total_eve_charge decimal,\n",
    "    total_night_minutes decimal, \n",
    "    total_night_calls integer,\n",
    "    total_night_charge decimal, \n",
    "    total_intl_minutes decimal,\n",
    "    total_intl_calls integer, \n",
    "    total_intl_charge decimal,\n",
    "    customer_service_calls integer, \n",
    "    churn varchar,\n",
    "    purpose varchar\n",
    ");\n"
   ]
  },
  {
   "cell_type": "code",
   "execution_count": null,
   "metadata": {},
   "outputs": [],
   "source": [
    "%%sql\n",
    "\n",
    "COPY raw_data.orange_telecom_customers\n",
    "FROM 's3://yeojun-test-bucket/redshift_ml/train.csv'\n",
    "credentials 'aws_iam_role=[aws_iam_role]'\n",
    "delimiter ',' dateformat 'auto' timeformat 'auto' IGNOREHEADER 1\n",
    "removequotes;"
   ]
  },
  {
   "cell_type": "code",
   "execution_count": null,
   "metadata": {},
   "outputs": [],
   "source": [
    "%%sql\n",
    "\n",
    "CREATE MODEL orange_telecom_customers_model\n",
    "FROM(\n",
    "    SELECT\n",
    "        state, account_length, area_code, international_plan, voice_mail_plan, \n",
    "        number_vmail_messages, total_day_minutes, total_day_calls, \n",
    "        total_day_charge, total_eve_minutes, total_eve_calls, total_eve_charge, \n",
    "        total_night_minutes, total_night_calls, total_night_charge, \n",
    "        total_intl_minutes, total_intl_calls, total_intl_charge, \n",
    "        customer_service_calls, churn\n",
    "    FROM raw_data.orange_telecom_customers\n",
    "    WHERE purpose ='Train'   \n",
    ")\n",
    "TARGET churn\n",
    "FUNCTION ml_fn_orange_telecom_customers\n",
    "IAM_ROLE 'arn:[aws_iam_arn]'\n",
    "SETTINGS(\n",
    "    S3_BUCKET 'yeojun-test-bucket'\n",
    ");"
   ]
  },
  {
   "cell_type": "code",
   "execution_count": null,
   "metadata": {},
   "outputs": [],
   "source": [
    "%%sql\n",
    "\n",
    "SHOW MODEL orange_telecom_customers_model;"
   ]
  },
  {
   "cell_type": "code",
   "execution_count": null,
   "metadata": {},
   "outputs": [],
   "source": [
    "%%sql\n",
    "\n",
    "SELECT churn,\n",
    "    ml_fn_orange_telecom_customers(\n",
    "        state, account_length, area_code, international_plan, voice_mail_plan,\n",
    "        number_vmail_messages, total_day_minutes, total_day_calls,\n",
    "        total_day_charge, total_eve_minutes, total_eve_calls, total_eve_charge,\n",
    "        total_night_minutes, total_night_calls, total_night_charge,\n",
    "        total_intl_minutes, total_intl_calls, total_intl_charge,\n",
    "        customer_service_calls\n",
    "    ) AS \"prediction\"\n",
    "FROM raw_data.orange_telecom_customers\n",
    "WHERE purpose = 'Test';"
   ]
  },
  {
   "cell_type": "code",
   "execution_count": null,
   "metadata": {},
   "outputs": [],
   "source": [
    "%%sql\n",
    "\n",
    "Drop Model orange_telecom_customers_model;"
   ]
  },
  {
   "cell_type": "markdown",
   "metadata": {},
   "source": [
    "### Redshift 관련 유지보수"
   ]
  },
  {
   "cell_type": "code",
   "execution_count": 38,
   "metadata": {
    "executionInfo": {
     "elapsed": 221,
     "status": "ok",
     "timestamp": 1735916157696,
     "user": {
      "displayName": "윤여준",
      "userId": "13736968564887814759"
     },
     "user_tz": -540
    },
    "id": "ObKAxSysqm0-"
   },
   "outputs": [],
   "source": [
    "%%sql\n",
    "\n",
    "vacuum full"
   ]
  }
 ],
 "metadata": {
  "colab": {
   "authorship_tag": "ABX9TyP2H4uJ664oswEqhQkr/6mF",
   "provenance": []
  },
  "kernelspec": {
   "display_name": "Python 3",
   "name": "python3"
  },
  "language_info": {
   "name": "python"
  }
 },
 "nbformat": 4,
 "nbformat_minor": 0
}
