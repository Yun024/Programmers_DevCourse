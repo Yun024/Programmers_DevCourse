{
 "cells": [
  {
   "cell_type": "code",
   "execution_count": 1,
   "metadata": {},
   "outputs": [],
   "source": [
    "from pyspark.sql import SparkSession\n",
    "\n",
    "spark = SparkSession \\\n",
    "    .builder \\\n",
    "    .appName(\"Taipei Housing Price Prediction\") \\\n",
    "    .getOrCreate()\n"
   ]
  },
  {
   "cell_type": "markdown",
   "metadata": {},
   "source": [
    "### 타이베이 주택 가격 예측 모델 만들기"
   ]
  },
  {
   "cell_type": "markdown",
   "metadata": {},
   "source": [
    "데이터셋 설명\n",
    "\n",
    "이번 문제는 대만 타이베이 시의 신단 지역에서 수집된 주택 거래 관련 정보를 바탕으로 주택 가격(정확히는 주택의 평당 가격)을 예측하는 Regression 모델을 만들어보는 것이다. 총 6개의 피쳐와 주택의 평당 가격에 해당하는 레이블 정보가 훈련 데이터로 제공된다. 레이블의 경우에는 주택의 최종 가격이 아니라 평당 가격이란 점을 다시 한번 강조한다.\n",
    "\n",
    "각 컬럼에 대한 설명은 아래와 같으며 모든 필드는 X4를 제외하고는 실수 타입이다.\n",
    "\n",
    "X1: 주택 거래 날짜를 실수로 제공한다. 소수점 부분은 달을 나타낸다. 예를 들어 2013.250이라면 2013년 3월임을 나타낸다 (0.250 = 3/12)\n",
    "X2: 주택 나이 (년수)\n",
    "X3: 가장 가까운 지하철역까지의 거리 (미터)\n",
    "X4: 주택 근방 걸어갈 수 있는 거리내 편의점 수\n",
    "X5: 주택 위치의 위도 (latitude)\n",
    "X6: 주택 위치의 경도 (longitude)\n",
    "Y: 주택 평당 가격"
   ]
  },
  {
   "cell_type": "code",
   "execution_count": 116,
   "metadata": {},
   "outputs": [
    {
     "name": "stdout",
     "output_type": "stream",
     "text": [
      "root\n",
      " |-- X1: double (nullable = true)\n",
      " |-- X2: double (nullable = true)\n",
      " |-- X3: double (nullable = true)\n",
      " |-- X4: integer (nullable = true)\n",
      " |-- X5: double (nullable = true)\n",
      " |-- X6: double (nullable = true)\n",
      " |-- Y: double (nullable = true)\n",
      "\n",
      "+--------+----+--------+---+--------+---------+----+\n",
      "|      X1|  X2|      X3| X4|      X5|       X6|   Y|\n",
      "+--------+----+--------+---+--------+---------+----+\n",
      "|2012.917|32.0|84.87882| 10|24.98298|121.54024|37.9|\n",
      "|2012.917|19.5|306.5947|  9|24.98034|121.53951|42.2|\n",
      "|2013.583|13.3|561.9845|  5|24.98746|121.54391|47.3|\n",
      "|  2013.5|13.3|561.9845|  5|24.98746|121.54391|54.8|\n",
      "|2012.833| 5.0|390.5684|  5|24.97937|121.54245|43.1|\n",
      "|2012.667| 7.1| 2175.03|  3|24.96305|121.51254|32.1|\n",
      "|2012.667|34.5|623.4731|  7|24.97933|121.53642|40.3|\n",
      "|2013.417|20.3|287.6025|  6|24.98042|121.54228|46.7|\n",
      "|  2013.5|31.7|5512.038|  1|24.95095|121.48458|18.8|\n",
      "|2013.417|17.9| 1783.18|  3|24.96731|121.51486|22.1|\n",
      "|2013.083|34.8|405.2134|  1|24.97349|121.53372|41.4|\n",
      "|2013.333| 6.3|90.45606|  9|24.97433| 121.5431|58.1|\n",
      "|2012.917|13.0|492.2313|  5|24.96515|121.53737|39.3|\n",
      "|2012.667|20.4|2469.645|  4|24.96108|121.51046|23.8|\n",
      "|  2013.5|13.2|1164.838|  4|24.99156|121.53406|34.3|\n",
      "|2013.583|35.7|579.2083|  2| 24.9824|121.54619|50.5|\n",
      "| 2013.25| 0.0|292.9978|  6|24.97744|121.54458|70.1|\n",
      "| 2012.75|17.7|350.8515|  1|24.97544|121.53119|37.4|\n",
      "|2013.417|16.9|368.1363|  8| 24.9675|121.54451|42.3|\n",
      "|2012.667| 1.5|23.38284|  7|24.96772|121.54102|47.7|\n",
      "+--------+----+--------+---+--------+---------+----+\n",
      "only showing top 20 rows\n",
      "\n"
     ]
    }
   ],
   "source": [
    "data = spark.read.csv('data/Taipei_sindan_housing.csv', header=True, inferSchema=True)\n",
    "data.printSchema()\n",
    "data.show()"
   ]
  },
  {
   "cell_type": "markdown",
   "metadata": {},
   "source": [
    "### 데이터 전처리"
   ]
  },
  {
   "cell_type": "code",
   "execution_count": 117,
   "metadata": {},
   "outputs": [],
   "source": [
    "from pyspark.sql.functions import floor, round, col\n",
    "\n",
    "data = data.withColumn(\"Year\", floor(data[\"X1\"]))\n",
    "data = data.withColumn(\"Month\", round((data[\"X1\"] - floor(data[\"X1\"])) * 12))\n",
    "data = data.drop(\"X1\")  # 원래 X1은 제거\n",
    "\n",
    "# Y 컬럼을 뒤로 빼기 위해 나머지 컬럼 선택 후 Y 추가\n",
    "data = data.select([col(c) for c in data.columns if c != \"Y\"] + [col(\"Y\")])\n"
   ]
  },
  {
   "cell_type": "markdown",
   "metadata": {},
   "source": [
    "### 피쳐 벡터를 만들기"
   ]
  },
  {
   "cell_type": "code",
   "execution_count": 119,
   "metadata": {},
   "outputs": [
    {
     "name": "stdout",
     "output_type": "stream",
     "text": [
      "+----+--------+---+--------+---------+----+-----+----+--------------------+\n",
      "|  X2|      X3| X4|      X5|       X6|Year|Month|   Y|             feature|\n",
      "+----+--------+---+--------+---------+----+-----+----+--------------------+\n",
      "|32.0|84.87882| 10|24.98298|121.54024|2012| 11.0|37.9|[32.0,84.87882,10...|\n",
      "|19.5|306.5947|  9|24.98034|121.53951|2012| 11.0|42.2|[19.5,306.5947,9....|\n",
      "|13.3|561.9845|  5|24.98746|121.54391|2013|  7.0|47.3|[13.3,561.9845,5....|\n",
      "|13.3|561.9845|  5|24.98746|121.54391|2013|  6.0|54.8|[13.3,561.9845,5....|\n",
      "| 5.0|390.5684|  5|24.97937|121.54245|2012| 10.0|43.1|[5.0,390.5684,5.0...|\n",
      "| 7.1| 2175.03|  3|24.96305|121.51254|2012|  8.0|32.1|[7.1,2175.03,3.0,...|\n",
      "|34.5|623.4731|  7|24.97933|121.53642|2012|  8.0|40.3|[34.5,623.4731,7....|\n",
      "|20.3|287.6025|  6|24.98042|121.54228|2013|  5.0|46.7|[20.3,287.6025,6....|\n",
      "|31.7|5512.038|  1|24.95095|121.48458|2013|  6.0|18.8|[31.7,5512.038,1....|\n",
      "|17.9| 1783.18|  3|24.96731|121.51486|2013|  5.0|22.1|[17.9,1783.18,3.0...|\n",
      "|34.8|405.2134|  1|24.97349|121.53372|2013|  1.0|41.4|[34.8,405.2134,1....|\n",
      "| 6.3|90.45606|  9|24.97433| 121.5431|2013|  4.0|58.1|[6.3,90.45606,9.0...|\n",
      "|13.0|492.2313|  5|24.96515|121.53737|2012| 11.0|39.3|[13.0,492.2313,5....|\n",
      "|20.4|2469.645|  4|24.96108|121.51046|2012|  8.0|23.8|[20.4,2469.645,4....|\n",
      "|13.2|1164.838|  4|24.99156|121.53406|2013|  6.0|34.3|[13.2,1164.838,4....|\n",
      "|35.7|579.2083|  2| 24.9824|121.54619|2013|  7.0|50.5|[35.7,579.2083,2....|\n",
      "| 0.0|292.9978|  6|24.97744|121.54458|2013|  3.0|70.1|[0.0,292.9978,6.0...|\n",
      "|17.7|350.8515|  1|24.97544|121.53119|2012|  9.0|37.4|[17.7,350.8515,1....|\n",
      "|16.9|368.1363|  8| 24.9675|121.54451|2013|  5.0|42.3|[16.9,368.1363,8....|\n",
      "| 1.5|23.38284|  7|24.96772|121.54102|2012|  8.0|47.7|[1.5,23.38284,7.0...|\n",
      "+----+--------+---+--------+---------+----+-----+----+--------------------+\n",
      "only showing top 20 rows\n",
      "\n"
     ]
    }
   ],
   "source": [
    "from pyspark.ml.feature import VectorAssembler\n",
    "\n",
    "feature_columns = data.columns[:-1]\n",
    "assembler = VectorAssembler(inputCols=feature_columns, outputCol=\"feature\")\n",
    "data_2 = assembler.transform(data)\n",
    "data_2.show()"
   ]
  },
  {
   "cell_type": "markdown",
   "metadata": {},
   "source": [
    "### 훈령용과 테스트용 데이터를 나누기"
   ]
  },
  {
   "cell_type": "code",
   "execution_count": 120,
   "metadata": {},
   "outputs": [],
   "source": [
    "train, test = data_2.randomSplit([0.7, 0.3])"
   ]
  },
  {
   "cell_type": "markdown",
   "metadata": {},
   "source": [
    "### 피쳐 스케일링"
   ]
  },
  {
   "cell_type": "code",
   "execution_count": 121,
   "metadata": {},
   "outputs": [],
   "source": [
    "from pyspark.ml.feature import StandardScaler\n",
    "\n",
    "scaler = StandardScaler(inputCol=\"feature\", outputCol=\"scaled_features\", withMean=True, withStd=True)\n",
    "scaler_model = scaler.fit(train)\n",
    "train = scaler_model.transform(train)\n",
    "test = scaler_model.transform(test)"
   ]
  },
  {
   "cell_type": "markdown",
   "metadata": {},
   "source": [
    "### 모델 학습"
   ]
  },
  {
   "cell_type": "code",
   "execution_count": 122,
   "metadata": {},
   "outputs": [],
   "source": [
    "from pyspark.ml.regression import LinearRegression\n",
    "\n",
    "algo = LinearRegression(featuresCol=\"scaled_features\", labelCol=\"Y\")\n",
    "model = algo.fit(train)"
   ]
  },
  {
   "cell_type": "markdown",
   "metadata": {},
   "source": [
    "### 모델 성능 측정"
   ]
  },
  {
   "cell_type": "code",
   "execution_count": 123,
   "metadata": {},
   "outputs": [
    {
     "name": "stdout",
     "output_type": "stream",
     "text": [
      "4.9175855214366395\n",
      "6.040877085623429\n",
      "0.7458366458090393\n"
     ]
    }
   ],
   "source": [
    "evaluation_summary = model.evaluate(test)\n",
    "\n",
    "print(evaluation_summary.meanAbsoluteError)\n",
    "print(evaluation_summary.rootMeanSquaredError)\n",
    "print(evaluation_summary.r2)"
   ]
  },
  {
   "cell_type": "markdown",
   "metadata": {},
   "source": [
    "### 모델 예측값 살펴보기"
   ]
  },
  {
   "cell_type": "code",
   "execution_count": 124,
   "metadata": {},
   "outputs": [],
   "source": [
    "predictions = model.transform(test)"
   ]
  },
  {
   "cell_type": "code",
   "execution_count": 125,
   "metadata": {},
   "outputs": [
    {
     "name": "stdout",
     "output_type": "stream",
     "text": [
      "+----+--------------------+--------------------+------------------+\n",
      "|   Y|             feature|     scaled_features|        prediction|\n",
      "+----+--------------------+--------------------+------------------+\n",
      "|52.2|[0.0,274.0144,1.0...|[-1.5256889692580...|45.428423877096485|\n",
      "|69.7|[0.0,292.9978,6.0...|[-1.5256889692580...| 51.50949264509884|\n",
      "|45.1|[1.1,193.5845,6.0...|[-1.4310940818528...| 48.85777330535033|\n",
      "|48.6|[1.1,193.5845,6.0...|[-1.4310940818528...| 48.85777330535033|\n",
      "|49.7|[1.5,23.38284,7.0...|[-1.3966959409782...| 47.92812992444633|\n",
      "|50.4|[1.7,329.9747,5.0...|[-1.3794968705409...|50.932073445626436|\n",
      "|27.0|[1.8,1455.798,1.0...|[-1.3708973353222...|30.961068595258965|\n",
      "|33.4|[2.0,2077.39,3.0,...|[-1.3536982648849...|33.699976733754504|\n",
      "|45.5|[2.1,451.2438,5.0...|[-1.3450987296662...| 45.70580439077242|\n",
      "|45.4|[2.3,184.3302,6.0...|[-1.3278996592289...| 48.84550210501892|\n",
      "|36.9|[2.5,156.2442,4.0...|[-1.3107005887916...| 46.61280942085778|\n",
      "|31.1|[2.6,1554.25,3.0,...|[-1.3021010535730...| 40.89291691457911|\n",
      "|58.8|[3.6,383.8624,5.0...|[-1.2161057013864...|49.127670430649154|\n",
      "|41.6|[3.7,577.9615,6.0...|[-1.2075061661677...|  47.6621599972841|\n",
      "|28.4|[4.0,2147.376,3.0...|[-1.1817075605118...|36.582520009945846|\n",
      "|62.1|[4.1,56.47425,7.0...|[-1.1731080252931...| 49.09025810673348|\n",
      "|43.1|[5.0,390.5684,5.0...|[-1.0957122083252...| 45.97308201474324|\n",
      "|52.2|[5.2,390.5684,5.0...|[-1.0785131378879...| 49.55033206167279|\n",
      "|22.3|[5.2,2408.993,0.0...|[-1.0785131378879...|27.029290244517398|\n",
      "|49.5|[5.4,390.5684,5.0...|[-1.0613140674506...|48.813925236350656|\n",
      "+----+--------------------+--------------------+------------------+\n",
      "only showing top 20 rows\n",
      "\n"
     ]
    }
   ],
   "source": [
    "predictions.select(predictions.columns[7:]).show()"
   ]
  },
  {
   "cell_type": "markdown",
   "metadata": {},
   "source": [
    "### 랜덤포레스트"
   ]
  },
  {
   "cell_type": "code",
   "execution_count": 126,
   "metadata": {},
   "outputs": [
    {
     "name": "stdout",
     "output_type": "stream",
     "text": [
      "RF MAE: 4.072797193777875\n",
      "RF RMSE: 5.187665871661255\n",
      "RF R²: 0.8125623083211783\n"
     ]
    }
   ],
   "source": [
    "from pyspark.ml.regression import RandomForestRegressor\n",
    "from pyspark.ml.evaluation import RegressionEvaluator\n",
    "\n",
    "# 랜덤 포레스트 모델 학습\n",
    "rf = RandomForestRegressor(featuresCol=\"scaled_features\", labelCol=\"Y\", numTrees=100)\n",
    "rf_model = rf.fit(train)\n",
    "\n",
    "# 예측 수행\n",
    "rf_predictions = rf_model.transform(test)\n",
    "\n",
    "# 평가 지표 계산\n",
    "evaluator_mae = RegressionEvaluator(labelCol=\"Y\", predictionCol=\"prediction\", metricName=\"mae\")\n",
    "evaluator_rmse = RegressionEvaluator(labelCol=\"Y\", predictionCol=\"prediction\", metricName=\"rmse\")\n",
    "evaluator_r2 = RegressionEvaluator(labelCol=\"Y\", predictionCol=\"prediction\", metricName=\"r2\")\n",
    "\n",
    "# 결과 출력\n",
    "print(\"RF MAE:\", evaluator_mae.evaluate(rf_predictions))\n",
    "print(\"RF RMSE:\", evaluator_rmse.evaluate(rf_predictions))\n",
    "print(\"RF R²:\", evaluator_r2.evaluate(rf_predictions))"
   ]
  },
  {
   "cell_type": "code",
   "execution_count": null,
   "metadata": {},
   "outputs": [],
   "source": [
    "model.save(\"model/Taipei_LR_model\")"
   ]
  },
  {
   "cell_type": "code",
   "execution_count": 129,
   "metadata": {},
   "outputs": [],
   "source": [
    "rf_model.save(\"model/Taipei_RF_model\")"
   ]
  },
  {
   "cell_type": "markdown",
   "metadata": {},
   "source": [
    "### 모델 불러오기"
   ]
  },
  {
   "cell_type": "code",
   "execution_count": 131,
   "metadata": {},
   "outputs": [],
   "source": [
    "from pyspark.ml.regression import RandomForestRegressionModel\n",
    "loaded_model = RandomForestRegressionModel.load(\"model/Taipei_RF_model\")"
   ]
  },
  {
   "cell_type": "code",
   "execution_count": 133,
   "metadata": {},
   "outputs": [],
   "source": [
    "prediction2 = loaded_model.transform(test)"
   ]
  },
  {
   "cell_type": "code",
   "execution_count": 136,
   "metadata": {},
   "outputs": [
    {
     "name": "stdout",
     "output_type": "stream",
     "text": [
      "+----+--------------------+--------------------+------------------+\n",
      "|   Y|             feature|     scaled_features|        prediction|\n",
      "+----+--------------------+--------------------+------------------+\n",
      "|52.2|[0.0,274.0144,1.0...|[-1.5256889692580...|51.333516452022366|\n",
      "|69.7|[0.0,292.9978,6.0...|[-1.5256889692580...| 62.21257512026732|\n",
      "|45.1|[1.1,193.5845,6.0...|[-1.4310940818528...| 49.98573788671144|\n",
      "|48.6|[1.1,193.5845,6.0...|[-1.4310940818528...| 49.98573788671144|\n",
      "|49.7|[1.5,23.38284,7.0...|[-1.3966959409782...| 50.40535872333774|\n",
      "|50.4|[1.7,329.9747,5.0...|[-1.3794968705409...|56.963567984845895|\n",
      "|27.0|[1.8,1455.798,1.0...|[-1.3708973353222...|26.405026893043836|\n",
      "|33.4|[2.0,2077.39,3.0,...|[-1.3536982648849...|27.406967211664732|\n",
      "|45.5|[2.1,451.2438,5.0...|[-1.3450987296662...| 49.23772623147784|\n",
      "|45.4|[2.3,184.3302,6.0...|[-1.3278996592289...| 50.28719585405772|\n",
      "|36.9|[2.5,156.2442,4.0...|[-1.3107005887916...| 48.92075508891202|\n",
      "|31.1|[2.6,1554.25,3.0,...|[-1.3021010535730...|28.415337559496056|\n",
      "|58.8|[3.6,383.8624,5.0...|[-1.2161057013864...| 52.93642831093666|\n",
      "|41.6|[3.7,577.9615,6.0...|[-1.2075061661677...| 46.06608360157097|\n",
      "|28.4|[4.0,2147.376,3.0...|[-1.1817075605118...|28.212793614539304|\n",
      "|62.1|[4.1,56.47425,7.0...|[-1.1731080252931...| 52.09006677022242|\n",
      "|43.1|[5.0,390.5684,5.0...|[-1.0957122083252...| 50.10132195542246|\n",
      "|52.2|[5.2,390.5684,5.0...|[-1.0785131378879...|50.526415815290655|\n",
      "|22.3|[5.2,2408.993,0.0...|[-1.0785131378879...|26.707466489071667|\n",
      "|49.5|[5.4,390.5684,5.0...|[-1.0613140674506...|50.708497045449384|\n",
      "+----+--------------------+--------------------+------------------+\n",
      "only showing top 20 rows\n",
      "\n"
     ]
    }
   ],
   "source": [
    "prediction2.select(prediction2.columns[7:]).show()"
   ]
  }
 ],
 "metadata": {
  "kernelspec": {
   "display_name": "Python 3",
   "language": "python",
   "name": "python3"
  },
  "language_info": {
   "codemirror_mode": {
    "name": "ipython",
    "version": 3
   },
   "file_extension": ".py",
   "mimetype": "text/x-python",
   "name": "python",
   "nbconvert_exporter": "python",
   "pygments_lexer": "ipython3",
   "version": "3.10.11"
  }
 },
 "nbformat": 4,
 "nbformat_minor": 2
}
