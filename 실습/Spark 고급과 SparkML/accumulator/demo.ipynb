{
 "cells": [
  {
   "cell_type": "code",
   "execution_count": 1,
   "metadata": {},
   "outputs": [],
   "source": [
    "from pyspark.sql import SparkSession\n",
    "from pyspark.sql.functions import *\n",
    "from pyspark.sql.types import *\n",
    "\n",
    "spark = SparkSession.builder \\\n",
    "        .master(\"local[*]\") \\\n",
    "        .appName(\"PySpark Accumulator\") \\\n",
    "        .getOrCreate()"
   ]
  },
  {
   "cell_type": "code",
   "execution_count": 2,
   "metadata": {},
   "outputs": [
    {
     "name": "stdout",
     "output_type": "stream",
     "text": [
      "+----------+-------------+-------+\n",
      "|     state|         city|zipcode|\n",
      "+----------+-------------+-------+\n",
      "|California|    Sunnyvale|   9511|\n",
      "|California|Mountain View|  94111|\n",
      "|California|    Cupertino|  94123|\n",
      "|California|     San Jose|    951|\n",
      "+----------+-------------+-------+\n",
      "\n"
     ]
    }
   ],
   "source": [
    "data_list = [\n",
    "    (\"California\", \"Sunnyvale\", 9511),\n",
    "    (\"California\", \"Mountain View\", 94111),\n",
    "    (\"California\", \"Cupertino\", 94123),\n",
    "    (\"California\", \"San Jose\", 951)\n",
    "]\n",
    "\n",
    "df = spark.createDataFrame(data_list) \\\n",
    "    .toDF(\"state\",\"city\",\"zipcode\")\n",
    "\n",
    "df.show(5)"
   ]
  },
  {
   "cell_type": "code",
   "execution_count": 3,
   "metadata": {},
   "outputs": [],
   "source": [
    "bad_zipcode = spark.sparkContext.accumulator(0)"
   ]
  },
  {
   "cell_type": "code",
   "execution_count": 4,
   "metadata": {},
   "outputs": [],
   "source": [
    "def handle_bad_zipcode(c: int) -> int:\n",
    "    if len(str(c)) != 5:\n",
    "        bad_zipcode.add(1)\n",
    "        return None\n",
    "    return c"
   ]
  },
  {
   "cell_type": "code",
   "execution_count": 5,
   "metadata": {},
   "outputs": [
    {
     "data": {
      "text/plain": [
       "<function __main__.handle_bad_zipcode(c: int) -> int>"
      ]
     },
     "execution_count": 5,
     "metadata": {},
     "output_type": "execute_result"
    }
   ],
   "source": [
    "spark.udf.register(\"handle_bad_zipcode\", handle_bad_zipcode, IntegerType())"
   ]
  },
  {
   "cell_type": "code",
   "execution_count": 13,
   "metadata": {},
   "outputs": [
    {
     "name": "stdout",
     "output_type": "stream",
     "text": [
      "+----------+-------------+-------+-----------------+\n",
      "|     state|         city|zipcode|corrected_zipcode|\n",
      "+----------+-------------+-------+-----------------+\n",
      "|California|    Sunnyvale|   9511|             NULL|\n",
      "|California|Mountain View|  94111|            94111|\n",
      "|California|    Cupertino|  94123|            94123|\n",
      "|California|     San Jose|    951|             NULL|\n",
      "+----------+-------------+-------+-----------------+\n",
      "\n"
     ]
    }
   ],
   "source": [
    "df.withColumn(\"corrected_zipcode\", expr(\"handle_bad_zipcode(zipcode)\")) \\\n",
    "    .show()"
   ]
  },
  {
   "cell_type": "code",
   "execution_count": 14,
   "metadata": {},
   "outputs": [
    {
     "name": "stdout",
     "output_type": "stream",
     "text": [
      "Bad Record Count:2\n"
     ]
    }
   ],
   "source": [
    "print(\"Bad Record Count:\" + str(bad_zipcode.value))"
   ]
  },
  {
   "cell_type": "code",
   "execution_count": null,
   "metadata": {},
   "outputs": [
    {
     "name": "stdout",
     "output_type": "stream",
     "text": [
      "+----------+-------------+-------+\n",
      "|     state|         city|zipcode|\n",
      "+----------+-------------+-------+\n",
      "|California|    Sunnyvale|   NULL|\n",
      "|California|Mountain View|  94111|\n",
      "|California|    Cupertino|  94123|\n",
      "|California|     San Jose|   NULL|\n",
      "+----------+-------------+-------+\n",
      "\n"
     ]
    },
    {
     "ename": "",
     "evalue": "",
     "output_type": "error",
     "traceback": [
      "\u001b[1;31m현재 셀 또는 이전 셀에서 코드를 실행하는 동안 Kernel이 충돌했습니다. \n",
      "\u001b[1;31m셀의 코드를 검토하여 가능한 오류 원인을 식별하세요. \n",
      "\u001b[1;31m자세한 내용을 보려면 <a href='https://aka.ms/vscodeJupyterKernelCrash'>여기</a>를 클릭하세요. \n",
      "\u001b[1;31m자세한 내용은 Jupyter <a href='command:jupyter.viewOutput'>로그</a>를 참조하세요."
     ]
    }
   ],
   "source": [
    "df.withColumn(\"corrected_zipcode\", expr(\"handle_bad_zipcode(zipcode)\")). \\\n",
    "    select(\"state\",\"city\", \"corrected_zipcode\"). \\\n",
    "    withColumnRenamed(\"corrected_zipcode\", \"zipcode\").show()"
   ]
  },
  {
   "cell_type": "markdown",
   "metadata": {},
   "source": [
    "### DataFrame Foreach 예제"
   ]
  },
  {
   "cell_type": "code",
   "execution_count": 6,
   "metadata": {},
   "outputs": [
    {
     "name": "stdout",
     "output_type": "stream",
     "text": [
      "Accumulator value:  15\n"
     ]
    }
   ],
   "source": [
    "data = [1, 2, 3, 4, 5]\n",
    "df_test = spark.createDataFrame(data, \"int\").toDF(\"value\")\n",
    "\n",
    "accumulator = spark.sparkContext.accumulator(0)\n",
    "\n",
    "def add_to_accumulator(row):\n",
    "    global accumulator\n",
    "    accumulator += row[\"value\"]\n",
    "\n",
    "df_test.foreach(add_to_accumulator)\n",
    "print(\"Accumulator value: \", accumulator.value)"
   ]
  },
  {
   "cell_type": "markdown",
   "metadata": {},
   "source": [
    "### Zipcode 예제를 DataFrame으로 해보기"
   ]
  },
  {
   "cell_type": "code",
   "execution_count": 7,
   "metadata": {},
   "outputs": [
    {
     "name": "stdout",
     "output_type": "stream",
     "text": [
      "Wrong zipcode:  2\n"
     ]
    }
   ],
   "source": [
    "accumulator_zipcode = spark.sparkContext.accumulator(0)\n",
    "\n",
    "def find_wrong_zipcode(row):\n",
    "    global accumulator_zipcode\n",
    "    accumulator_zipcode += 1 if len(str(row['zipcode'])) != 5 else 0\n",
    "\n",
    "df.foreach(find_wrong_zipcode)\n",
    "print(\"Wrong zipcode: \", accumulator_zipcode.value)"
   ]
  }
 ],
 "metadata": {
  "kernelspec": {
   "display_name": "Python 3",
   "language": "python",
   "name": "python3"
  },
  "language_info": {
   "codemirror_mode": {
    "name": "ipython",
    "version": 3
   },
   "file_extension": ".py",
   "mimetype": "text/x-python",
   "name": "python",
   "nbconvert_exporter": "python",
   "pygments_lexer": "ipython3",
   "version": "3.10.11"
  }
 },
 "nbformat": 4,
 "nbformat_minor": 2
}
