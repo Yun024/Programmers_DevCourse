{
 "cells": [
  {
   "cell_type": "markdown",
   "metadata": {
    "id": "EVuF1_D9zWBV"
   },
   "source": [
    "**환경 설정**"
   ]
  },
  {
   "cell_type": "code",
   "execution_count": null,
   "metadata": {
    "id": "mOMJ3EjESfBV"
   },
   "outputs": [],
   "source": [
    "!pip install ipython-sql==0.4.1\n",
    "!pip install SQLAlchemy==1.4.49"
   ]
  },
  {
   "cell_type": "code",
   "execution_count": 3,
   "metadata": {
    "executionInfo": {
     "elapsed": 1007,
     "status": "ok",
     "timestamp": 1734492362573,
     "user": {
      "displayName": "윤여준",
      "userId": "13736968564887814759"
     },
     "user_tz": -540
    },
    "id": "wOS9-QY1amnt"
   },
   "outputs": [],
   "source": [
    "%load_ext sql"
   ]
  },
  {
   "cell_type": "markdown",
   "metadata": {
    "id": "K3wiIYDJ0EE0"
   },
   "source": [
    "## JOIN:\n",
    "\n",
    "An SQL JOIN clause is used to combine rows from two or more tables, based on a common field between them.\n",
    "\n",
    "왼쪽 테이블을 LEFT라고 하고 오른쪽 테이블을 RIGHT이라고 하자. JOIN의 결과는 방식에 상관없이 양쪽의 필드를 모두 가진 새로운 테이블을 만들어내게 됨. 조인의 방식에 따라 다음 두 가지가 달라짐:\n",
    "\n",
    "1. 어떤 레코드들이 선택되는지?\n",
    "2. 어떤 필드들이 채워지는지?"
   ]
  },
  {
   "cell_type": "code",
   "execution_count": null,
   "metadata": {
    "id": "_EzSsoC5P_Xm"
   },
   "outputs": [],
   "source": [
    "%%sql\n",
    "\n",
    "DROP TABLE IF EXISTS raw_data.vital;\n",
    "CREATE TABLE raw_data.vital (\n",
    "    UserID int,\n",
    "    VitalID\tint,\n",
    "    Date date,\n",
    "    Weight int\n",
    ")\n",
    ";\n",
    "INSERT INTO raw_data.vital VALUES\n",
    "(100,\t1, '2020-01-01', 75),\n",
    "(100, 3, '2020-01-02', 78),\n",
    "(101, 2, '2020-01-01', 90),\n",
    "(101, 4, '2020-01-02', 95);"
   ]
  },
  {
   "cell_type": "code",
   "execution_count": null,
   "metadata": {
    "id": "LBigrOQmQwVN"
   },
   "outputs": [],
   "source": [
    "%%sql\n",
    "\n",
    "DROP TABLE IF EXISTS raw_data.alert;\n",
    "CREATE TABLE raw_data.alert (\n",
    "    AlertID int,\n",
    "    VitalID\tint,\n",
    "    AlertType varchar(32),\n",
    "    Date date,\n",
    "    UserID int\n",
    ");\n",
    "INSERT INTO raw_data.alert VALUES\n",
    " (1,\t4, 'WeightIncrease', '2020-01-01', 101),\n",
    " (2, NULL, 'MissingVital', '2020-01-04', 100),\n",
    " (3, NULL, 'MissingVital', '2020-01-04', 101);"
   ]
  },
  {
   "cell_type": "markdown",
   "metadata": {
    "id": "0BnFBjaJ9hpp"
   },
   "source": [
    "* INNER JOIN\n",
    "1. 양쪽 테이블에서 매치가 되는 레코드들만 리턴함\n",
    "2. 양쪽 테이블의 필드가 모두 채워진 상태로 리턴됨"
   ]
  },
  {
   "cell_type": "code",
   "execution_count": null,
   "metadata": {
    "id": "Md6ab1LvkH_e"
   },
   "outputs": [],
   "source": [
    "%%sql\n",
    "\n",
    "SELECT * FROM raw_data.vital v\n",
    "JOIN raw_data.alert a ON v.vitalid = a.vitalid;"
   ]
  },
  {
   "cell_type": "markdown",
   "metadata": {
    "id": "Z4nfr400-T8l"
   },
   "source": [
    "\n",
    "* LEFT JOIN: 왼쪽 테이블의 레코드는 모두 리턴되며 오른쪽 테이블과 매칭이 되는 레코드들의 경우에는 오른쪽 테이블 레코드들의 컬럼들이 채워진 상태로 리턴됨. 매칭이 안되는 왼쪽 테이블 레코드들은 오른쪽 테이블에서 들어오는 필드들은 NULL로 채워짐"
   ]
  },
  {
   "cell_type": "code",
   "execution_count": null,
   "metadata": {
    "id": "icrK4RYLR0VJ"
   },
   "outputs": [],
   "source": [
    "%%sql\n",
    "\n",
    "SELECT * FROM raw_data.vital v\n",
    "LEFT JOIN raw_data.alert a ON v.vitalid = a.vitalid;"
   ]
  },
  {
   "cell_type": "markdown",
   "metadata": {
    "id": "BPpasB4e-eqm"
   },
   "source": [
    "* FULL JOIN (OUTER JOIN):\n",
    "1. 왼쪽 테이블과 오른쪽 테이블의 모든 레코드들을 리턴함\n",
    "2. 매칭되는 경우에만 양쪽 테이블들의 모든 필드들이 채워진 상태로 리턴됨"
   ]
  },
  {
   "cell_type": "code",
   "execution_count": null,
   "metadata": {
    "id": "HPTTtMttSJXD"
   },
   "outputs": [],
   "source": [
    "%%sql\n",
    "\n",
    "SELECT * FROM raw_data.vital v\n",
    "FULL JOIN raw_data.alert a ON v.vitalid = a.vitalid;"
   ]
  },
  {
   "cell_type": "markdown",
   "metadata": {
    "id": "yao4hVkK-llH"
   },
   "source": [
    "* CARTESIAN JOIN (CROSS JOIN): 조인 조건 없이 두 개 테이블의 내용을 모두 조합한 결과 레코드들을 생성"
   ]
  },
  {
   "cell_type": "code",
   "execution_count": null,
   "metadata": {
    "id": "h_AXmdomUBtF"
   },
   "outputs": [],
   "source": [
    "%%sql\n",
    "\n",
    "SELECT *\n",
    "FROM (\n",
    "    SELECT vitalid  -- 1,2,3,4\n",
    "    FROM raw_data.vital\n",
    ") v\n",
    "CROSS JOIN (\n",
    "    SELECT alertid   -- 1,2,3\n",
    "    FROM raw_data.alert\n",
    ") a;"
   ]
  },
  {
   "cell_type": "code",
   "execution_count": null,
   "metadata": {
    "id": "NLaJ6ehkTy1Y"
   },
   "outputs": [],
   "source": [
    "%%sql\n",
    "\n",
    "SELECT * FROM raw_data.vital v\n",
    "CROSS JOIN raw_data.alert a;"
   ]
  },
  {
   "cell_type": "markdown",
   "metadata": {
    "id": "RTCsJ2aHe6DC"
   },
   "source": [
    "SELF JOIN"
   ]
  },
  {
   "cell_type": "code",
   "execution_count": null,
   "metadata": {
    "id": "YO_a_7ire27H"
   },
   "outputs": [],
   "source": [
    "%%sql\n",
    "\n",
    "SELECT * FROM raw_data.vital v1\n",
    "JOIN raw_data.vital v2 ON v1.vitalid = v2.vitalid;"
   ]
  },
  {
   "cell_type": "markdown",
   "metadata": {
    "id": "hvCDVS6FeEbz"
   },
   "source": [
    "## Boolean과 COALESCE/NULLIF"
   ]
  },
  {
   "cell_type": "code",
   "execution_count": null,
   "metadata": {
    "id": "oyffreu1eIi-"
   },
   "outputs": [],
   "source": [
    "%%sql\n",
    "\n",
    "SELECT *\n",
    "FROM raw_data.boolean_test;"
   ]
  },
  {
   "cell_type": "code",
   "execution_count": null,
   "metadata": {
    "id": "JeRiUz6bliNP"
   },
   "outputs": [],
   "source": [
    "%%sql\n",
    "\n",
    "SELECT\n",
    "    COUNT(CASE WHEN flag = True THEN 1 END) true_cnt1,\n",
    "    COUNT(CASE WHEN flag is True THEN 1 END) true_cnt2,\n",
    "    COUNT(CASE WHEN flag is not False THEN 1 END) not_false_cnt\n",
    "FROM raw_data.boolean_test;"
   ]
  },
  {
   "cell_type": "code",
   "execution_count": null,
   "metadata": {
    "id": "baK2REb3yZ5m"
   },
   "outputs": [],
   "source": [
    "%%sql\n",
    "\n",
    "SELECT COUNT(1)\n",
    "FROM raw_data.boolean_test\n",
    "WHERE flag is NULL;"
   ]
  },
  {
   "cell_type": "code",
   "execution_count": null,
   "metadata": {
    "id": "tQwL05B8ycj0"
   },
   "outputs": [],
   "source": [
    "%%sql\n",
    "\n",
    "SELECT COUNT(1)\n",
    "FROM raw_data.boolean_test\n",
    "WHERE flag = NULL;"
   ]
  },
  {
   "cell_type": "markdown",
   "metadata": {
    "id": "t6Br-EJAqb6A"
   },
   "source": [
    "공백이 들어있는 필드이름 혹은 예약된 키워드를 필드이름으로 사용하려면?"
   ]
  },
  {
   "cell_type": "code",
   "execution_count": null,
   "metadata": {
    "id": "1VbDc-uQqdVQ"
   },
   "outputs": [],
   "source": [
    "%%sql\n",
    "\n",
    "DROP TABLE IF EXISTS adhoc.keeyong_test;\n",
    "CREATE TABLE adhoc.keeyong_test (\n",
    "    group int primary key,\n",
    "    'mailing address' varchar(32)\n",
    ");"
   ]
  },
  {
   "cell_type": "code",
   "execution_count": null,
   "metadata": {
    "id": "hSnO7y95q8Cr"
   },
   "outputs": [],
   "source": [
    "%%sql\n",
    "\n",
    "CREATE TABLE adhoc.keeyong_test (\n",
    "    \"group\" int primary key,\n",
    "    \"mailing address\" varchar(32)\n",
    ");"
   ]
  },
  {
   "cell_type": "code",
   "execution_count": null,
   "metadata": {
    "id": "T8UdmPbbrKOc"
   },
   "outputs": [],
   "source": [
    "%%sql\n",
    "\n",
    "DROP TABLE IF EXISTS adhoc.keeyong_test_null;\n",
    "CREATE TABLE adhoc.keeyong_test_null (\n",
    "    value int NOT NULL\n",
    ");"
   ]
  },
  {
   "cell_type": "code",
   "execution_count": null,
   "metadata": {
    "id": "Plp-USVbrQk0"
   },
   "outputs": [],
   "source": [
    "%%sql\n",
    "\n",
    "INSERT INTO adhoc.keeyong_test_null VALUES (NULL);"
   ]
  },
  {
   "cell_type": "markdown",
   "metadata": {
    "id": "hYNQUGSffj_Y"
   },
   "source": [
    "# **숙제 - 1**\n",
    "\n",
    "**채널별 월 매출액 테이블 만들기 (adhoc 스키마 밑에 CTAS로 본인 영문 이름을 포함해서 테이블 만들기)**\n",
    "1.   session_timestamp, user_session_channel, channel, session_transaction 테이블들을 사용\n",
    "\n",
    "2.   아래와 같은 필드로 구성\n",
    "    - month\n",
    "    - channel\n",
    "    - uniqueUsers (총방문 사용자)\n",
    "    - paidUsers (구매 사용자: refund한 경우도 판매로 고려)\n",
    "    - conversionRate (구매사용자 / 총방문 사용자)\n",
    "    - grossRevenue (refund 포함)\n",
    "    - netRevenue (refund 제외)\n",
    "\n",
    "\n"
   ]
  },
  {
   "cell_type": "markdown",
   "metadata": {
    "id": "md4r-D0XEtCK"
   },
   "source": [
    "**1. 혹시 OUT JOIN이 필요한지, 테이별 점검 필요**"
   ]
  },
  {
   "cell_type": "code",
   "execution_count": null,
   "metadata": {
    "id": "nuWTElQuAWDS"
   },
   "outputs": [],
   "source": [
    "%%sql\n",
    "\n",
    "select distinct sessionid from raw_data.session_timestamp\n",
    "minus\n",
    "select distinct sessionid from raw_data.user_session_channel\n",
    ";"
   ]
  },
  {
   "cell_type": "code",
   "execution_count": null,
   "metadata": {
    "id": "IvG50kOHwRlj"
   },
   "outputs": [],
   "source": [
    "%%sql\n",
    "\n",
    "select distinct sessionid from raw_data.user_session_channel\n",
    "minus\n",
    "select distinct sessionid from raw_data.session_timestamp\n",
    ";"
   ]
  },
  {
   "cell_type": "code",
   "execution_count": null,
   "metadata": {
    "id": "2kCjBrEv0aaq"
   },
   "outputs": [],
   "source": [
    "%%sql\n",
    "\n",
    "select * from raw_data.session_transaction\n",
    "where amount <= 0"
   ]
  },
  {
   "cell_type": "markdown",
   "metadata": {
    "id": "m3eBeKqNKhUt"
   },
   "source": [
    "**2. Summary Table 만들기**"
   ]
  },
  {
   "cell_type": "code",
   "execution_count": null,
   "metadata": {
    "id": "TV3XiMOf0IeA"
   },
   "outputs": [],
   "source": [
    "%%sql\n",
    "\n",
    "SELECT LEFT(ts, 7) \"month\",  -- \"year month\"\n",
    "       channel,\n",
    "       COUNT(DISTINCT usc.userid) uniqueUsers,\n",
    "       COUNT(DISTINCT CASE WHEN amount > 0 THEN usc.userid END) paidUsers,\n",
    "       ROUND(paidUsers*100.0/NULLIF(uniqueUsers, 0),2) conversionRate,\n",
    "       SUM(amount) grossRevenue,\n",
    "       SUM(CASE WHEN refunded is False THEN amount END) netRevenue\n",
    "   FROM raw_data.user_session_channel usc\n",
    "   LEFT JOIN raw_data.session_timestamp t ON t.sessionid = usc.sessionid\n",
    "   LEFT JOIN raw_data.session_transaction st ON st.sessionid = usc.sessionid\n",
    "   GROUP BY 1, 2\n",
    "   ORDER BY 1, 2;"
   ]
  },
  {
   "cell_type": "code",
   "execution_count": null,
   "metadata": {
    "id": "KZXR4afJKb1b"
   },
   "outputs": [],
   "source": [
    "%%sql\n",
    "\n",
    "--혹시 기존에 생성되어 있으면 삭제\n",
    "DROP TABLE IF EXISTS adhoc.keeyong_monthly_channel_summary;\n",
    "\n",
    "--Summary Table 생성\n",
    "CREATE TABLE adhoc.keeyong_monthly_channel_summary\n",
    "AS\n",
    "SELECT TO_CHAR(ts, 'YYYY-MM') year_month,\n",
    "    usc.channel,\n",
    "    COUNT(DISTINCT usc.userid) unique_users,\n",
    "    COUNT(DISTINCT CASE WHEN amount>0 THEN userid END) paid_users,\n",
    "    ROUND(paid_users*100./NULLIF(unique_users,0),2) conversion_rate,\n",
    "    SUM(amount) gross_revenue,\n",
    "    SUM(CASE WHEN refunded is False THEN amount\n",
    "        ELSE 0 END) net_revenue\n",
    "  FROM raw_data.user_session_channel usc\n",
    "  JOIN raw_data.session_timestamp st ON usc.sessionid = st.sessionid\n",
    "  LEFT JOIN raw_data.session_transaction str ON usc.sessionid = str.sessionid\n",
    "GROUP BY 1, 2;\n",
    "\n",
    "--정상적으로 생성되었는지 확인\n",
    "SELECT * FROM adhoc.keeyong_monthly_channel_summary;\n"
   ]
  },
  {
   "cell_type": "code",
   "execution_count": null,
   "metadata": {
    "id": "WuIDGE4s8jiB"
   },
   "outputs": [],
   "source": [
    "%%sql\n",
    "\n",
    "SELECT *\n",
    "FROM raw_data.count_test;"
   ]
  },
  {
   "cell_type": "code",
   "execution_count": null,
   "metadata": {
    "id": "0qLcBWDp8gl-"
   },
   "outputs": [],
   "source": [
    "%%sql\n",
    "\n",
    "SELECT\n",
    "     value,\n",
    "     COALESCE(value, 0)\n",
    "FROM raw_data.count_test;"
   ]
  },
  {
   "cell_type": "markdown",
   "metadata": {
    "id": "bXHVo7B-CTtG"
   },
   "source": [
    "숙제1: 사용자별로 처음 채널과 마지막 채널 알아내기\n",
    "- ROW_NUMBER vs FIRST_VALUE/LAST_VALUE\n",
    "- 사용자 251번의 시간순으로 봤을 떄 첫 번째 채널과 마지막 채널은 무엇인가?\n",
    "  + 노가다를 하자면 아래 쿼리를 실행해서 처음과 마지막 채널을 보면 됨\n",
    "```sql\n",
    "SELECT ts, channel\n",
    "FROM raw_data.user_session_channel usc\n",
    "JOIN raw_data.session_timestamp st ON usc.sessionid = st.sessionid\n",
    "WHERE userid = 251\n",
    "ORDER BY 1\n",
    "```\n",
    "- ROW_NUMBER를 이용해서 해보자\n",
    "  + ROW_NUMBER() OVER(PARTITION BY field1 ORDER BY field2)nn"
   ]
  },
  {
   "cell_type": "code",
   "execution_count": null,
   "metadata": {
    "id": "9XcXFeMjR7u9"
   },
   "outputs": [],
   "source": [
    "%%sql\n",
    "\n",
    "SELECT\n",
    "  COUNT(DISTINCT userid)\n",
    "FROM raw_data.user_session_channel;"
   ]
  },
  {
   "cell_type": "code",
   "execution_count": null,
   "metadata": {
    "id": "a2cTPZH1Gww2"
   },
   "outputs": [],
   "source": [
    "%%sql\n",
    "\n",
    "WITH RN AS (\n",
    "SELECT\n",
    "  userid,\n",
    "  ts,\n",
    "  channel,\n",
    "  ROW_NUMBER() OVER(PARTITION BY userid ORDER BY ts) num1,\n",
    "  ROW_NUMBER() OVER(PARTITION BY userid ORDER BY ts DESC) num2\n",
    "FROM raw_data.user_session_channel usc\n",
    "JOIN raw_data.session_timestamp st ON usc.sessionid = st.sessionid\n",
    ")\n",
    "\n",
    "SELECT\n",
    "  userid,\n",
    "  MAX(CASE WHEN num1 = 1 THEN channel END) first_chanel,\n",
    "  MAX(CASE WHEN num2 = 1 THEN channel END) last_chanel\n",
    "FROM RN\n",
    "GROUP BY userid\n",
    "ORDER BY 1"
   ]
  },
  {
   "cell_type": "markdown",
   "metadata": {
    "id": "0sKjBe6XEa3V"
   },
   "source": [
    "숙제2: Gross RevenueRK 가장 큰 UserID 10개 찾기\n",
    "- user_session_channel과 session_transaction과 session_timestamp 테이블을 이용\n",
    "- Gross revenue: Refund 포함한 매출"
   ]
  },
  {
   "cell_type": "code",
   "execution_count": null,
   "metadata": {
    "id": "foaLY3fUTFu7"
   },
   "outputs": [],
   "source": [
    "%%sql\n",
    "\n",
    "SELECT COUNT(*)\n",
    "FROM raw_data.session_timestamp;"
   ]
  },
  {
   "cell_type": "code",
   "execution_count": null,
   "metadata": {
    "id": "jzYNUHPZTvUV"
   },
   "outputs": [],
   "source": [
    "%%sql\n",
    "\n",
    "SELECT COUNT(*)\n",
    "FROM raw_data.user_session_channel;"
   ]
  },
  {
   "cell_type": "code",
   "execution_count": null,
   "metadata": {
    "id": "OiU57i4qGxLW"
   },
   "outputs": [],
   "source": [
    "%%sql\n",
    "\n",
    "SELECT\n",
    "  usc.userid,\n",
    "  SUM(st.amount) gross_revenue\n",
    "FROM raw_data.user_session_channel usc\n",
    "JOIN raw_data.session_transaction st ON usc.sessionid = st.sessionid\n",
    "GROUP BY usc.userid\n",
    "ORDER BY gross_revenue DESC\n",
    "LIMIT 10;\n",
    "\n"
   ]
  },
  {
   "cell_type": "markdown",
   "metadata": {
    "id": "morkj4k2Esha"
   },
   "source": [
    "숙제3: raw_data.nps 테이블을바탕으로 월별 NPS 계산\n",
    "- 고객들이 0(의향 없음)에서 10(의향 아주 높음)\n",
    "- detractor(비추전자): 0 에서 6\n",
    "- passive(소극자): 7 에서 8\n",
    "- promoter(홍보자): 9 나 10\n",
    "- NPS = promoter 퍼센트 - detractor 퍼센트"
   ]
  },
  {
   "cell_type": "code",
   "execution_count": null,
   "metadata": {
    "id": "o9A60PkWE-uy"
   },
   "outputs": [],
   "source": [
    "%%sql\n",
    "\n",
    "WITH nps_trans AS(\n",
    "SELECT\n",
    "  TO_CHAR(created_at,'YYYY-MM') year_month,\n",
    "  CASE WHEN score > 8 THEN 'promoter'\n",
    "  WHEN score < 7 THEN 'detractor'\n",
    "  ELSE 'passive' END AS survey\n",
    "FROM raw_data.nps)\n",
    "\n",
    "SELECT\n",
    "  year_month,\n",
    "  count(year_month),\n",
    "  SUM(CASE WHEN survey = 'promoter' THEN 1 ELSE 0 END)*100.0/COUNT(year_month) AS promoter,\n",
    "  SUM(CASE WHEN survey = 'detractor' THEN 1 ELSE 0 END)*100.0/COUNT(year_month) AS detractor,\n",
    "  SUM(CASE WHEN survey = 'passive' THEN 1 ELSE 0 END)*100.0/COUNT(year_month) AS passive,\n",
    "  ROUND(promoter - detractor,2) AS nps\n",
    "FROM nps_trans\n",
    "GROUP BY year_month\n",
    "ORDER BY year_month\n"
   ]
  }
 ],
 "metadata": {
  "colab": {
   "provenance": [
    {
     "file_id": "15_DN3jvdjL5GDBrseGM75pv4GyzMPsV1",
     "timestamp": 1734490857795
    },
    {
     "file_id": "1TSJg9CYEifPL7ahul6IJ1Sp4Uo1Nf5Yf",
     "timestamp": 1624460704544
    },
    {
     "file_id": "11K4OAa5Ll8iuJPvvXrqbPtuyLAdCBs5w",
     "timestamp": 1624460353542
    },
    {
     "file_id": "17XaqEmmImTU_d0rVZz318icfM68zUecg",
     "timestamp": 1622937729377
    },
    {
     "file_id": "1xM-5HhFTmrVBsgSp8zg8AqZ0E0zlbNdP",
     "timestamp": 1619977811091
    }
   ]
  },
  "kernelspec": {
   "display_name": "Python 3",
   "name": "python3"
  },
  "language_info": {
   "name": "python"
  }
 },
 "nbformat": 4,
 "nbformat_minor": 0
}
