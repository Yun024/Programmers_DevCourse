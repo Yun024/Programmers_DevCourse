{
 "cells": [
  {
   "cell_type": "markdown",
   "metadata": {
    "id": "EVuF1_D9zWBV"
   },
   "source": [
    "**환경 설정**"
   ]
  },
  {
   "cell_type": "code",
   "execution_count": null,
   "metadata": {
    "colab": {
     "base_uri": "https://localhost:8080/"
    },
    "executionInfo": {
     "elapsed": 7942,
     "status": "ok",
     "timestamp": 1734528304324,
     "user": {
      "displayName": "윤여준",
      "userId": "13736968564887814759"
     },
     "user_tz": -540
    },
    "id": "s7TWqXbSCwfe",
    "outputId": "07844db3-bd23-4e85-84c2-b945849ef6bd"
   },
   "outputs": [],
   "source": [
    "!pip install ipython-sql==0.4.1\n",
    "!pip install SQLAlchemy==1.4.49"
   ]
  },
  {
   "cell_type": "code",
   "execution_count": 3,
   "metadata": {
    "executionInfo": {
     "elapsed": 1014,
     "status": "ok",
     "timestamp": 1734528305336,
     "user": {
      "displayName": "윤여준",
      "userId": "13736968564887814759"
     },
     "user_tz": -540
    },
    "id": "wOS9-QY1amnt"
   },
   "outputs": [],
   "source": [
    "%load_ext sql"
   ]
  },
  {
   "cell_type": "markdown",
   "metadata": {
    "id": "K3wiIYDJ0EE0"
   },
   "source": [
    "## 사용자별로 처음 채널과 마지막 채널 알아내기"
   ]
  },
  {
   "cell_type": "code",
   "execution_count": null,
   "metadata": {
    "id": "_EzSsoC5P_Xm"
   },
   "outputs": [],
   "source": [
    "%%sql\n",
    "\n",
    "WITH first AS (\n",
    "   SELECT userid, ts, channel, ROW_NUMBER() OVER(PARTITION BY userid ORDER BY ts) seq\n",
    "   FROM raw_data.user_session_channel usc\n",
    "   JOIN raw_data.session_timestamp st ON usc.sessionid = st.sessionid\n",
    "), last AS (\n",
    "   SELECT userid, ts, channel, ROW_NUMBER() OVER(PARTITION BY userid ORDER BY ts DESC) seq\n",
    "   FROM raw_data.user_session_channel usc\n",
    "   JOIN raw_data.session_timestamp st ON usc.sessionid = st.sessionid\n",
    ")\n",
    "SELECT first.userid AS userid, first.channel AS first_channel, last.channel AS last_channel\n",
    "FROM first\n",
    "JOIN last ON first.userid = last.userid and last.seq = 1\n",
    "WHERE first.seq = 1;"
   ]
  },
  {
   "cell_type": "code",
   "execution_count": null,
   "metadata": {
    "id": "LBigrOQmQwVN"
   },
   "outputs": [],
   "source": [
    "%%sql\n",
    "\n",
    "SELECT first.userid AS userid, first.channel AS first_channel, last.channel AS last_channel\n",
    "FROM (\n",
    "  SELECT userid, ts, channel, ROW_NUMBER() OVER(PARTITION BY userid ORDER BY ts) seq\n",
    "  FROM raw_data.user_session_channel usc\n",
    "  JOIN raw_data.session_timestamp st ON usc.sessionid = st.sessionid\n",
    ") first\n",
    "JOIN (\n",
    "  SELECT userid, ts, channel, ROW_NUMBER() OVER(PARTITION BY userid ORDER BY ts DESC) seq\n",
    "  FROM raw_data.user_session_channel usc\n",
    "  JOIN raw_data.session_timestamp st ON usc.sessionid = st.sessionid\n",
    ")  last ON first.userid = last.userid and last.seq = 1\n",
    "WHERE first.seq = 1;"
   ]
  },
  {
   "cell_type": "code",
   "execution_count": null,
   "metadata": {
    "id": "Md6ab1LvkH_e"
   },
   "outputs": [],
   "source": [
    "%%sql\n",
    "\n",
    "SELECT userid,\n",
    " MAX(CASE WHEN rn1 = 1 THEN channel END) first_touch,\n",
    " MAX(CASE WHEN rn2 = 1 THEN channel END) last_touch\n",
    "FROM (\n",
    "  SELECT userid,\n",
    "    channel,\n",
    "    (ROW_NUMBER() OVER (PARTITION BY usc.userid ORDER BY  st.ts asc)) AS rn1,\n",
    "    (ROW_NUMBER() OVER (PARTITION BY usc.userid ORDER BY  st.ts desc)) AS rn2\n",
    "  FROM raw_data.user_session_channel usc\n",
    "  JOIN raw_data.session_timestamp st ON usc.sessionid = st.sessionid\n",
    ")\n",
    "GROUP BY 1;"
   ]
  },
  {
   "cell_type": "code",
   "execution_count": null,
   "metadata": {
    "id": "icrK4RYLR0VJ"
   },
   "outputs": [],
   "source": [
    "%%sql\n",
    "\n",
    "SELECT DISTINCT\n",
    "    A.userid,\n",
    "    FIRST_VALUE(A.channel) over(partition by A.userid order by B.ts\n",
    "rows between unbounded preceding and unbounded following) AS First_Channel,\n",
    "    LAST_VALUE(A.channel) over(partition by A.userid order by B.ts\n",
    "rows between unbounded preceding and unbounded following) AS Last_Channel\n",
    "FROM raw_data.user_session_channel A\n",
    "LEFT JOIN raw_data.session_timestamp B ON A.sessionid = B.sessionid\n",
    "ORDER BY 1;"
   ]
  },
  {
   "cell_type": "markdown",
   "metadata": {
    "id": "BPpasB4e-eqm"
   },
   "source": [
    "## Gross Revenue가 가장 큰 UserID 10개 찾기"
   ]
  },
  {
   "cell_type": "code",
   "execution_count": null,
   "metadata": {
    "id": "HPTTtMttSJXD"
   },
   "outputs": [],
   "source": [
    "%%sql\n",
    "\n",
    "SELECT\n",
    "    userID,\n",
    "    SUM(amount)\n",
    "FROM raw_data.session_transaction st\n",
    "LEFT JOIN raw_data.user_session_channel usc ON st.sessionid = usc.sessionid\n",
    "GROUP BY 1\n",
    "ORDER BY 2 DESC\n",
    "LIMIT 10;"
   ]
  },
  {
   "cell_type": "code",
   "execution_count": null,
   "metadata": {
    "id": "h_AXmdomUBtF"
   },
   "outputs": [],
   "source": [
    "%%sql\n",
    "\n",
    "SELECT DISTINCT\n",
    "    usc.userid,\n",
    "    SUM(amount) OVER(PARTITION BY usc.userid)\n",
    "FROM raw_data.user_session_channel AS usc\n",
    "JOIN raw_data.session_transaction AS revenue ON revenue.sessionid = usc.sessionid\n",
    "ORDER BY 2 DESC\n",
    "LIMIT 10;"
   ]
  },
  {
   "cell_type": "markdown",
   "metadata": {
    "id": "RTCsJ2aHe6DC"
   },
   "source": [
    "## raw_data.nps 테이블을 바탕으로 월별 NPS 계산"
   ]
  },
  {
   "cell_type": "code",
   "execution_count": null,
   "metadata": {
    "id": "YO_a_7ire27H"
   },
   "outputs": [],
   "source": [
    "%%sql\n",
    "\n",
    "SELECT month,\n",
    "  ROUND((promoters-detractors)::float/total_count*100, 2) AS overall_nps\n",
    "FROM (\n",
    "  SELECT LEFT(created, 7) AS month,\n",
    "    COUNT(CASE WHEN score >= 9 THEN 1 END) AS promoters,\n",
    "    COUNT(CASE WHEN score <= 6 THEN 1 END) AS detractors,\n",
    "    COUNT(CASE WHEN score > 6 AND score < 9 THEN 1 END) As passives,\n",
    "    COUNT(1) AS total_count\n",
    "  FROM raw_data.nps\n",
    "  GROUP BY 1\n",
    "  ORDER BY 1\n",
    ");"
   ]
  },
  {
   "cell_type": "code",
   "execution_count": null,
   "metadata": {
    "id": "qRnCpj0L9VSZ"
   },
   "outputs": [],
   "source": [
    "%%sql\n",
    "\n",
    "SELECT LEFT(created_at, 7) AS month,\n",
    "  ROUND(SUM(CASE\n",
    "    WHEN score >= 9 THEN 1\n",
    "    WHEN score <= 6 THEN -1 END)::float*100/COUNT(1), 2)\n",
    "FROM raw_data.nps\n",
    "GROUP BY 1\n",
    "ORDER BY 1;"
   ]
  },
  {
   "cell_type": "markdown",
   "metadata": {
    "id": "hvCDVS6FeEbz"
   },
   "source": [
    "## 트랜잭션"
   ]
  },
  {
   "cell_type": "code",
   "execution_count": null,
   "metadata": {
    "colab": {
     "base_uri": "https://localhost:8080/"
    },
    "executionInfo": {
     "elapsed": 2598,
     "status": "ok",
     "timestamp": 1734528310742,
     "user": {
      "displayName": "윤여준",
      "userId": "13736968564887814759"
     },
     "user_tz": -540
    },
    "id": "_3bq2bva_cq5",
    "outputId": "3e935207-38f8-4c6e-f973-5e2f5641c1c1"
   },
   "outputs": [],
   "source": [
    "%%sql\n",
    "\n",
    "DROP TABLE IF EXISTS adhoc.yeojun_name_gender;\n",
    "CREATE TABLE adhoc.yeojun_name_gender (\n",
    "  name varchar(32) primary key,\n",
    "  gender varchar(16)\n",
    ");\n",
    "INSERT INTO adhoc.yeojun_name_gender VALUES ('Ben', 'Male'), ('Maddie', 'Female');"
   ]
  },
  {
   "cell_type": "code",
   "execution_count": null,
   "metadata": {
    "id": "1TZuaexI_1Mc"
   },
   "outputs": [],
   "source": [
    "%%sql\n",
    "\n",
    "SELECT *\n",
    "FROM adhoc.yeojun_name_gender;"
   ]
  },
  {
   "cell_type": "code",
   "execution_count": 6,
   "metadata": {
    "executionInfo": {
     "elapsed": 233,
     "status": "ok",
     "timestamp": 1734528313391,
     "user": {
      "displayName": "윤여준",
      "userId": "13736968564887814759"
     },
     "user_tz": -540
    },
    "id": "oyffreu1eIi-"
   },
   "outputs": [],
   "source": [
    "import psycopg2\n",
    "\n",
    "# Redshift connection 함수\n",
    "def get_Redshift_connection(autocommit):\n",
    "    host = host + \"redshift.amazonaws.com\"\n",
    "    redshift_user = userid\n",
    "    redshift_pass = userpass\n",
    "    port = portnum\n",
    "    dbname = databasename\n",
    "    conn = psycopg2.connect(\"dbname={dbname} user={user} host={host} password={password} port={port}\".format(\n",
    "        dbname=dbname,\n",
    "        user=redshift_user,\n",
    "        password=redshift_pass,\n",
    "        host=host,\n",
    "        port=port\n",
    "    ))\n",
    "    conn.set_session(autocommit=autocommit)\n",
    "    return conn"
   ]
  },
  {
   "cell_type": "markdown",
   "metadata": {
    "id": "3FJaJxU8-ZGA"
   },
   "source": [
    "### INSERT SQL을 autocommit=False로 실행"
   ]
  },
  {
   "cell_type": "code",
   "execution_count": 7,
   "metadata": {
    "executionInfo": {
     "elapsed": 1498,
     "status": "ok",
     "timestamp": 1734528317445,
     "user": {
      "displayName": "윤여준",
      "userId": "13736968564887814759"
     },
     "user_tz": -540
    },
    "id": "eHeOQlTk-cwi"
   },
   "outputs": [],
   "source": [
    "conn = get_Redshift_connection(False)\n",
    "cur = conn.cursor()"
   ]
  },
  {
   "cell_type": "code",
   "execution_count": 8,
   "metadata": {
    "colab": {
     "base_uri": "https://localhost:8080/"
    },
    "executionInfo": {
     "elapsed": 498,
     "status": "ok",
     "timestamp": 1734528319103,
     "user": {
      "displayName": "윤여준",
      "userId": "13736968564887814759"
     },
     "user_tz": -540
    },
    "id": "VC0t9Q9I-jqN",
    "outputId": "1d88a0e9-9b12-47b1-9298-d38d201db2f7"
   },
   "outputs": [
    {
     "name": "stdout",
     "output_type": "stream",
     "text": [
      "('Ben', 'Male')\n",
      "('Maddie', 'Female')\n"
     ]
    }
   ],
   "source": [
    "cur.execute(\"SELECT * FROM adhoc.yeojun_name_gender;\")\n",
    "res = cur.fetchall()\n",
    "for r in res:\n",
    "  print(r)"
   ]
  },
  {
   "cell_type": "code",
   "execution_count": 9,
   "metadata": {
    "executionInfo": {
     "elapsed": 432,
     "status": "ok",
     "timestamp": 1734528326178,
     "user": {
      "displayName": "윤여준",
      "userId": "13736968564887814759"
     },
     "user_tz": -540
    },
    "id": "bOkGCtno-oR5"
   },
   "outputs": [],
   "source": [
    "cur.execute(\"DELETE FROM adhoc.yeojun_name_gender;\")"
   ]
  },
  {
   "cell_type": "code",
   "execution_count": null,
   "metadata": {
    "colab": {
     "base_uri": "https://localhost:8080/",
     "height": 120
    },
    "executionInfo": {
     "elapsed": 451,
     "status": "ok",
     "timestamp": 1734528339756,
     "user": {
      "displayName": "윤여준",
      "userId": "13736968564887814759"
     },
     "user_tz": -540
    },
    "id": "MOYiEc8Z8eFm",
    "outputId": "51d163a5-f26b-4c95-c916-b754b34290c6"
   },
   "outputs": [],
   "source": [
    "%%sql\n",
    "\n",
    "select *\n",
    "from adhoc.yeojun_name_gender;"
   ]
  },
  {
   "cell_type": "code",
   "execution_count": 11,
   "metadata": {
    "executionInfo": {
     "elapsed": 218,
     "status": "ok",
     "timestamp": 1734528341906,
     "user": {
      "displayName": "윤여준",
      "userId": "13736968564887814759"
     },
     "user_tz": -540
    },
    "id": "vj2b8QrJ-uGZ"
   },
   "outputs": [],
   "source": [
    "cur.execute(\"SELECT * FROM adhoc.yeojun_name_gender;\")\n",
    "res = cur.fetchall()\n",
    "for r in res:\n",
    "  print(r)"
   ]
  },
  {
   "cell_type": "code",
   "execution_count": 12,
   "metadata": {
    "executionInfo": {
     "elapsed": 472,
     "status": "ok",
     "timestamp": 1734528344120,
     "user": {
      "displayName": "윤여준",
      "userId": "13736968564887814759"
     },
     "user_tz": -540
    },
    "id": "kKMdBAvP-q-n"
   },
   "outputs": [],
   "source": [
    "cur.execute(\"INSERT INTO adhoc.yeojun_name_gender VALUES ('Keeyong', 'Male');\")"
   ]
  },
  {
   "cell_type": "code",
   "execution_count": null,
   "metadata": {
    "colab": {
     "base_uri": "https://localhost:8080/",
     "height": 120
    },
    "executionInfo": {
     "elapsed": 485,
     "status": "ok",
     "timestamp": 1734528352649,
     "user": {
      "displayName": "윤여준",
      "userId": "13736968564887814759"
     },
     "user_tz": -540
    },
    "id": "xeQSvivM8jd3",
    "outputId": "f4a1d4aa-3e96-43c6-e76c-3dabeeecb3b2"
   },
   "outputs": [],
   "source": [
    "%%sql\n",
    "\n",
    "select *\n",
    "from adhoc.yeojun_name_gender;"
   ]
  },
  {
   "cell_type": "code",
   "execution_count": null,
   "metadata": {
    "colab": {
     "base_uri": "https://localhost:8080/"
    },
    "executionInfo": {
     "elapsed": 246,
     "status": "ok",
     "timestamp": 1734528354361,
     "user": {
      "displayName": "윤여준",
      "userId": "13736968564887814759"
     },
     "user_tz": -540
    },
    "id": "fPbkwbARAPV0",
    "outputId": "8037b209-80ad-4915-edf6-dcc412401724"
   },
   "outputs": [],
   "source": [
    "cur.execute(\"SELECT * FROM adhoc.yeojun_name_gender;\")\n",
    "res = cur.fetchall()\n",
    "for r in res:\n",
    "  print(r)"
   ]
  },
  {
   "cell_type": "code",
   "execution_count": 15,
   "metadata": {
    "executionInfo": {
     "elapsed": 478,
     "status": "ok",
     "timestamp": 1734528357012,
     "user": {
      "displayName": "윤여준",
      "userId": "13736968564887814759"
     },
     "user_tz": -540
    },
    "id": "pG1ynuZw-waA"
   },
   "outputs": [],
   "source": [
    "cur.execute(\"COMMIT;\")   # conn.commit()는 동일한 결과를 가져옴. cur.execute(\"ROLLBACK;\") conn.rollback()"
   ]
  },
  {
   "cell_type": "code",
   "execution_count": null,
   "metadata": {
    "colab": {
     "base_uri": "https://localhost:8080/",
     "height": 98
    },
    "executionInfo": {
     "elapsed": 475,
     "status": "ok",
     "timestamp": 1734528364878,
     "user": {
      "displayName": "윤여준",
      "userId": "13736968564887814759"
     },
     "user_tz": -540
    },
    "id": "5ddij4ae8mel",
    "outputId": "40fa8829-b61a-4837-df48-524f35dcc178"
   },
   "outputs": [],
   "source": [
    "%%sql\n",
    "\n",
    "select *\n",
    "from adhoc.yeojun_name_gender;"
   ]
  },
  {
   "cell_type": "code",
   "execution_count": 17,
   "metadata": {
    "executionInfo": {
     "elapsed": 232,
     "status": "ok",
     "timestamp": 1734528367628,
     "user": {
      "displayName": "윤여준",
      "userId": "13736968564887814759"
     },
     "user_tz": -540
    },
    "id": "-2lc6plI-0bu"
   },
   "outputs": [],
   "source": [
    "conn.close()"
   ]
  },
  {
   "cell_type": "markdown",
   "metadata": {
    "id": "DtGRB4f7-9Sm"
   },
   "source": [
    "### INSERT SQL을 autocommit=False로 실행하고 psycopg2로 컨트롤하기"
   ]
  },
  {
   "cell_type": "code",
   "execution_count": 18,
   "metadata": {
    "executionInfo": {
     "elapsed": 1590,
     "status": "ok",
     "timestamp": 1734528372503,
     "user": {
      "displayName": "윤여준",
      "userId": "13736968564887814759"
     },
     "user_tz": -540
    },
    "id": "nFE9BvEK-_vY"
   },
   "outputs": [],
   "source": [
    "conn = get_Redshift_connection(False)\n",
    "cur = conn.cursor()"
   ]
  },
  {
   "cell_type": "code",
   "execution_count": 19,
   "metadata": {
    "executionInfo": {
     "elapsed": 1108,
     "status": "ok",
     "timestamp": 1734528374686,
     "user": {
      "displayName": "윤여준",
      "userId": "13736968564887814759"
     },
     "user_tz": -540
    },
    "id": "eeeXUiAA_FYA"
   },
   "outputs": [],
   "source": [
    "try:\n",
    "  cur.execute(\"DELETE FROM adhoc.yeojun_name_gender;\")\n",
    "  cur.execute(\"INSERT INTO adhoc.yeojun_name_gender VALUES ('Claire', 'Female');\")\n",
    "  conn.commit()\n",
    "except (Exception, psycopg2.DatabaseError) as error:\n",
    "  print(error)\n",
    "  conn.rollback()\n",
    "finally :\n",
    "  conn.close()"
   ]
  },
  {
   "cell_type": "code",
   "execution_count": null,
   "metadata": {
    "colab": {
     "base_uri": "https://localhost:8080/",
     "height": 98
    },
    "executionInfo": {
     "elapsed": 438,
     "status": "ok",
     "timestamp": 1734528376932,
     "user": {
      "displayName": "윤여준",
      "userId": "13736968564887814759"
     },
     "user_tz": -540
    },
    "id": "Z9F8jPV-796u",
    "outputId": "e27d693a-d595-4cdc-9cce-55f69f9b309d"
   },
   "outputs": [],
   "source": [
    "%%sql\n",
    "\n",
    "select *\n",
    "from adhoc.yeojun_name_gender"
   ]
  },
  {
   "cell_type": "markdown",
   "metadata": {
    "id": "gC8B7bri_M_b"
   },
   "source": [
    "### INSERT SQL을 autocommit=True로 실행하고 SQL로 컨트롤하기"
   ]
  },
  {
   "cell_type": "code",
   "execution_count": 26,
   "metadata": {
    "executionInfo": {
     "elapsed": 1604,
     "status": "ok",
     "timestamp": 1734528411612,
     "user": {
      "displayName": "윤여준",
      "userId": "13736968564887814759"
     },
     "user_tz": -540
    },
    "id": "IF1F1ERN_PBA"
   },
   "outputs": [],
   "source": [
    "conn = get_Redshift_connection(True)\n",
    "cur = conn.cursor()"
   ]
  },
  {
   "cell_type": "code",
   "execution_count": 27,
   "metadata": {
    "executionInfo": {
     "elapsed": 1130,
     "status": "ok",
     "timestamp": 1734528413760,
     "user": {
      "displayName": "윤여준",
      "userId": "13736968564887814759"
     },
     "user_tz": -540
    },
    "id": "InKCwh9Y_Rtj"
   },
   "outputs": [],
   "source": [
    "cur.execute(\"BEGIN;\")\n",
    "cur.execute(\"DELETE FROM adhoc.yeojun_name_gender;\")\n",
    "cur.execute(\"INSERT INTO adhoc.yeojun_name_gender VALUES ('Benjamin', 'Male');\")\n",
    "cur.execute(\"END;\")"
   ]
  },
  {
   "cell_type": "code",
   "execution_count": null,
   "metadata": {
    "colab": {
     "base_uri": "https://localhost:8080/",
     "height": 98
    },
    "executionInfo": {
     "elapsed": 472,
     "status": "ok",
     "timestamp": 1734528419490,
     "user": {
      "displayName": "윤여준",
      "userId": "13736968564887814759"
     },
     "user_tz": -540
    },
    "id": "i5ILum3k8znd",
    "outputId": "1770f60f-0781-473b-9dad-36f28720116e"
   },
   "outputs": [],
   "source": [
    "%%sql\n",
    "\n",
    "select *\n",
    "from adhoc.yeojun_name_gender;"
   ]
  },
  {
   "cell_type": "markdown",
   "metadata": {
    "id": "mimyYphL-Z4n"
   },
   "source": [
    "### 잘못된 SQL을 중간에 실행해보기"
   ]
  },
  {
   "cell_type": "code",
   "execution_count": null,
   "metadata": {
    "colab": {
     "base_uri": "https://localhost:8080/",
     "height": 202
    },
    "executionInfo": {
     "elapsed": 828,
     "status": "error",
     "timestamp": 1734528455186,
     "user": {
      "displayName": "윤여준",
      "userId": "13736968564887814759"
     },
     "user_tz": -540
    },
    "id": "V5izHb_I-U2k",
    "outputId": "77922d51-4877-4a8c-f1e1-bf3b06d9d957"
   },
   "outputs": [],
   "source": [
    "cur.execute(\"BEGIN;\")\n",
    "cur.execute(\"DELETE FROM adhoc.yeojun_name_gender;\")\n",
    "cur.execute(\"INSERT INTO adhoc.yeojun_name_gender2 VALUES ('Andrew', 'Male');\")\n",
    "cur.execute(\"END;\")"
   ]
  },
  {
   "cell_type": "code",
   "execution_count": null,
   "metadata": {
    "colab": {
     "base_uri": "https://localhost:8080/",
     "height": 98
    },
    "executionInfo": {
     "elapsed": 434,
     "status": "ok",
     "timestamp": 1734528460709,
     "user": {
      "displayName": "윤여준",
      "userId": "13736968564887814759"
     },
     "user_tz": -540
    },
    "id": "aUzwcW7K89nd",
    "outputId": "fdf8409d-5c0c-449d-df61-f3e0c4e78a40"
   },
   "outputs": [],
   "source": [
    "%%sql\n",
    "\n",
    "select *\n",
    "from adhoc.yeojun_name_gender;"
   ]
  },
  {
   "cell_type": "markdown",
   "metadata": {
    "id": "hgGl4yxZB20u"
   },
   "source": [
    "## 기타 고급 문법 소개"
   ]
  },
  {
   "cell_type": "markdown",
   "metadata": {
    "id": "zyzxyYjOCAyg"
   },
   "source": [
    "### EXCEPT 사용해보기 - 두 개의 SELECT 문의 결과 혹은 두 개의 테이블을 비교하는데 사용.\n",
    " * 기존 요약 테이블의 로직을 수정하는 경우 수정 전후를 비교하거나 하는데 많이 사용됨. QA용으로 아주 유용함\n",
    " * 각 SELECT문의 필드들의 수와 타입이 동일해야함\n",
    " * EXCEPT 대신 MINUS를 사용해도 됨"
   ]
  },
  {
   "cell_type": "markdown",
   "metadata": {
    "id": "sqyPzLhACQMm"
   },
   "source": [
    "### UNION: 여러 SELECT 문을 합쳐서 하나의 SELECT를 생성 (합집합)\n",
    "\n",
    "* 각 SELECT문의 필드들의 수와 타입이 동일해야함\n",
    "* UNION과 UNION ALL의 차이점은?\n",
    "  * UNION은 중복되는 레코드를 제거함\n",
    "* 다른 소스에서 생긴 레코드들을 묶어서 새로운 테이블들을 만들 때 아주 유용\n",
    "  * 예를 들면 물건 판매를 Shopify와 Amazon에 동시에 한다면 각 사이트에서 판매 레코드들을 UNION으로 묶어서 새로운 테이블을 생성가능 (CTAS)"
   ]
  },
  {
   "cell_type": "code",
   "execution_count": 31,
   "metadata": {
    "colab": {
     "base_uri": "https://localhost:8080/",
     "height": 120
    },
    "executionInfo": {
     "elapsed": 994,
     "status": "ok",
     "timestamp": 1734531447096,
     "user": {
      "displayName": "윤여준",
      "userId": "13736968564887814759"
     },
     "user_tz": -540
    },
    "id": "as4BIkGMB4EV",
    "outputId": "28208207-3326-44c9-ec93-7e37330d6993"
   },
   "outputs": [],
   "source": [
    "%%sql\n",
    "\n",
    "SELECT 'keeyong' as first_name, 'han' as last_name\n",
    "\n",
    "UNION\n",
    "\n",
    "SELECT 'elon', 'musk'\n",
    "\n",
    "UNION\n",
    "\n",
    "SELECT 'keeyong', 'han'"
   ]
  },
  {
   "cell_type": "code",
   "execution_count": 32,
   "metadata": {
    "colab": {
     "base_uri": "https://localhost:8080/",
     "height": 141
    },
    "executionInfo": {
     "elapsed": 976,
     "status": "ok",
     "timestamp": 1734531548904,
     "user": {
      "displayName": "윤여준",
      "userId": "13736968564887814759"
     },
     "user_tz": -540
    },
    "id": "cdgEPwVKCXo5",
    "outputId": "aca3e25b-7aa8-445c-87df-0f4166ca4e77"
   },
   "outputs": [],
   "source": [
    "%%sql\n",
    "\n",
    "SELECT 'keeyong' as first_name, 'han' as last_name\n",
    "\n",
    "UNION ALL\n",
    "\n",
    "SELECT 'elon', 'musk'\n",
    "\n",
    "UNION ALL\n",
    "\n",
    "SELECT 'keeyong', 'han'"
   ]
  },
  {
   "cell_type": "markdown",
   "metadata": {
    "id": "I1nPDk2YCduq"
   },
   "source": [
    "### INTERSECT: SELECT 문들에서 공통적인 레코드를 돌려줌 (교집합)"
   ]
  },
  {
   "cell_type": "markdown",
   "metadata": {
    "id": "Lj2QX67XCj8J"
   },
   "source": [
    "### LISTAGG - GROUP BY Aggregate 함수 중의 하나"
   ]
  },
  {
   "cell_type": "code",
   "execution_count": null,
   "metadata": {
    "colab": {
     "base_uri": "https://localhost:8080/",
     "height": 311
    },
    "executionInfo": {
     "elapsed": 564,
     "status": "ok",
     "timestamp": 1734531788548,
     "user": {
      "displayName": "윤여준",
      "userId": "13736968564887814759"
     },
     "user_tz": -540
    },
    "id": "35knSAACClKt",
    "outputId": "35de78ca-c5ba-4de2-bc22-864809ae74b0"
   },
   "outputs": [],
   "source": [
    "%%sql\n",
    "\n",
    "-- WITHIN GROUP (ORDER BY ts) channels: 순서를 결정\n",
    "SELECT userid, LISTAGG(channel) WITHIN GROUP (ORDER BY ts) channels\n",
    "FROM raw_data.user_session_channel usc\n",
    "JOIN raw_data.session_timestamp st ON usc.sessionid = st.sessionid\n",
    "GROUP BY 1\n",
    "LIMIT 10;"
   ]
  },
  {
   "cell_type": "code",
   "execution_count": null,
   "metadata": {
    "colab": {
     "base_uri": "https://localhost:8080/",
     "height": 1000
    },
    "executionInfo": {
     "elapsed": 799,
     "status": "ok",
     "timestamp": 1734531828188,
     "user": {
      "displayName": "윤여준",
      "userId": "13736968564887814759"
     },
     "user_tz": -540
    },
    "id": "4ghHlHFyCny0",
    "outputId": "5c411830-6715-412b-9107-9db6017c973b"
   },
   "outputs": [],
   "source": [
    "%%sql\n",
    "\n",
    "SELECT userid, LISTAGG(channel, '->') WITHIN GROUP (ORDER BY ts) channels\n",
    "FROM raw_data.user_session_channel usc\n",
    "JOIN raw_data.session_timestamp st ON usc.sessionid = st.sessionid\n",
    "GROUP BY 1\n",
    "LIMIT 10;"
   ]
  },
  {
   "cell_type": "code",
   "execution_count": null,
   "metadata": {
    "colab": {
     "base_uri": "https://localhost:8080/",
     "height": 1000
    },
    "executionInfo": {
     "elapsed": 786,
     "status": "ok",
     "timestamp": 1734531871262,
     "user": {
      "displayName": "윤여준",
      "userId": "13736968564887814759"
     },
     "user_tz": -540
    },
    "id": "R5Ooe6QxLRK2",
    "outputId": "856d7e4f-ff27-4c2f-9899-08ed9b25c191"
   },
   "outputs": [],
   "source": [
    "%%sql\n",
    "\n",
    "SELECT usc.*, st.ts, LAG(channel, 1) OVER (PARTITION BY userId ORDER BY ts) prev_channel\n",
    "FROM raw_data.user_session_channel usc\n",
    "JOIN raw_data.session_timestamp st ON usc.sessionid = st.sessionid\n",
    "ORDER BY usc.userid, st.ts\n",
    "LIMIT 100;"
   ]
  },
  {
   "cell_type": "code",
   "execution_count": null,
   "metadata": {
    "colab": {
     "base_uri": "https://localhost:8080/",
     "height": 1000
    },
    "executionInfo": {
     "elapsed": 548,
     "status": "ok",
     "timestamp": 1734531956910,
     "user": {
      "displayName": "윤여준",
      "userId": "13736968564887814759"
     },
     "user_tz": -540
    },
    "id": "0rqnMDGXP3rH",
    "outputId": "24024c7e-e918-420a-decd-e56c7b4ed260"
   },
   "outputs": [],
   "source": [
    "%%sql\n",
    "\n",
    "SELECT usc.*, st.ts, LAG(channel, 1) OVER (PARTITION BY userId ORDER BY ts DESC) prev_channel\n",
    "FROM raw_data.user_session_channel usc\n",
    "JOIN raw_data.session_timestamp st ON usc.sessionid = st.sessionid\n",
    "ORDER BY usc.userid, st.ts\n",
    "LIMIT 100;"
   ]
  },
  {
   "cell_type": "markdown",
   "metadata": {
    "id": "SkbM_381Ho4n"
   },
   "source": [
    "### JSON parsing 함수"
   ]
  },
  {
   "cell_type": "code",
   "execution_count": null,
   "metadata": {
    "colab": {
     "base_uri": "https://localhost:8080/",
     "height": 98
    },
    "executionInfo": {
     "elapsed": 541,
     "status": "ok",
     "timestamp": 1734532233575,
     "user": {
      "displayName": "윤여준",
      "userId": "13736968564887814759"
     },
     "user_tz": -540
    },
    "id": "bkioHH4kHq5a",
    "outputId": "27b009f1-9e20-440b-9baa-7f93e6b86fbc"
   },
   "outputs": [],
   "source": [
    "%%sql\n",
    "\n",
    "SELECT JSON_EXTRACT_PATH_TEXT('{\"f2\":{\"f3\": \"1\"},\"f4\":{\"f5\":\"99\",\"f6\":\"star\"}}','f4', 'f6');"
   ]
  },
  {
   "cell_type": "code",
   "execution_count": null,
   "metadata": {
    "id": "4Y9HpLcrQM_A"
   },
   "outputs": [],
   "source": [
    "%%sql\n",
    "\n",
    "SELECT JSON_EXTRACT_PATH_TEXT('{\"f2\":{\"f3\": \"1\"},\"f4\":{\"f5\":\"99\",\"f6\":\"star\"}}','f4');"
   ]
  }
 ],
 "metadata": {
  "colab": {
   "provenance": [
    {
     "file_id": "1bbNuJbsk24IXoMRTRkHI-vvteoKVjsyh",
     "timestamp": 1734527859603
    },
    {
     "file_id": "15_DN3jvdjL5GDBrseGM75pv4GyzMPsV1",
     "timestamp": 1624737686404
    },
    {
     "file_id": "1TSJg9CYEifPL7ahul6IJ1Sp4Uo1Nf5Yf",
     "timestamp": 1624460704544
    },
    {
     "file_id": "11K4OAa5Ll8iuJPvvXrqbPtuyLAdCBs5w",
     "timestamp": 1624460353542
    },
    {
     "file_id": "17XaqEmmImTU_d0rVZz318icfM68zUecg",
     "timestamp": 1622937729377
    },
    {
     "file_id": "1xM-5HhFTmrVBsgSp8zg8AqZ0E0zlbNdP",
     "timestamp": 1619977811091
    }
   ]
  },
  "kernelspec": {
   "display_name": "Python 3",
   "name": "python3"
  },
  "language_info": {
   "name": "python"
  }
 },
 "nbformat": 4,
 "nbformat_minor": 0
}
