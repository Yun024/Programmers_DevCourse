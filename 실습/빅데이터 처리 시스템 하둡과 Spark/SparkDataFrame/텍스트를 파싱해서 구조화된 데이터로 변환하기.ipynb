{
 "cells": [
  {
   "cell_type": "code",
   "execution_count": 5,
   "metadata": {},
   "outputs": [],
   "source": [
    "from pyspark.sql import SparkSession\n",
    "from pyspark import SparkConf\n",
    "\n",
    "conf = SparkConf()\n",
    "conf.set(\"spark.app.name\", \"PySpark DataFrame #3\")\n",
    "conf.set(\"spark.master\", \"local[2]\")\n",
    "\n",
    "spark = SparkSession.builder\\\n",
    "        .config(conf=conf)\\\n",
    "        .getOrCreate()"
   ]
  },
  {
   "cell_type": "code",
   "execution_count": null,
   "metadata": {},
   "outputs": [],
   "source": [
    "import os\n",
    "os.chdir(\"../../data\")"
   ]
  },
  {
   "cell_type": "code",
   "execution_count": 6,
   "metadata": {},
   "outputs": [
    {
     "name": "stdout",
     "output_type": "stream",
     "text": [
      "+---------------------------------------------------------------------------+\n",
      "|text                                                                       |\n",
      "+---------------------------------------------------------------------------+\n",
      "|On 2021-01-04 the cost per ton from 85001 to 85002 is $28.32 at ABC Hauling|\n",
      "|On 2021-01-04 the cost per ton from 85001 to 85004 is $25.68 at ABC Hauling|\n",
      "|On 2021-01-04 the cost per ton from 85001 to 85007 is 19.86 at ABC Hauling |\n",
      "|On 2021-01-04 the cost per ton from 85001 to 85007 is 20.52 at Haul Today  |\n",
      "|On 2021-01-04 the cost per ton from 85001 to 85010 is 20.72 at Haul Today  |\n",
      "|On 2021-01-04 the cost per ton from 85001 to 85012 is $18.98 at ABC Hauling|\n",
      "|On 2021-01-04 the cost per ton from 85001 to 85013 is 26.64 at Haul Today  |\n",
      "|On 2021-01-04 the cost per ton from 85001 to 85020 is 26.34 at ABC Hauling |\n",
      "|On 2021-01-04 the cost per ton from 85001 to 85021 is $20.15 at ABC Hauling|\n",
      "|On 2021-01-04 the cost per ton from 85002 to 85001 is 21.57 at Haul Today  |\n",
      "|On 2021-01-04 the cost per ton from 85002 to 85004 is 21.40 at Haul Today  |\n",
      "|On 2021-01-04 the cost per ton from 85002 to 85007 is 25.93 at Haul Today  |\n",
      "|On 2021-01-04 the cost per ton from 85002 to 85010 is 19.80 at Haul Today  |\n",
      "|On 2021-01-04 the cost per ton from 85002 to 85012 is 21.66 at Haul Today  |\n",
      "|On 2021-01-04 the cost per ton from 85002 to 85013 is $25.90 at Haul Today |\n",
      "|On 2021-01-04 the cost per ton from 85002 to 85020 is 19.15 at ABC Hauling |\n",
      "|On 2021-01-04 the cost per ton from 85002 to 85021 is $27.13 at Haul Today |\n",
      "|On 2021-01-04 the cost per ton from 85004 to 85001 is 23.88 at Haul Today  |\n",
      "|On 2021-01-04 the cost per ton from 85004 to 85002 is 26.40 at ABC Hauling |\n",
      "|On 2021-01-04 the cost per ton from 85004 to 85007 is 26.03 at ABC Hauling |\n",
      "+---------------------------------------------------------------------------+\n",
      "only showing top 20 rows\n",
      "\n"
     ]
    }
   ],
   "source": [
    "import pyspark.sql.functions as F\n",
    "from pyspark.sql.types import *\n",
    "\n",
    "schema = StructType([ StructField(\"text\", StringType(), True)])\n",
    "transfer_cost_df = spark.read.schema(schema).text(\"transfer_cost.txt\")\n",
    "## 잘려서 표시되는것을 방지하기위해 truncate=False\n",
    "transfer_cost_df.show(truncate=False)"
   ]
  },
  {
   "cell_type": "code",
   "execution_count": 3,
   "metadata": {},
   "outputs": [
    {
     "name": "stdout",
     "output_type": "stream",
     "text": [
      "root\n",
      " |-- text: string (nullable = true)\n",
      " |-- week: string (nullable = true)\n",
      " |-- departure_zipcode: string (nullable = true)\n",
      " |-- arrival_zipcode: string (nullable = true)\n",
      " |-- cost: string (nullable = true)\n",
      " |-- vendor: string (nullable = true)\n",
      "\n"
     ]
    }
   ],
   "source": [
    "from pyspark.sql.functions import *\n",
    "regex_str = r'On (\\S+) the cost per ton from (\\d+) to (\\d+) is (\\S+) at (.*)'\n",
    "\n",
    "df_with_new_columns = transfer_cost_df\\\n",
    "    .withColumn('week', regexp_extract('text', regex_str, 1))\\\n",
    "    .withColumn('departure_zipcode', regexp_extract(column('text'), regex_str, 2))\\\n",
    "    .withColumn('arrival_zipcode', regexp_extract(transfer_cost_df.text, regex_str, 3))\\\n",
    "    .withColumn('cost', regexp_extract(col('text'), regex_str, 4))\\\n",
    "    .withColumn('vendor', regexp_extract(col('text'), regex_str, 5))\n",
    "df_with_new_columns.printSchema()"
   ]
  },
  {
   "cell_type": "code",
   "execution_count": 6,
   "metadata": {},
   "outputs": [],
   "source": [
    "final_df = df_with_new_columns.drop(\"text\")\n",
    "final_df.write.csv(\"extracted.csv\")"
   ]
  },
  {
   "cell_type": "code",
   "execution_count": 9,
   "metadata": {},
   "outputs": [],
   "source": [
    "final_df.write.format(\"json\").save(\"extracted.json\")"
   ]
  },
  {
   "cell_type": "code",
   "execution_count": 14,
   "metadata": {},
   "outputs": [
    {
     "data": {
      "text/html": [
       "<div>\n",
       "<style scoped>\n",
       "    .dataframe tbody tr th:only-of-type {\n",
       "        vertical-align: middle;\n",
       "    }\n",
       "\n",
       "    .dataframe tbody tr th {\n",
       "        vertical-align: top;\n",
       "    }\n",
       "\n",
       "    .dataframe thead th {\n",
       "        text-align: right;\n",
       "    }\n",
       "</style>\n",
       "<table border=\"1\" class=\"dataframe\">\n",
       "  <thead>\n",
       "    <tr style=\"text-align: right;\">\n",
       "      <th></th>\n",
       "      <th>0</th>\n",
       "      <th>1</th>\n",
       "      <th>2</th>\n",
       "      <th>3</th>\n",
       "      <th>4</th>\n",
       "    </tr>\n",
       "  </thead>\n",
       "  <tbody>\n",
       "    <tr>\n",
       "      <th>0</th>\n",
       "      <td>2021-01-04</td>\n",
       "      <td>85001</td>\n",
       "      <td>85002</td>\n",
       "      <td>$28.32</td>\n",
       "      <td>ABC Hauling</td>\n",
       "    </tr>\n",
       "    <tr>\n",
       "      <th>1</th>\n",
       "      <td>2021-01-04</td>\n",
       "      <td>85001</td>\n",
       "      <td>85004</td>\n",
       "      <td>$25.68</td>\n",
       "      <td>ABC Hauling</td>\n",
       "    </tr>\n",
       "    <tr>\n",
       "      <th>2</th>\n",
       "      <td>2021-01-04</td>\n",
       "      <td>85001</td>\n",
       "      <td>85007</td>\n",
       "      <td>19.86</td>\n",
       "      <td>ABC Hauling</td>\n",
       "    </tr>\n",
       "    <tr>\n",
       "      <th>3</th>\n",
       "      <td>2021-01-04</td>\n",
       "      <td>85001</td>\n",
       "      <td>85007</td>\n",
       "      <td>20.52</td>\n",
       "      <td>Haul Today</td>\n",
       "    </tr>\n",
       "    <tr>\n",
       "      <th>4</th>\n",
       "      <td>2021-01-04</td>\n",
       "      <td>85001</td>\n",
       "      <td>85010</td>\n",
       "      <td>20.72</td>\n",
       "      <td>Haul Today</td>\n",
       "    </tr>\n",
       "  </tbody>\n",
       "</table>\n",
       "</div>"
      ],
      "text/plain": [
       "            0      1      2       3            4\n",
       "0  2021-01-04  85001  85002  $28.32  ABC Hauling\n",
       "1  2021-01-04  85001  85004  $25.68  ABC Hauling\n",
       "2  2021-01-04  85001  85007   19.86  ABC Hauling\n",
       "3  2021-01-04  85001  85007   20.52   Haul Today\n",
       "4  2021-01-04  85001  85010   20.72   Haul Today"
      ]
     },
     "execution_count": 14,
     "metadata": {},
     "output_type": "execute_result"
    }
   ],
   "source": [
    "import pandas as pd\n",
    "temp = pd.read_csv(\"extracted.csv/part-00000-5cb06e6a-b262-4978-aa02-18753570f383-c000.csv\",header=None)\n",
    "temp.head(5)"
   ]
  }
 ],
 "metadata": {
  "kernelspec": {
   "display_name": "Python 3",
   "language": "python",
   "name": "python3"
  },
  "language_info": {
   "codemirror_mode": {
    "name": "ipython",
    "version": 3
   },
   "file_extension": ".py",
   "mimetype": "text/x-python",
   "name": "python",
   "nbconvert_exporter": "python",
   "pygments_lexer": "ipython3",
   "version": "3.10.11"
  }
 },
 "nbformat": 4,
 "nbformat_minor": 2
}
