{
 "cells": [
  {
   "cell_type": "code",
   "execution_count": 1,
   "metadata": {},
   "outputs": [],
   "source": [
    "from pyspark.sql import *\n",
    "from pyspark.sql.functions import *\n",
    "\n",
    "if __name__ == \"__main__\":\n",
    "    spark = SparkSession \\\n",
    "        .builder \\\n",
    "        .appName(\"Spark Schema Evolution Demo\") \\\n",
    "        .master(\"local[4]\") \\\n",
    "        .getOrCreate()\n"
   ]
  },
  {
   "cell_type": "code",
   "execution_count": 3,
   "metadata": {},
   "outputs": [],
   "source": [
    "path = \"c:\\\\Users\\\\Yeojun\\\\Documents\\\\GitHub\\\\Programmers_DevCourse\\\\학습내용\\\\빅데이터 처리 시스템, 하둡과 Spark\\\\data\""
   ]
  },
  {
   "cell_type": "code",
   "execution_count": 4,
   "metadata": {},
   "outputs": [
    {
     "name": "stdout",
     "output_type": "stream",
     "text": [
      "root\n",
      " |-- Date: timestamp (nullable = true)\n",
      " |-- Open: double (nullable = true)\n",
      " |-- High: double (nullable = true)\n",
      " |-- Low: double (nullable = true)\n",
      " |-- Close: double (nullable = true)\n",
      "\n",
      "+-------------------+------------------+------------------+------------------+------------------+\n",
      "|               Date|              Open|              High|               Low|             Close|\n",
      "+-------------------+------------------+------------------+------------------+------------------+\n",
      "|2010-01-04 17:00:00|        213.429998|        214.499996|212.38000099999996|        214.009998|\n",
      "|2010-01-05 17:00:00|        214.599998|        215.589994|        213.249994|        214.379993|\n",
      "|2010-01-06 17:00:00|        214.379993|            215.23|        210.750004|        210.969995|\n",
      "|2010-01-07 17:00:00|            211.75|        212.000006|        209.050005|            210.58|\n",
      "|2010-01-08 17:00:00|        210.299994|        212.000006|209.06000500000002|211.98000499999998|\n",
      "|2010-01-11 17:00:00|212.79999700000002|        213.000002|        208.450005|210.11000299999998|\n",
      "|2010-01-12 17:00:00|209.18999499999998|209.76999500000002|        206.419998|        207.720001|\n",
      "|2010-01-13 17:00:00|        207.870005|210.92999500000002|        204.099998|        210.650002|\n",
      "|2010-01-14 17:00:00|210.11000299999998|210.45999700000002|        209.020004|            209.43|\n",
      "|2010-01-15 17:00:00|210.92999500000002|211.59999700000003|        205.869999|            205.93|\n",
      "|2010-01-19 17:00:00|        208.330002|215.18999900000003|        207.240004|        215.039995|\n",
      "|2010-01-20 17:00:00|        214.910006|        215.549994|        209.500002|            211.73|\n",
      "|2010-01-21 17:00:00|        212.079994|213.30999599999998|        207.210003|        208.069996|\n",
      "|2010-01-22 17:00:00|206.78000600000001|        207.499996|            197.16|            197.75|\n",
      "|2010-01-25 17:00:00|202.51000200000001|        204.699999|        200.190002|        203.070002|\n",
      "|2010-01-26 17:00:00|205.95000100000001|        213.710005|        202.580004|        205.940001|\n",
      "|2010-01-27 17:00:00|        206.849995|            210.58|        199.530001|        207.880005|\n",
      "|2010-01-28 17:00:00|        204.930004|        205.500004|        198.699995|        199.289995|\n",
      "|2010-01-29 17:00:00|        201.079996|        202.199995|        190.250002|        192.060003|\n",
      "|2010-02-01 17:00:00|192.36999699999998|             196.0|191.29999899999999|        194.729998|\n",
      "+-------------------+------------------+------------------+------------------+------------------+\n",
      "only showing top 20 rows\n",
      "\n"
     ]
    }
   ],
   "source": [
    "df1 = spark.read.parquet(path + \"\\\\schema1.parquet\")\n",
    "df1.printSchema()\n",
    "df1.show()"
   ]
  },
  {
   "cell_type": "code",
   "execution_count": 8,
   "metadata": {},
   "outputs": [
    {
     "name": "stdout",
     "output_type": "stream",
     "text": [
      "root\n",
      " |-- Date: timestamp (nullable = true)\n",
      " |-- Open: double (nullable = true)\n",
      " |-- High: double (nullable = true)\n",
      " |-- Low: double (nullable = true)\n",
      " |-- Close: double (nullable = true)\n",
      " |-- Volume: integer (nullable = true)\n",
      "\n"
     ]
    }
   ],
   "source": [
    "df2 = spark.read.parquet(path + \"\\\\schema2.parquet\")\n",
    "df2.printSchema()"
   ]
  },
  {
   "cell_type": "code",
   "execution_count": 7,
   "metadata": {},
   "outputs": [
    {
     "name": "stdout",
     "output_type": "stream",
     "text": [
      "root\n",
      " |-- Date: timestamp (nullable = true)\n",
      " |-- Open: double (nullable = true)\n",
      " |-- High: double (nullable = true)\n",
      " |-- Low: double (nullable = true)\n",
      " |-- Close: double (nullable = true)\n",
      " |-- Volume: integer (nullable = true)\n",
      " |-- Adj Close: double (nullable = true)\n",
      "\n"
     ]
    }
   ],
   "source": [
    "df3 = spark.read.parquet(path + \"\\\\schema3.parquet\")\n",
    "df3.printSchema()"
   ]
  },
  {
   "cell_type": "code",
   "execution_count": 9,
   "metadata": {},
   "outputs": [
    {
     "name": "stdout",
     "output_type": "stream",
     "text": [
      "root\n",
      " |-- Date: timestamp (nullable = true)\n",
      " |-- Open: double (nullable = true)\n",
      " |-- High: double (nullable = true)\n",
      " |-- Low: double (nullable = true)\n",
      " |-- Close: double (nullable = true)\n",
      " |-- Volume: integer (nullable = true)\n",
      " |-- Adj Close: double (nullable = true)\n",
      "\n",
      "+-------------------+------------------+------------------+------------------+------------------+---------+------------------+\n",
      "|               Date|              Open|              High|               Low|             Close|   Volume|         Adj Close|\n",
      "+-------------------+------------------+------------------+------------------+------------------+---------+------------------+\n",
      "|2010-01-04 17:00:00|        213.429998|        214.499996|212.38000099999996|        214.009998|123432400|         27.727039|\n",
      "|2010-01-05 17:00:00|        214.599998|        215.589994|        213.249994|        214.379993|150476200|27.774976000000002|\n",
      "|2010-01-06 17:00:00|        214.379993|            215.23|        210.750004|        210.969995|138040000|27.333178000000004|\n",
      "|2010-01-07 17:00:00|            211.75|        212.000006|        209.050005|            210.58|119282800|          27.28265|\n",
      "|2010-01-08 17:00:00|        210.299994|        212.000006|209.06000500000002|211.98000499999998|111902700|         27.464034|\n",
      "|2010-01-11 17:00:00|212.79999700000002|        213.000002|        208.450005|210.11000299999998|115557400|         27.221758|\n",
      "|2010-01-12 17:00:00|209.18999499999998|209.76999500000002|        206.419998|        207.720001|148614900|          26.91211|\n",
      "|2010-01-13 17:00:00|        207.870005|210.92999500000002|        204.099998|        210.650002|151473000|          27.29172|\n",
      "|2010-01-14 17:00:00|210.11000299999998|210.45999700000002|        209.020004|            209.43|108223500|         27.133657|\n",
      "|2010-01-15 17:00:00|210.92999500000002|211.59999700000003|        205.869999|            205.93|148516900|26.680197999999997|\n",
      "+-------------------+------------------+------------------+------------------+------------------+---------+------------------+\n",
      "only showing top 10 rows\n",
      "\n"
     ]
    }
   ],
   "source": [
    "df = spark.read.option(\"mergeSchema\", True).parquet(path + \"\\\\*.parquet\")\n",
    "df.printSchema()\n",
    "df.show(10)"
   ]
  },
  {
   "cell_type": "code",
   "execution_count": null,
   "metadata": {},
   "outputs": [],
   "source": []
  }
 ],
 "metadata": {
  "kernelspec": {
   "display_name": "Python 3",
   "language": "python",
   "name": "python3"
  },
  "language_info": {
   "codemirror_mode": {
    "name": "ipython",
    "version": 3
   },
   "file_extension": ".py",
   "mimetype": "text/x-python",
   "name": "python",
   "nbconvert_exporter": "python",
   "pygments_lexer": "ipython3",
   "version": "3.10.11"
  }
 },
 "nbformat": 4,
 "nbformat_minor": 2
}
