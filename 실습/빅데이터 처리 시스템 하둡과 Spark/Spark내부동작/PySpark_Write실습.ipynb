{
 "cells": [
  {
   "cell_type": "code",
   "execution_count": null,
   "metadata": {},
   "outputs": [],
   "source": [
    "from pyspark.sql import *\n",
    "from pyspark.sql.functions import *\n",
    "\n",
    "if __name__ == \"__main__\":\n",
    "    spark = SparkSession \\\n",
    "        .builder \\\n",
    "        .appName(\"Spark Writing Demo\") \\\n",
    "        .master(\"local[4]\") \\\n",
    "        .config(\"spark.jars.packages\", \"org.apache.spark:spark-avro_2.12:3.5.0\") \\\n",
    "        .getOrCreate()\n"
   ]
  },
  {
   "cell_type": "code",
   "execution_count": 2,
   "metadata": {},
   "outputs": [],
   "source": [
    "path = \"c:\\\\Users\\\\Yeojun\\\\Documents\\\\GitHub\\\\Programmers_DevCourse\\\\학습내용\\\\빅데이터 처리 시스템, 하둡과 Spark\\\\data\""
   ]
  },
  {
   "cell_type": "code",
   "execution_count": 3,
   "metadata": {},
   "outputs": [],
   "source": [
    "df = spark.read \\\n",
    "    .format(\"csv\") \\\n",
    "    .load(path + \"\\\\appl_stock.csv\")"
   ]
  },
  {
   "cell_type": "code",
   "execution_count": 8,
   "metadata": {},
   "outputs": [
    {
     "name": "stdout",
     "output_type": "stream",
     "text": [
      "Num Partitions before:1\n",
      "+--------------------+-----+\n",
      "|SPARK_PARTITION_ID()|count|\n",
      "+--------------------+-----+\n",
      "|                   0| 1763|\n",
      "+--------------------+-----+\n",
      "\n"
     ]
    }
   ],
   "source": [
    "print(\"Num Partitions before:\" + str(df.rdd.getNumPartitions()))\n",
    "df.groupBy(spark_partition_id()).count().show()"
   ]
  },
  {
   "cell_type": "code",
   "execution_count": 4,
   "metadata": {},
   "outputs": [
    {
     "name": "stdout",
     "output_type": "stream",
     "text": [
      "Num Partitions after:4\n",
      "+--------------------+-----+\n",
      "|SPARK_PARTITION_ID()|count|\n",
      "+--------------------+-----+\n",
      "|                   0|  440|\n",
      "|                   1|  441|\n",
      "|                   2|  441|\n",
      "|                   3|  441|\n",
      "+--------------------+-----+\n",
      "\n"
     ]
    }
   ],
   "source": [
    "df2 = df.repartition(4)\n",
    "print(\"Num Partitions after:\" + str(df2.rdd.getNumPartitions()))\n",
    "df2.groupBy(spark_partition_id()).count().show()"
   ]
  },
  {
   "cell_type": "code",
   "execution_count": 5,
   "metadata": {},
   "outputs": [
    {
     "name": "stdout",
     "output_type": "stream",
     "text": [
      "Num Partitions after:2\n",
      "+--------------------+-----+\n",
      "|SPARK_PARTITION_ID()|count|\n",
      "+--------------------+-----+\n",
      "|                   0|  881|\n",
      "|                   1|  882|\n",
      "+--------------------+-----+\n",
      "\n"
     ]
    }
   ],
   "source": [
    "## 파티션을 줄이지만 셔플링을 최소화\n",
    "df3 = df2.coalesce(2)\n",
    "print(\"Num Partitions after:\" + str(df3.rdd.getNumPartitions()))\n",
    "df3.groupBy(spark_partition_id()).count().show()"
   ]
  },
  {
   "cell_type": "code",
   "execution_count": 6,
   "metadata": {},
   "outputs": [],
   "source": [
    "df.write \\\n",
    "    .format(\"avro\") \\\n",
    "    .mode(\"overwrite\") \\\n",
    "    .option(\"path\", \"dataOutput/avro/\") \\\n",
    "    .save()"
   ]
  },
  {
   "cell_type": "code",
   "execution_count": 7,
   "metadata": {},
   "outputs": [],
   "source": [
    "df2.write \\\n",
    "    .format(\"parquet\") \\\n",
    "    .mode(\"overwrite\") \\\n",
    "    .option(\"path\", \"dataOutput/parquet/\") \\\n",
    "    .save()"
   ]
  },
  {
   "cell_type": "code",
   "execution_count": 8,
   "metadata": {},
   "outputs": [],
   "source": [
    "df3.write \\\n",
    "    .format(\"json\") \\\n",
    "    .mode(\"overwrite\") \\\n",
    "    .option(\"path\", \"dataOutput/json/\") \\\n",
    "    .save()"
   ]
  },
  {
   "cell_type": "code",
   "execution_count": 10,
   "metadata": {},
   "outputs": [
    {
     "data": {
      "text/plain": [
       "['avro', 'json', 'parquet']"
      ]
     },
     "execution_count": 10,
     "metadata": {},
     "output_type": "execute_result"
    }
   ],
   "source": [
    "import os\n",
    "os.listdir(\"./dataOutput\")"
   ]
  },
  {
   "cell_type": "code",
   "execution_count": 11,
   "metadata": {},
   "outputs": [
    {
     "data": {
      "text/plain": [
       "['.part-00000-b381efb4-7017-4ecf-ad80-16f6fcd58044-c000.snappy.parquet.crc',\n",
       " '.part-00001-b381efb4-7017-4ecf-ad80-16f6fcd58044-c000.snappy.parquet.crc',\n",
       " '.part-00002-b381efb4-7017-4ecf-ad80-16f6fcd58044-c000.snappy.parquet.crc',\n",
       " '.part-00003-b381efb4-7017-4ecf-ad80-16f6fcd58044-c000.snappy.parquet.crc',\n",
       " '._SUCCESS.crc',\n",
       " 'part-00000-b381efb4-7017-4ecf-ad80-16f6fcd58044-c000.snappy.parquet',\n",
       " 'part-00001-b381efb4-7017-4ecf-ad80-16f6fcd58044-c000.snappy.parquet',\n",
       " 'part-00002-b381efb4-7017-4ecf-ad80-16f6fcd58044-c000.snappy.parquet',\n",
       " 'part-00003-b381efb4-7017-4ecf-ad80-16f6fcd58044-c000.snappy.parquet',\n",
       " '_SUCCESS']"
      ]
     },
     "execution_count": 11,
     "metadata": {},
     "output_type": "execute_result"
    }
   ],
   "source": [
    "os.listdir(\"./dataOutput/parquet\")"
   ]
  },
  {
   "cell_type": "code",
   "execution_count": 12,
   "metadata": {},
   "outputs": [
    {
     "data": {
      "text/plain": [
       "['.part-00000-e17782e5-ea8a-4b6b-a59e-9cb48b2d150e-c000.avro.crc',\n",
       " '._SUCCESS.crc',\n",
       " 'part-00000-e17782e5-ea8a-4b6b-a59e-9cb48b2d150e-c000.avro',\n",
       " '_SUCCESS']"
      ]
     },
     "execution_count": 12,
     "metadata": {},
     "output_type": "execute_result"
    }
   ],
   "source": [
    "os.listdir(\"./dataOutput/avro\")"
   ]
  },
  {
   "cell_type": "code",
   "execution_count": 13,
   "metadata": {},
   "outputs": [
    {
     "data": {
      "text/plain": [
       "['.part-00000-9d970d3f-e263-42ad-b0ae-810cf5a640b2-c000.json.crc',\n",
       " '.part-00001-9d970d3f-e263-42ad-b0ae-810cf5a640b2-c000.json.crc',\n",
       " '._SUCCESS.crc',\n",
       " 'part-00000-9d970d3f-e263-42ad-b0ae-810cf5a640b2-c000.json',\n",
       " 'part-00001-9d970d3f-e263-42ad-b0ae-810cf5a640b2-c000.json',\n",
       " '_SUCCESS']"
      ]
     },
     "execution_count": 13,
     "metadata": {},
     "output_type": "execute_result"
    }
   ],
   "source": [
    "os.listdir(\"./dataOutput/json\")"
   ]
  }
 ],
 "metadata": {
  "kernelspec": {
   "display_name": "Python 3",
   "language": "python",
   "name": "python3"
  },
  "language_info": {
   "codemirror_mode": {
    "name": "ipython",
    "version": 3
   },
   "file_extension": ".py",
   "mimetype": "text/x-python",
   "name": "python",
   "nbconvert_exporter": "python",
   "pygments_lexer": "ipython3",
   "version": "3.10.11"
  }
 },
 "nbformat": 4,
 "nbformat_minor": 2
}
