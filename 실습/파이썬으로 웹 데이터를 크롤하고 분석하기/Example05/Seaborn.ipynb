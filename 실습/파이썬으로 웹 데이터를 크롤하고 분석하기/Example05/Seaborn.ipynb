{
 "cells": [
  {
   "cell_type": "code",
   "execution_count": null,
   "metadata": {},
   "outputs": [],
   "source": [
    "# 코드가 간결한 것에 비해 고수준의 다양한 그래프를 구현할 수 있음\n",
    "# !pip install seaborn\n",
    "import seaborn as sns\n",
    "\n",
    "tips = sns.load_dataset(\"tips\")\n",
    "sns.relplot(\n",
    "    data=tips,\n",
    "    x=\"total_bill\", y=\"tip\", col=\"time\", \n",
    "    hue=\"smoker\", style=\"smoker\", size=\"size\"\n",
    ")\n"
   ]
  },
  {
   "cell_type": "code",
   "execution_count": null,
   "metadata": {},
   "outputs": [],
   "source": [
    "# 시각화에 필요한 라이브러리를 불러와봅시다.\n",
    "import seaborn as sns"
   ]
  },
  {
   "cell_type": "code",
   "execution_count": null,
   "metadata": {},
   "outputs": [],
   "source": [
    "# Scatterplot을 직접 그려봅시다\n",
    "# 값 x=[1, 3, 2, 4]\n",
    "# 값 y=[0.7,0.2,0.1,0.05]\n",
    "\n",
    "sns.lineplot(x=[1, 3, 2, 4], y=[4, 3, 2, 1])"
   ]
  },
  {
   "cell_type": "code",
   "execution_count": null,
   "metadata": {},
   "outputs": [],
   "source": [
    "# Barplot을 직접 그려봅시다\n",
    "# 범주 x=[1,2,3,4]\n",
    "# 값 y=[0.7,0.2,0.1,0.05]\n",
    "sns.barplot(x=[\"Amy\",\"Bob\",\"Cat\",\"Dog\"],y=[0.7,0.2,0.1,0.05])"
   ]
  },
  {
   "cell_type": "code",
   "execution_count": null,
   "metadata": {},
   "outputs": [],
   "source": [
    "# matplotlib.pyplot을 불러와봅시다.\n",
    "import matplotlib.pyplot as plt"
   ]
  },
  {
   "cell_type": "code",
   "execution_count": null,
   "metadata": {},
   "outputs": [],
   "source": [
    "# Barplot을 직접 그려봅시다\n",
    "# 범주 x=[1,2,3,4]\n",
    "# 값 y=[0.7,0.2,0.1,0.05]\n",
    "sns.barplot(x=[\"Amy\",\"Bob\",\"Cat\",\"Dog\"],y=[0.7,0.2,0.1,0.05])\n",
    "plt.title(\"Bar Plot\")\n",
    "plt.show()"
   ]
  },
  {
   "cell_type": "code",
   "execution_count": null,
   "metadata": {},
   "outputs": [],
   "source": [
    "# xlabel과 ylabel을 추가해봅시다.\n",
    "# Barplot을 직접 그려봅시다\n",
    "# 범주 x=[1,2,3,4]\n",
    "# 값 y=[0.7,0.2,0.1,0.05]\n",
    "sns.barplot(x=[\"Amy\",\"Bob\",\"Cat\",\"Dog\"],y=[0.7,0.2,0.1,0.05])\n",
    "plt.title(\"Bar Plot\")\n",
    "plt.xlabel(\"X label\")\n",
    "plt.ylabel(\"Y label\")\n",
    "plt.show()"
   ]
  },
  {
   "cell_type": "code",
   "execution_count": null,
   "metadata": {},
   "outputs": [],
   "source": [
    "# lineplot에서 ylim을 2~3으로 제한해봅시다.\n",
    "# 값 x=[1, 3, 2, 4]\n",
    "# 값 y=[0.7,0.2,0.1,0.05]\n",
    "sns.lineplot(x=[1, 3, 2, 4], y=[4, 3, 2, 1])\n",
    "plt.ylim(0,10)\n",
    "plt.show()"
   ]
  },
  {
   "cell_type": "code",
   "execution_count": null,
   "metadata": {},
   "outputs": [],
   "source": [
    "# 크기를 (20, 10)으로 지정해봅시다.\n",
    "# 값 x=[1, 3, 2, 4]\n",
    "# 값 y=[0.7,0.2,0.1,0.05]\n",
    "plt.figure(figsize=(20, 10))   ## 그래프를 그리기 앞에다 작성해야 적용할 수 있음\n",
    "sns.lineplot(x=[1, 3, 2, 4], y=[4, 3, 2, 1])\n",
    "plt.ylim(2,3)\n",
    "plt.show()"
   ]
  },
  {
   "cell_type": "markdown",
   "metadata": {},
   "source": [
    "## 기상청 날씨 스크래핑하기\n",
    "- https://www.weather.go.kr/w/weather/forecast/short-term.do"
   ]
  },
  {
   "cell_type": "code",
   "execution_count": 23,
   "metadata": {},
   "outputs": [],
   "source": [
    "# 스크래핑에 필요한 라이브러리를 불러와봅시다.\n",
    "from selenium import webdriver\n",
    "from selenium.webdriver import ActionChains\n",
    "from webdriver_manager.chrome import ChromeDriverManager\n",
    "from selenium.webdriver.common.actions.action_builder import ActionBuilder\n",
    "from selenium.webdriver import Keys, ActionChains\n",
    "from selenium.webdriver.chrome.service import Service\n",
    "from selenium.webdriver.common.by import By"
   ]
  },
  {
   "cell_type": "code",
   "execution_count": null,
   "metadata": {},
   "outputs": [],
   "source": [
    "# driver를 이용해 기상청 날씨 데이터를 가져와봅시다.\n",
    "driver = webdriver.Chrome(service=Service(ChromeDriverManager().install()))\n",
    "driver.get(\"https://www.weather.go.kr/w/weather/forecast/short-term.do\")\n",
    "driver.implicitly_wait(1)\n",
    "temps = driver.find_element(By.ID, \"my-tchart\").text\n",
    "# 문자열 하나가 아래로 출력되기 때문에 개행을 기준으로 스플릿\n",
    "temps = [int(i) for i in temps.replace(\"℃\",\"\").split(\"\\n\")]\n",
    "print(temps)\n"
   ]
  },
  {
   "cell_type": "code",
   "execution_count": null,
   "metadata": {},
   "outputs": [],
   "source": [
    "# 받아온 데이터를 통해 꺾은선 그래프를 그려봅시다.\n",
    "# x = Elapsed Time(0~len(temperatures)\n",
    "# y = temperatures\n",
    "\n",
    "import seaborn as sns\n",
    "sns.lineplot(\n",
    "    x = [i for i in range(len(temps))],\n",
    "    y = temps\n",
    ")"
   ]
  },
  {
   "cell_type": "code",
   "execution_count": null,
   "metadata": {},
   "outputs": [],
   "source": [
    "# ylim을 조금 더 길게 잡아봅시다\n",
    "import matplotlib.pyplot as plt\n",
    "import seaborn as sns\n",
    "plt.ylim(min(temps)-2, max(temps)+2)\n",
    "plt.title(\"Expected Temperature from now on\")\n",
    "sns.lineplot(\n",
    "    x = [i for i in range(len(temps))],\n",
    "    y = temps\n",
    ")\n",
    "\n",
    "plt.show()"
   ]
  },
  {
   "cell_type": "markdown",
   "metadata": {},
   "source": [
    "## Target: 해시코드 질문 태그의 빈도 확인\n",
    "\n",
    "- 이전에 진행한 해시코드(https://hashcode.co.kr) 사이트에선 다양한 질문이 있음\n",
    "- 질문제목 아래에 \"태그\"가 존재하는데 태그의 빈도를 측정하여 시각화 \n",
    "\n"
   ]
  },
  {
   "cell_type": "code",
   "execution_count": 2,
   "metadata": {},
   "outputs": [],
   "source": [
    "# 다음 User-Agent를 추가해봅시다.\n",
    "user_agent = {\"User-Agent\": \"Mozilla/5.0 (Macintosh; Intel Mac OS X 10_15_4) AppleWebKit/537.36 (KHTML, like Gecko) Chrome/83.0.4103.97 Safari/537.36\"}"
   ]
  },
  {
   "cell_type": "code",
   "execution_count": 12,
   "metadata": {},
   "outputs": [],
   "source": [
    "# 필요한 라이브러리를 불러오기\n",
    "import requests\n",
    "from bs4 import BeautifulSoup\n",
    "import time\n"
   ]
  },
  {
   "cell_type": "code",
   "execution_count": null,
   "metadata": {},
   "outputs": [],
   "source": [
    "# 요청을 진행해봅시다.\n",
    "# 응답을 바탕으로 BeautifulSoup 객체를 생성해봅시다.\n",
    "# 질문의 빈도를 체크하는 dict를 만든 후, 빈도를 체크해봅시다.\n",
    "frequency = {}\n",
    "\n",
    "for i in range(1,11):\n",
    "    res = requests.get(f\"https://hashcode.co.kr/?page={i}\",user_agent)\n",
    "    soup = BeautifulSoup(res.text, \"html.parser\")\n",
    "\n",
    "    # 1. ul 태그를 모두 찾기\n",
    "    # 2. 1번 안에 있는 li 태그의 text를 추출\n",
    "\n",
    "    ul_tags = soup.find_all(\"ul\",\"question-tags\")\n",
    "    for ul in ul_tags:\n",
    "        li_tags = ul.find_all(\"li\")\n",
    "        for li in li_tags:\n",
    "            k = li.text.strip()\n",
    "            frequency[k] = frequency.get(k,0) +1\n",
    "    \n",
    "    time.sleep(0.5)\n",
    "print(frequency)"
   ]
  },
  {
   "cell_type": "code",
   "execution_count": null,
   "metadata": {},
   "outputs": [],
   "source": [
    "# Counter를 사용해 가장 빈도가 높은 value들을 추출합니다.\n",
    "from collections import Counter\n",
    "counter = Counter(frequency)\n",
    "counter.most_common(10)"
   ]
  },
  {
   "cell_type": "code",
   "execution_count": null,
   "metadata": {},
   "outputs": [],
   "source": [
    "# Seaborn을 이용해 이를 Barplot으로 그립니다.\n",
    "import seaborn as sns\n",
    "x = [elem[0] for elem in counter.most_common(10)]\n",
    "y = [elem[1] for elem in counter.most_common(10)]\n",
    "sns.barplot(x=x, y=y, hue=x)"
   ]
  },
  {
   "cell_type": "code",
   "execution_count": null,
   "metadata": {},
   "outputs": [],
   "source": [
    "# figure, xlabel, ylabel, title을 적절하게 설정해서 시각화를 완성해봅시다.\n",
    "import matplotlib.pyplot as plt\n",
    "\n",
    "plt.figure(figsize=(20,10))\n",
    "plt.title(\"Frequency of qeustion in Hashcode\")\n",
    "plt.xlabel(\"Tag\")\n",
    "plt.ylabel(\"Frequency\")\n",
    "\n",
    "sns.barplot(x=x,y=y,hue=x)\n",
    "\n",
    "plt.show()"
   ]
  }
 ],
 "metadata": {
  "kernelspec": {
   "display_name": "Python 3",
   "language": "python",
   "name": "python3"
  },
  "language_info": {
   "codemirror_mode": {
    "name": "ipython",
    "version": 3
   },
   "file_extension": ".py",
   "mimetype": "text/x-python",
   "name": "python",
   "nbconvert_exporter": "python",
   "pygments_lexer": "ipython3",
   "version": "3.10.11"
  }
 },
 "nbformat": 4,
 "nbformat_minor": 2
}
